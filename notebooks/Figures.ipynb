{
 "cells": [
  {
   "cell_type": "code",
   "execution_count": 1,
   "metadata": {},
   "outputs": [],
   "source": [
    "%matplotlib inline\n",
    "from matplotlib import pyplot as plt\n",
    "import numpy as np\n",
    "from scipy.stats import gaussian_kde\n",
    "import tqdm"
   ]
  },
  {
   "cell_type": "code",
   "execution_count": 2,
   "metadata": {},
   "outputs": [],
   "source": [
    "from matplotlib import rcParams\n",
    "rcParams['text.usetex'] = True\n",
    "rcParams['font.size'] = 10\n",
    "rcParams['figure.autolayout'] = True\n",
    "rcParams['font.family'] = 'sans-serif'\n",
    "rcParams['figure.figsize'] = (4, 4)\n",
    "rcParams['axes.xmargin'] = 0.02\n",
    "rcParams['axes.ymargin'] = 0.02\n",
    "rcParams['savefig.dpi'] = 600"
   ]
  },
  {
   "cell_type": "code",
   "execution_count": 4,
   "metadata": {},
   "outputs": [
    {
     "name": "stdout",
     "output_type": "stream",
     "text": [
      "Connecting dbadmin@dimitri-proj0.cda95qzjbnvs.us-east-1.rds.amazonaws.com:3306\n"
     ]
    }
   ],
   "source": [
    "from photonics.sim import *\n",
    "from photonics.demix import *"
   ]
  },
  {
   "cell_type": "code",
   "execution_count": 10,
   "metadata": {},
   "outputs": [],
   "source": [
    "SpikeSNR.populate()\n",
    "Cosine.populate()"
   ]
  },
  {
   "cell_type": "code",
   "execution_count": null,
   "metadata": {},
   "outputs": [],
   "source": [
    "s12 = (SpikeSNR & 'design=12' & 'sample=1').fetch1('snr')"
   ]
  },
  {
   "cell_type": "code",
   "execution_count": null,
   "metadata": {},
   "outputs": [],
   "source": [
    "s11 = (SpikeSNR & 'design=11' & 'sample=1').fetch1('snr')"
   ]
  },
  {
   "cell_type": "code",
   "execution_count": null,
   "metadata": {},
   "outputs": [],
   "source": [
    "(s12-s11).mean()"
   ]
  },
  {
   "cell_type": "code",
   "execution_count": null,
   "metadata": {},
   "outputs": [],
   "source": [
    "plt.scatter(np.log10(s11), np.log10(s12), s=1)"
   ]
  },
  {
   "cell_type": "code",
   "execution_count": null,
   "metadata": {},
   "outputs": [],
   "source": [
    "samples = [2, 4, 6, 8]\n",
    "samples = [6, 8]\n",
    "designs = [1, 4, 11, 12]\n",
    "\n",
    "for design, sample in tqdm.tqdm([(design, sample) for design in designs for sample in samples]):\n",
    "    fig, ax = plt.subplots(1, 1, figsize=(2.6, 1.8), sharex=True, sharey=True)\n",
    "    key = dict(design=design, sample=sample)\n",
    "    snrs, cosines, density = (SpikeSNR * Cosine * Sample & key).fetch1(\n",
    "        'snr', 'cosines', 'density')\n",
    "\n",
    "    selection, xyz = (Demix*Tissue & key).fetch1('selection', 'cell_xyz')\n",
    "    xyz = xyz[selection]\n",
    "    dxyz = np.stack((Geometry.Detector & key).fetch('d_center_x', 'd_center_y', 'd_center_z')).T\n",
    "    ix = (np.logical_and(xyz > dxyz.min(axis=0), xyz < dxyz.max(axis=0))).any(axis=1)\n",
    "    cos = cosines[ix]\n",
    "    snr = snrs[ix]\n",
    "    lcos = np.log10(np.maximum(0.01, cos))\n",
    "    lsnr = np.log10(np.maximum(0.01, snr))\n",
    "    xy = np.vstack([lsnr - lcos, lcos])\n",
    "    z = gaussian_kde(xy)(xy)\n",
    "    h = ax.scatter(snr/np.maximum(cos, 1e-6), cos, c=z, s=2, marker='o', lw=0, cmap='inferno', alpha=0.3)\n",
    "    h.set_clim([0, 3.0])\n",
    "    ax.plot([1, 10000], [3, 3/10000], color=[0.2, 0.6, 1.0], linewidth=2, alpha=0.6, ls='-')\n",
    "    ax.plot([1, 10000], [1, 1/10000], color=[0.2, 0.6, 1.0], linewidth=1, alpha=0.6, ls='--')\n",
    "    ax.plot([1, 10000], [10, 10/10000], color=[0.2, 0.6, 1.0], linewidth=1, alpha=0.6, ls='--')\n",
    "    ax.set_xticks(10. ** np.r_[-5:1])\n",
    "    ax.set_yticks(10. ** np.r_[-5:5])\n",
    "    ax.set_yscale('log')\n",
    "    ax.set_xscale('log')\n",
    "    ax.set_aspect('equal')\n",
    "    ax.yaxis.set_ticks_position('right')\n",
    "    ax.xaxis.set_ticks_position('bottom')\n",
    "    ax.spines['right'].set_visible(False)\n",
    "    ax.spines['top'].set_visible(False)\n",
    "    ax.set_frame_on(False)\n",
    "    ax.grid(True, linewidth=0.5, linestyle=':')\n",
    "    ax.set_xlim([3.0, 2.e3])\n",
    "    ax.set_ylim([0.01, 1.02])\n",
    "    # ax.set_title('{density}/mm$^2$'.format(density=density))\n",
    "    # plt.setp(ax.get_yticklabels(), visible=False)\n",
    "    fig.savefig(f'figures/sig_{design:03d}_{density:06d}.png')"
   ]
  },
  {
   "cell_type": "code",
   "execution_count": null,
   "metadata": {},
   "outputs": [],
   "source": [
    "!open figures"
   ]
  },
  {
   "cell_type": "code",
   "execution_count": 12,
   "metadata": {},
   "outputs": [
    {
     "data": {
      "image/png": "[encoded data removed]",
      "text/plain": [
       "<Figure size 252x252 with 1 Axes>"
      ]
     },
     "metadata": {
      "needs_background": "light"
     },
     "output_type": "display_data"
    }
   ],
   "source": [
    "fig, ax = plt.subplots(1, 1, figsize=(3.5, 3.5))\n",
    "for design, marker in zip((1, 4, 11, 12), ('o-', 'v-', 's-', 'k*')):\n",
    "    density, snr = (SpikeSNR * Sample & {'design': design}).fetch('density', 'snr')\n",
    "    ax.plot(density, [(s > 1.5).mean() for s in snr], marker, ms=6)\n",
    "\n",
    "ax.set_ylim([0, 1.02])\n",
    "ax.legend(('Design 1', 'Design 2', 'Design 3' ,'Design 3$^*$'), loc='center left')\n",
    "ax.set_xscale('log')\n",
    "ax.set_frame_on(False)\n",
    "ax.grid(True)\n",
    "ax.set_xlabel('source density (mm$^{-3}$)')\n",
    "ax.set_ylabel('fraction sources at demixed spike $\\mathsf{SNR} > 1.5$')\n",
    "fig.savefig('figures/comparison.pdf')\n",
    "    "
   ]
  },
  {
   "cell_type": "code",
   "execution_count": 24,
   "metadata": {},
   "outputs": [
    {
     "name": "stdout",
     "output_type": "stream",
     "text": [
      "Design, Density, Percent\n",
      "1, 1000, 100.00\n",
      "1, 3000, 100.00\n",
      "1, 5000, 99.95\n",
      "1, 10000, 98.50\n",
      "1, 20000, 92.13\n",
      "1, 35000, 79.92\n",
      "1, 50000, 59.85\n",
      "1, 75000, 35.00\n",
      "1, 100000, 23.33\n",
      "4, 1000, 100.00\n",
      "4, 3000, 100.00\n",
      "4, 5000, 100.00\n",
      "4, 10000, 99.97\n",
      "4, 20000, 99.49\n",
      "4, 35000, 96.12\n",
      "4, 50000, 90.46\n",
      "4, 75000, 75.55\n",
      "4, 100000, 42.58\n",
      "11, 1000, 100.00\n",
      "11, 3000, 100.00\n",
      "11, 5000, 100.00\n",
      "11, 10000, 100.00\n",
      "11, 20000, 99.85\n",
      "11, 35000, 98.19\n",
      "11, 50000, 95.76\n",
      "11, 75000, 89.60\n",
      "11, 100000, 74.87\n",
      "12, 1000, 100.00\n",
      "12, 3000, 100.00\n",
      "12, 5000, 100.00\n",
      "12, 10000, 100.00\n",
      "12, 20000, 99.83\n",
      "12, 35000, 98.40\n",
      "12, 50000, 95.77\n",
      "12, 75000, 89.10\n",
      "12, 100000, 71.27\n"
     ]
    }
   ],
   "source": [
    "print('Design, Density, Percent')\n",
    "for design, density, snr in zip(*((SpikeSNR * Sample) & 'design in (1, 4, 11, 12)').fetch('design', 'density', 'snr')):\n",
    "    print(f'{design}, {density}, {100*(snr>1.5).mean():3.2f}')"
   ]
  },
  {
   "cell_type": "code",
   "execution_count": null,
   "metadata": {},
   "outputs": [],
   "source": [
    "30 * "
   ]
  },
  {
   "cell_type": "code",
   "execution_count": 8,
   "metadata": {},
   "outputs": [
    {
     "data": {
      "text/html": [
       "\n",
       "        \n",
       "        <style type=\"text/css\">\n",
       "            .Relation{\n",
       "                border-collapse:collapse;\n",
       "            }\n",
       "            .Relation th{\n",
       "                background: #A0A0A0; color: #ffffff; padding:4px; border:#f0e0e0 1px solid;\n",
       "                font-weight: normal; font-family: monospace; font-size: 100%;\n",
       "            }\n",
       "            .Relation td{\n",
       "                padding:4px; border:#f0e0e0 1px solid; font-size:100%;\n",
       "            }\n",
       "            .Relation tr:nth-child(odd){\n",
       "                background: #ffffff;\n",
       "            }\n",
       "            .Relation tr:nth-child(even){\n",
       "                background: #f3f1ff;\n",
       "            }\n",
       "            /* Tooltip container */\n",
       "            .djtooltip {\n",
       "            }\n",
       "            /* Tooltip text */\n",
       "            .djtooltip .djtooltiptext {\n",
       "                visibility: hidden;\n",
       "                width: 120px;\n",
       "                background-color: black;\n",
       "                color: #fff;\n",
       "                text-align: center;\n",
       "                padding: 5px 0;\n",
       "                border-radius: 6px;\n",
       "                /* Position the tooltip text - see examples below! */\n",
       "                position: absolute;\n",
       "                z-index: 1;\n",
       "            }\n",
       "            #primary {\n",
       "                font-weight: bold;\n",
       "                color: black;\n",
       "            }\n",
       "\n",
       "            #nonprimary {\n",
       "                font-weight: normal;\n",
       "                color: white;\n",
       "            }\n",
       "\n",
       "            /* Show the tooltip text when you mouse over the tooltip container */\n",
       "            .djtooltip:hover .djtooltiptext {\n",
       "                visibility: visible;\n",
       "            }\n",
       "        </style>\n",
       "        \n",
       "        <b></b>\n",
       "            <div style=\"max-height:1000px;max-width:1500px;overflow:auto;\">\n",
       "            <table border=\"1\" class=\"Relation\">\n",
       "                <thead> <tr style=\"text-align: right;\"> <th> <div class=\"djtooltip\">\n",
       "                                <p id=\"primary\">sample</p>\n",
       "                                <span class=\"djtooltiptext\"></span>\n",
       "                            </div></th><th><div class=\"djtooltip\">\n",
       "                                <p id=\"nonprimary\">density</p>\n",
       "                                <span class=\"djtooltiptext\">cells per cubic mm</span>\n",
       "                            </div> </th> </tr> </thead>\n",
       "                <tbody> <tr> <td>0</td>\n",
       "<td>1000</td></tr><tr><td>1</td>\n",
       "<td>3000</td></tr><tr><td>2</td>\n",
       "<td>5000</td></tr><tr><td>3</td>\n",
       "<td>10000</td></tr><tr><td>4</td>\n",
       "<td>20000</td></tr><tr><td>5</td>\n",
       "<td>35000</td></tr><tr><td>6</td>\n",
       "<td>50000</td></tr><tr><td>7</td>\n",
       "<td>75000</td></tr><tr><td>8</td>\n",
       "<td>100000</td> </tr> </tbody>\n",
       "            </table>\n",
       "            \n",
       "            <p>Total: 9</p></div>\n",
       "            "
      ],
      "text/plain": [
       "*sample    density    \n",
       "+--------+ +---------+\n",
       "0          1000       \n",
       "1          3000       \n",
       "2          5000       \n",
       "3          10000      \n",
       "4          20000      \n",
       "5          35000      \n",
       "6          50000      \n",
       "7          75000      \n",
       "8          100000     \n",
       " (Total: 9)"
      ]
     },
     "execution_count": 8,
     "metadata": {},
     "output_type": "execute_result"
    }
   ],
   "source": [
    "Sample()"
   ]
  },
  {
   "cell_type": "code",
   "execution_count": null,
   "metadata": {},
   "outputs": [],
   "source": [
    "plt.plot((20000, 35000), (440, 1015))\n",
    "440/20"
   ]
  },
  {
   "cell_type": "code",
   "execution_count": null,
   "metadata": {},
   "outputs": [],
   "source": [
    "1015/35"
   ]
  },
  {
   "cell_type": "code",
   "execution_count": null,
   "metadata": {},
   "outputs": [],
   "source": [
    "50*35"
   ]
  },
  {
   "cell_type": "code",
   "execution_count": null,
   "metadata": {},
   "outputs": [],
   "source": [
    "dj.jobs"
   ]
  },
  {
   "cell_type": "code",
   "execution_count": null,
   "metadata": {},
   "outputs": [],
   "source": [
    "schema.jobs"
   ]
  },
  {
   "cell_type": "code",
   "execution_count": null,
   "metadata": {},
   "outputs": [],
   "source": [
    "(schema.jobs & 'status=\"error\"').delete()"
   ]
  },
  {
   "cell_type": "code",
   "execution_count": null,
   "metadata": {},
   "outputs": [],
   "source": [
    "schema.jobs.delete()"
   ]
  },
  {
   "cell_type": "code",
   "execution_count": null,
   "metadata": {},
   "outputs": [],
   "source": [
    "dj.kill()"
   ]
  },
  {
   "cell_type": "code",
   "execution_count": null,
   "metadata": {},
   "outputs": [],
   "source": []
  }
 ],
 "metadata": {
  "kernelspec": {
   "display_name": "Python 3",
   "language": "python",
   "name": "python3"
  },
  "language_info": {
   "codemirror_mode": {
    "name": "ipython",
    "version": 3
   },
   "file_extension": ".py",
   "mimetype": "text/x-python",
   "name": "python",
   "nbconvert_exporter": "python",
   "pygments_lexer": "ipython3",
   "version": "3.7.3"
  }
 },
 "nbformat": 4,
 "nbformat_minor": 4
}
