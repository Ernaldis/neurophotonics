{
 "cells": [
  {
   "cell_type": "code",
   "execution_count": 1,
   "metadata": {},
   "outputs": [],
   "source": [
    "%matplotlib inline\n",
    "from matplotlib import pyplot as plt\n",
    "import numpy as np\n",
    "from scipy.stats import gaussian_kde\n",
    "import tqdm"
   ]
  },
  {
   "cell_type": "code",
   "execution_count": 2,
   "metadata": {},
   "outputs": [
    {
     "name": "stdout",
     "output_type": "stream",
     "text": [
      "Connecting dbadmin@dimitri-proj0.cda95qzjbnvs.us-east-1.rds.amazonaws.com:3306\n"
     ]
    }
   ],
   "source": [
    "from photonics.sim import *\n",
    "# from photonics.demix import *"
   ]
  },
  {
   "cell_type": "code",
   "execution_count": 3,
   "metadata": {},
   "outputs": [
    {
     "name": "stderr",
     "output_type": "stream",
     "text": [
      "100%|██████████| 117719/117719 [01:41<00:00, 1154.78it/s]\n"
     ]
    }
   ],
   "source": [
    "Tissue.populate(dict(design=21))"
   ]
  },
  {
   "cell_type": "code",
   "execution_count": 4,
   "metadata": {},
   "outputs": [
    {
     "data": {
      "image/svg+xml": [
       "<svg height=\"433pt\" viewBox=\"0.00 0.00 430.00 433.00\" width=\"430pt\" xmlns=\"http://www.w3.org/2000/svg\" xmlns:xlink=\"http://www.w3.org/1999/xlink\">\n",
       "<g class=\"graph\" id=\"graph0\" transform=\"scale(1 1) rotate(0) translate(4 429)\">\n",
       "<title>%3</title>\n",
       "<polygon fill=\"#ffffff\" points=\"-4,4 -4,-429 426,-429 426,4 -4,4\" stroke=\"transparent\"/>\n",
       "<!-- Design -->\n",
       "<g class=\"node\" id=\"node1\">\n",
       "<title>Design</title>\n",
       "<g id=\"a_node1\"><a xlink:title=\"design               \r",
       "------------------------------\r",
       "design_title         \r",
       "design_description   \r",
       "design_path          \r",
       "geometry_file        \r",
       "center_offset        \r",
       "efields              \r",
       "dfields              \r",
       "\">\n",
       "<polygon fill=\"#000000\" fill-opacity=\"0.125490\" points=\"236.5,-425 189.5,-425 189.5,-390 236.5,-390 236.5,-425\" stroke=\"transparent\"/>\n",
       "<text fill=\"#000000\" font-family=\"arial\" font-size=\"10.00\" text-anchor=\"start\" text-decoration=\"underline\" x=\"197.5\" y=\"-406\">Design</text>\n",
       "</a>\n",
       "</g>\n",
       "</g>\n",
       "<!-- Geometry -->\n",
       "<g class=\"node\" id=\"node14\">\n",
       "<title>Geometry</title>\n",
       "<g id=\"a_node14\"><a xlink:title=\"→ Design\r",
       "\">\n",
       "<ellipse cx=\"213\" cy=\"-336.5\" fill=\"#00007f\" fill-opacity=\"0.250980\" rx=\"42.5\" ry=\"17.5\" stroke=\"#00007f\" stroke-opacity=\"0.250980\"/>\n",
       "<text fill=\"#00007f\" font-family=\"arial\" font-size=\"12.00\" text-anchor=\"middle\" x=\"213\" y=\"-333.4\">Geometry</text>\n",
       "</a>\n",
       "</g>\n",
       "</g>\n",
       "<!-- Design&#45;&gt;Geometry -->\n",
       "<g class=\"edge\" id=\"edge1\">\n",
       "<title>Design-&gt;Geometry</title>\n",
       "<path d=\"M213,-389.9494C213,-379.1083 213,-365.2366 213,-354.3418\" fill=\"none\" stroke=\"#000000\" stroke-opacity=\"0.250980\" stroke-width=\"2\"/>\n",
       "</g>\n",
       "<!-- Sample -->\n",
       "<g class=\"node\" id=\"node2\">\n",
       "<title>Sample</title>\n",
       "<g id=\"a_node2\"><a xlink:title=\"sample               \r",
       "------------------------------\r",
       "density              \r",
       "\">\n",
       "<polygon fill=\"#000000\" fill-opacity=\"0.125490\" points=\"178,-159 128,-159 128,-124 178,-124 178,-159\" stroke=\"transparent\"/>\n",
       "<text fill=\"#000000\" font-family=\"arial\" font-size=\"10.00\" text-anchor=\"start\" text-decoration=\"underline\" x=\"136\" y=\"-140\">Sample</text>\n",
       "</a>\n",
       "</g>\n",
       "</g>\n",
       "<!-- Demix -->\n",
       "<g class=\"node\" id=\"node7\">\n",
       "<title>Demix</title>\n",
       "<g id=\"a_node7\"><a xlink:title=\"→ IlluminationCycle\r",
       "→ Sample\r",
       "------------------------------\r",
       "selection            \r",
       "mix_norm             \r",
       "demix_norm           \r",
       "bias_norm            \r",
       "trans_bias_norm      \r",
       "avg_emitter_power    \r",
       "\">\n",
       "<ellipse cx=\"202\" cy=\"-75\" fill=\"#ff0000\" fill-opacity=\"0.125490\" rx=\"13\" ry=\"13\" stroke=\"#ff0000\" stroke-opacity=\"0.125490\"/>\n",
       "<text fill=\"#7f0000\" font-family=\"arial\" font-size=\"12.00\" text-anchor=\"middle\" x=\"202\" y=\"-71.9\">Demix</text>\n",
       "</a>\n",
       "</g>\n",
       "</g>\n",
       "<!-- Sample&#45;&gt;Demix -->\n",
       "<g class=\"edge\" id=\"edge2\">\n",
       "<title>Sample-&gt;Demix</title>\n",
       "<path d=\"M166.1311,-123.6792C175.0892,-111.5218 186.6528,-95.8283 194.1935,-85.5946\" fill=\"none\" stroke=\"#000000\" stroke-opacity=\"0.250980\" stroke-width=\".75\"/>\n",
       "</g>\n",
       "<!-- IlluminationCycle -->\n",
       "<g class=\"node\" id=\"node3\">\n",
       "<title>IlluminationCycle</title>\n",
       "<g id=\"a_node3\"><a xlink:title=\"→ Fluorescence\r",
       "→ Detection\r",
       "------------------------------\r",
       "nframes              \r",
       "illumination         \r",
       "\">\n",
       "<ellipse cx=\"251\" cy=\"-141.5\" fill=\"#ff0000\" fill-opacity=\"0.125490\" rx=\"13\" ry=\"13\" stroke=\"#ff0000\" stroke-opacity=\"0.125490\"/>\n",
       "<text fill=\"#7f0000\" font-family=\"arial\" font-size=\"12.00\" text-anchor=\"middle\" x=\"251\" y=\"-138.4\">IlluminationCycle</text>\n",
       "</a>\n",
       "</g>\n",
       "</g>\n",
       "<!-- IlluminationCycle&#45;&gt;Demix -->\n",
       "<g class=\"edge\" id=\"edge3\">\n",
       "<title>IlluminationCycle-&gt;Demix</title>\n",
       "<path d=\"M243.1273,-130.8156C234.0375,-118.4794 219.166,-98.2967 210.0159,-85.8788\" fill=\"none\" stroke=\"#000000\" stroke-opacity=\"0.250980\" stroke-width=\".75\"/>\n",
       "</g>\n",
       "<!-- Geometry.Emitter -->\n",
       "<g class=\"node\" id=\"node4\">\n",
       "<title>Geometry.Emitter</title>\n",
       "<g id=\"a_node4\"><a xlink:title=\"→ Geometry\r",
       "emitter              \r",
       "------------------------------\r",
       "→ EField\r",
       "e_center_x           \r",
       "e_center_y           \r",
       "e_center_z           \r",
       "e_norm_x             \r",
       "e_norm_y             \r",
       "e_norm_z             \r",
       "e_top_x              \r",
       "e_top_y              \r",
       "e_top_z              \r",
       "e_height             \r",
       "e_width              \r",
       "e_thick              \r",
       "\">\n",
       "<polygon fill=\"transparent\" points=\"168.5,-279.5 75.5,-279.5 75.5,-260.5 168.5,-260.5 168.5,-279.5\" stroke=\"transparent\"/>\n",
       "<text fill=\"#000000\" font-family=\"arial\" font-size=\"10.00\" text-anchor=\"start\" text-decoration=\"underline\" x=\"83.5\" y=\"-268.5\">Geometry.Emitter</text>\n",
       "</a>\n",
       "</g>\n",
       "</g>\n",
       "<!-- Fluorescence.Emitter -->\n",
       "<g class=\"node\" id=\"node16\">\n",
       "<title>Fluorescence.Emitter</title>\n",
       "<g id=\"a_node16\"><a xlink:title=\"→ Fluorescence\r",
       "→ Geometry.Emitter\r",
       "------------------------------\r",
       "reemitted_photons    \r",
       "photons_per_joule    \r",
       "\">\n",
       "<polygon fill=\"transparent\" points=\"110,-151 0,-151 0,-132 110,-132 110,-151\" stroke=\"transparent\"/>\n",
       "<text fill=\"#000000\" font-family=\"arial\" font-size=\"10.00\" text-anchor=\"middle\" x=\"55\" y=\"-139\">Fluorescence.Emitter</text>\n",
       "</a>\n",
       "</g>\n",
       "</g>\n",
       "<!-- Geometry.Emitter&#45;&gt;Fluorescence.Emitter -->\n",
       "<g class=\"edge\" id=\"edge4\">\n",
       "<title>Geometry.Emitter-&gt;Fluorescence.Emitter</title>\n",
       "<path d=\"M109.0056,-260.1539C98.0352,-251.1467 82.7549,-236.8429 74,-221 61.3709,-198.1463 57.0807,-167.075 55.6664,-151.4051\" fill=\"none\" stroke=\"#000000\" stroke-opacity=\"0.250980\" stroke-width=\"2\"/>\n",
       "</g>\n",
       "<!-- Cosine -->\n",
       "<g class=\"node\" id=\"node5\">\n",
       "<title>Cosine</title>\n",
       "<g id=\"a_node5\"><a xlink:title=\"→ Demix\r",
       "------------------------------\r",
       "cosines              \r",
       "\">\n",
       "<ellipse cx=\"161\" cy=\"-13\" fill=\"#ff0000\" fill-opacity=\"0.125490\" rx=\"13\" ry=\"13\" stroke=\"#ff0000\" stroke-opacity=\"0.125490\"/>\n",
       "<text fill=\"#7f0000\" font-family=\"arial\" font-size=\"12.00\" text-anchor=\"middle\" x=\"161\" y=\"-9.9\">Cosine</text>\n",
       "</a>\n",
       "</g>\n",
       "</g>\n",
       "<!-- DSim -->\n",
       "<g class=\"node\" id=\"node6\">\n",
       "<title>DSim</title>\n",
       "<g id=\"a_node6\"><a xlink:title=\"dsim                 \r",
       "------------------------------\r",
       "dsim_description     \r",
       "detector_type=&quot;one-sided&quot; \r",
       "detector_width=10.00 \r",
       "detector_height=10.00 \r",
       "anisotropy=0.88      \r",
       "absorption_length=14000 \r",
       "scatter_length=100   \r",
       "volume_dimx=1000     \r",
       "volume_dimy=1000     \r",
       "volume_dimz=1000     \r",
       "pitch=2.2            \r",
       "\">\n",
       "<polygon fill=\"#000000\" fill-opacity=\"0.125490\" points=\"326.5,-425 285.5,-425 285.5,-390 326.5,-390 326.5,-425\" stroke=\"transparent\"/>\n",
       "<text fill=\"#000000\" font-family=\"arial\" font-size=\"10.00\" text-anchor=\"start\" text-decoration=\"underline\" x=\"293.5\" y=\"-406\">DSim</text>\n",
       "</a>\n",
       "</g>\n",
       "</g>\n",
       "<!-- DField -->\n",
       "<g class=\"node\" id=\"node13\">\n",
       "<title>DField</title>\n",
       "<g id=\"a_node13\"><a xlink:title=\"→ DSim\r",
       "------------------------------\r",
       "volume               \r",
       "max_value            \r",
       "total_photons        \r",
       "INDEX (volume)\r",
       "\">\n",
       "<ellipse cx=\"306\" cy=\"-336.5\" fill=\"#ff0000\" fill-opacity=\"0.125490\" rx=\"13\" ry=\"13\" stroke=\"#ff0000\" stroke-opacity=\"0.125490\"/>\n",
       "<text fill=\"#7f0000\" font-family=\"arial\" font-size=\"12.00\" text-anchor=\"middle\" x=\"306\" y=\"-333.4\">DField</text>\n",
       "</a>\n",
       "</g>\n",
       "</g>\n",
       "<!-- DSim&#45;&gt;DField -->\n",
       "<g class=\"edge\" id=\"edge5\">\n",
       "<title>DSim-&gt;DField</title>\n",
       "<path d=\"M306,-389.9494C306,-377.4658 306,-360.9634 306,-349.6156\" fill=\"none\" stroke=\"#000000\" stroke-opacity=\"0.250980\" stroke-width=\"2\"/>\n",
       "</g>\n",
       "<!-- Demix&#45;&gt;Cosine -->\n",
       "<g class=\"edge\" id=\"edge6\">\n",
       "<title>Demix-&gt;Cosine</title>\n",
       "<path d=\"M194.67,-63.9156C187.2072,-52.6304 175.7063,-35.2388 168.2665,-23.9884\" fill=\"none\" stroke=\"#000000\" stroke-opacity=\"0.250980\" stroke-width=\"2\"/>\n",
       "</g>\n",
       "<!-- SpikeSNR -->\n",
       "<g class=\"node\" id=\"node17\">\n",
       "<title>SpikeSNR</title>\n",
       "<g id=\"a_node17\"><a xlink:title=\"→ Demix\r",
       "------------------------------\r",
       "snr                  \r",
       "\">\n",
       "<ellipse cx=\"244\" cy=\"-13\" fill=\"#ff0000\" fill-opacity=\"0.125490\" rx=\"13\" ry=\"13\" stroke=\"#ff0000\" stroke-opacity=\"0.125490\"/>\n",
       "<text fill=\"#7f0000\" font-family=\"arial\" font-size=\"12.00\" text-anchor=\"middle\" x=\"244\" y=\"-9.9\">SpikeSNR</text>\n",
       "</a>\n",
       "</g>\n",
       "</g>\n",
       "<!-- Demix&#45;&gt;SpikeSNR -->\n",
       "<g class=\"edge\" id=\"edge7\">\n",
       "<title>Demix-&gt;SpikeSNR</title>\n",
       "<path d=\"M209.3158,-64.2004C216.9307,-52.9595 228.7973,-35.4421 236.4852,-24.0933\" fill=\"none\" stroke=\"#000000\" stroke-opacity=\"0.250980\" stroke-width=\"2\"/>\n",
       "</g>\n",
       "<!-- Detection.Detector -->\n",
       "<g class=\"node\" id=\"node8\">\n",
       "<title>Detection.Detector</title>\n",
       "<g id=\"a_node8\"><a xlink:title=\"→ Detection\r",
       "→ Geometry.Detector\r",
       "------------------------------\r",
       "detect_probabilities \r",
       "mean_probability     \r",
       "\">\n",
       "<polygon fill=\"transparent\" points=\"422,-151 324,-151 324,-132 422,-132 422,-151\" stroke=\"transparent\"/>\n",
       "<text fill=\"#000000\" font-family=\"arial\" font-size=\"10.00\" text-anchor=\"middle\" x=\"373\" y=\"-139\">Detection.Detector</text>\n",
       "</a>\n",
       "</g>\n",
       "</g>\n",
       "<!-- Fluorescence -->\n",
       "<g class=\"node\" id=\"node9\">\n",
       "<title>Fluorescence</title>\n",
       "<g id=\"a_node9\"><a xlink:title=\"→ Tissue\r",
       "\">\n",
       "<ellipse cx=\"128\" cy=\"-208\" fill=\"#ff0000\" fill-opacity=\"0.125490\" rx=\"13\" ry=\"13\" stroke=\"#ff0000\" stroke-opacity=\"0.125490\"/>\n",
       "<text fill=\"#7f0000\" font-family=\"arial\" font-size=\"12.00\" text-anchor=\"middle\" x=\"128\" y=\"-204.9\">Fluorescence</text>\n",
       "</a>\n",
       "</g>\n",
       "</g>\n",
       "<!-- Fluorescence&#45;&gt;IlluminationCycle -->\n",
       "<g class=\"edge\" id=\"edge8\">\n",
       "<title>Fluorescence-&gt;IlluminationCycle</title>\n",
       "<path d=\"M139.7938,-201.6237C163.3642,-188.8803 216.0295,-160.4068 239.4215,-147.7599\" fill=\"none\" stroke=\"#000000\" stroke-opacity=\"0.250980\" stroke-width=\"2\"/>\n",
       "</g>\n",
       "<!-- Fluorescence&#45;&gt;Fluorescence.Emitter -->\n",
       "<g class=\"edge\" id=\"edge9\">\n",
       "<title>Fluorescence-&gt;Fluorescence.Emitter</title>\n",
       "<path d=\"M118.1549,-199.0315C104.4559,-186.5523 79.7424,-164.0393 65.6344,-151.1875\" fill=\"none\" stroke=\"#000000\" stroke-opacity=\"0.250980\" stroke-width=\".75\"/>\n",
       "</g>\n",
       "<!-- Geometry.Detector -->\n",
       "<g class=\"node\" id=\"node10\">\n",
       "<title>Geometry.Detector</title>\n",
       "<g id=\"a_node10\"><a xlink:title=\"→ Geometry\r",
       "detector             \r",
       "------------------------------\r",
       "→ DField\r",
       "d_center_x           \r",
       "d_center_y           \r",
       "d_center_z           \r",
       "d_norm_x             \r",
       "d_norm_y             \r",
       "d_norm_z             \r",
       "d_top_x              \r",
       "d_top_y              \r",
       "d_top_z              \r",
       "d_height             \r",
       "d_width              \r",
       "d_thick              \r",
       "\">\n",
       "<polygon fill=\"transparent\" points=\"355,-279.5 257,-279.5 257,-260.5 355,-260.5 355,-279.5\" stroke=\"transparent\"/>\n",
       "<text fill=\"#000000\" font-family=\"arial\" font-size=\"10.00\" text-anchor=\"start\" text-decoration=\"underline\" x=\"265\" y=\"-268.5\">Geometry.Detector</text>\n",
       "</a>\n",
       "</g>\n",
       "</g>\n",
       "<!-- Geometry.Detector&#45;&gt;Detection.Detector -->\n",
       "<g class=\"edge\" id=\"edge10\">\n",
       "<title>Geometry.Detector-&gt;Detection.Detector</title>\n",
       "<path d=\"M318.9944,-260.1539C329.9648,-251.1467 345.2451,-236.8429 354,-221 366.6291,-198.1463 370.9193,-167.075 372.3336,-151.4051\" fill=\"none\" stroke=\"#000000\" stroke-opacity=\"0.250980\" stroke-width=\"2\"/>\n",
       "</g>\n",
       "<!-- Detection -->\n",
       "<g class=\"node\" id=\"node11\">\n",
       "<title>Detection</title>\n",
       "<g id=\"a_node11\"><a xlink:title=\"→ Tissue\r",
       "\">\n",
       "<ellipse cx=\"311\" cy=\"-208\" fill=\"#ff0000\" fill-opacity=\"0.125490\" rx=\"13\" ry=\"13\" stroke=\"#ff0000\" stroke-opacity=\"0.125490\"/>\n",
       "<text fill=\"#7f0000\" font-family=\"arial\" font-size=\"12.00\" text-anchor=\"middle\" x=\"311\" y=\"-204.9\">Detection</text>\n",
       "</a>\n",
       "</g>\n",
       "</g>\n",
       "<!-- Detection&#45;&gt;IlluminationCycle -->\n",
       "<g class=\"edge\" id=\"edge11\">\n",
       "<title>Detection-&gt;IlluminationCycle</title>\n",
       "<path d=\"M302.1468,-198.1877C290.8028,-185.6148 271.251,-163.9449 259.8895,-151.3526\" fill=\"none\" stroke=\"#000000\" stroke-opacity=\"0.250980\" stroke-width=\"2\"/>\n",
       "</g>\n",
       "<!-- Detection&#45;&gt;Detection.Detector -->\n",
       "<g class=\"edge\" id=\"edge12\">\n",
       "<title>Detection-&gt;Detection.Detector</title>\n",
       "<path d=\"M319.8831,-198.4722C331.6693,-185.8305 352.3555,-163.6429 364.1334,-151.0102\" fill=\"none\" stroke=\"#000000\" stroke-opacity=\"0.250980\" stroke-width=\".75\"/>\n",
       "</g>\n",
       "<!-- Tissue -->\n",
       "<g class=\"node\" id=\"node12\">\n",
       "<title>Tissue</title>\n",
       "<g id=\"a_node12\"><a xlink:title=\"→ Geometry\r",
       "------------------------------\r",
       "volume               \r",
       "margin               \r",
       "npoints              \r",
       "min_distance         \r",
       "cell_xyz             \r",
       "\">\n",
       "<ellipse cx=\"213\" cy=\"-270\" fill=\"#ff0000\" fill-opacity=\"0.125490\" rx=\"13\" ry=\"13\" stroke=\"#ff0000\" stroke-opacity=\"0.125490\"/>\n",
       "<text fill=\"#7f0000\" font-family=\"arial\" font-size=\"12.00\" text-anchor=\"middle\" x=\"213\" y=\"-266.9\">Tissue</text>\n",
       "</a>\n",
       "</g>\n",
       "</g>\n",
       "<!-- Tissue&#45;&gt;Fluorescence -->\n",
       "<g class=\"edge\" id=\"edge13\">\n",
       "<title>Tissue-&gt;Fluorescence</title>\n",
       "<path d=\"M202.2347,-262.1477C185.8846,-250.2217 154.976,-227.6766 138.6779,-215.7886\" fill=\"none\" stroke=\"#000000\" stroke-opacity=\"0.250980\" stroke-width=\"2\"/>\n",
       "</g>\n",
       "<!-- Tissue&#45;&gt;Detection -->\n",
       "<g class=\"edge\" id=\"edge14\">\n",
       "<title>Tissue-&gt;Detection</title>\n",
       "<path d=\"M224.2418,-262.8878C243.1457,-250.9282 281.0738,-226.9329 299.8893,-215.0292\" fill=\"none\" stroke=\"#000000\" stroke-opacity=\"0.250980\" stroke-width=\"2\"/>\n",
       "</g>\n",
       "<!-- DField&#45;&gt;Geometry.Detector -->\n",
       "<g class=\"edge\" id=\"edge15\">\n",
       "<title>DField-&gt;Geometry.Detector</title>\n",
       "<path d=\"M306,-323.3617C306,-310.4921 306,-291.1836 306,-279.663\" fill=\"none\" stroke=\"#000000\" stroke-dasharray=\"5,2\" stroke-opacity=\"0.250980\" stroke-width=\".75\"/>\n",
       "</g>\n",
       "<!-- Geometry&#45;&gt;Geometry.Emitter -->\n",
       "<g class=\"edge\" id=\"edge16\">\n",
       "<title>Geometry-&gt;Geometry.Emitter</title>\n",
       "<path d=\"M191.894,-321.0764C174.3575,-308.2613 149.9571,-290.4302 135.1107,-279.5809\" fill=\"none\" stroke=\"#000000\" stroke-opacity=\"0.250980\" stroke-width=\".75\"/>\n",
       "</g>\n",
       "<!-- Geometry&#45;&gt;Geometry.Detector -->\n",
       "<g class=\"edge\" id=\"edge17\">\n",
       "<title>Geometry-&gt;Geometry.Detector</title>\n",
       "<path d=\"M234.5698,-321.0764C252.4918,-308.2613 277.4284,-290.4302 292.6011,-279.5809\" fill=\"none\" stroke=\"#000000\" stroke-opacity=\"0.250980\" stroke-width=\".75\"/>\n",
       "</g>\n",
       "<!-- Geometry&#45;&gt;Tissue -->\n",
       "<g class=\"edge\" id=\"edge18\">\n",
       "<title>Geometry-&gt;Tissue</title>\n",
       "<path d=\"M213,-318.6792C213,-307.4451 213,-293.1917 213,-283.0168\" fill=\"none\" stroke=\"#000000\" stroke-opacity=\"0.250980\" stroke-width=\"2\"/>\n",
       "</g>\n",
       "<!-- ESim -->\n",
       "<g class=\"node\" id=\"node15\">\n",
       "<title>ESim</title>\n",
       "<g id=\"a_node15\"><a xlink:title=\"esim                 \r",
       "------------------------------\r",
       "esim_description     \r",
       "beam_compression     \r",
       "y_steer              \r",
       "emitter_width=10.00  \r",
       "emitter_height=10.00 \r",
       "anisotropy=0.88      \r",
       "absorption_length=14000 \r",
       "scatter_length=100   \r",
       "volume_dimx=1000     \r",
       "volume_dimy=1000     \r",
       "volume_dimz=1000     \r",
       "beam_xy_aspect=1     \r",
       "pitch=2.2            \r",
       "\">\n",
       "<polygon fill=\"#000000\" fill-opacity=\"0.125490\" points=\"142.5,-425 101.5,-425 101.5,-390 142.5,-390 142.5,-425\" stroke=\"transparent\"/>\n",
       "<text fill=\"#000000\" font-family=\"arial\" font-size=\"10.00\" text-anchor=\"start\" text-decoration=\"underline\" x=\"109.5\" y=\"-406\">ESim</text>\n",
       "</a>\n",
       "</g>\n",
       "</g>\n",
       "<!-- EField -->\n",
       "<g class=\"node\" id=\"node18\">\n",
       "<title>EField</title>\n",
       "<g id=\"a_node18\"><a xlink:title=\"→ ESim\r",
       "------------------------------\r",
       "volume               \r",
       "total_photons        \r",
       "INDEX (volume)\r",
       "\">\n",
       "<ellipse cx=\"122\" cy=\"-336.5\" fill=\"#ff0000\" fill-opacity=\"0.125490\" rx=\"13\" ry=\"13\" stroke=\"#ff0000\" stroke-opacity=\"0.125490\"/>\n",
       "<text fill=\"#7f0000\" font-family=\"arial\" font-size=\"12.00\" text-anchor=\"middle\" x=\"122\" y=\"-333.4\">EField</text>\n",
       "</a>\n",
       "</g>\n",
       "</g>\n",
       "<!-- ESim&#45;&gt;EField -->\n",
       "<g class=\"edge\" id=\"edge19\">\n",
       "<title>ESim-&gt;EField</title>\n",
       "<path d=\"M122,-389.9494C122,-377.4658 122,-360.9634 122,-349.6156\" fill=\"none\" stroke=\"#000000\" stroke-opacity=\"0.250980\" stroke-width=\"2\"/>\n",
       "</g>\n",
       "<!-- EField&#45;&gt;Geometry.Emitter -->\n",
       "<g class=\"edge\" id=\"edge20\">\n",
       "<title>EField-&gt;Geometry.Emitter</title>\n",
       "<path d=\"M122,-323.3617C122,-310.4921 122,-291.1836 122,-279.663\" fill=\"none\" stroke=\"#000000\" stroke-dasharray=\"5,2\" stroke-opacity=\"0.250980\" stroke-width=\".75\"/>\n",
       "</g>\n",
       "</g>\n",
       "</svg>"
      ],
      "text/plain": [
       "<datajoint.diagram.Diagram at 0x7fa70a17de10>"
      ]
     },
     "execution_count": 4,
     "metadata": {},
     "output_type": "execute_result"
    }
   ],
   "source": [
    "dj.Diagram(schema)"
   ]
  },
  {
   "cell_type": "code",
   "execution_count": null,
   "metadata": {},
   "outputs": [],
   "source": [
    "DSim()"
   ]
  },
  {
   "cell_type": "code",
   "execution_count": null,
   "metadata": {},
   "outputs": [],
   "source": [
    "SpikeSNR.populate()\n",
    "Cosine.populate()"
   ]
  },
  {
   "cell_type": "code",
   "execution_count": null,
   "metadata": {},
   "outputs": [],
   "source": [
    "SpikeSNR()"
   ]
  },
  {
   "cell_type": "code",
   "execution_count": null,
   "metadata": {},
   "outputs": [],
   "source": [
    "IlluminationCycle()"
   ]
  },
  {
   "cell_type": "code",
   "execution_count": null,
   "metadata": {},
   "outputs": [],
   "source": [
    "Demix()"
   ]
  },
  {
   "cell_type": "code",
   "execution_count": null,
   "metadata": {},
   "outputs": [],
   "source": [
    "dj.U('design') & SpikeSNR()"
   ]
  },
  {
   "cell_type": "code",
   "execution_count": null,
   "metadata": {},
   "outputs": [],
   "source": [
    "SpikeSNR.populate()\n",
    "Cosine.populate()\n",
    "\n",
    "fig, axx = plt.subplots(5, 5, figsize=(24, 14), sharex=True, sharey=True)\n",
    "axx = iter(axx.flatten())\n",
    "\n",
    "designs = [1, 4, 9, 10, 11]\n",
    "samples = [2, 4, 5, 7, 8]\n",
    "for design in tqdm.tqdm(designs):\n",
    "    for sample in samples:\n",
    "        ax = next(axx)\n",
    "        key = dict(design=design, sample=sample)\n",
    "        \n",
    "        if not SpikeSNR & key:\n",
    "            ax.axis(False)\n",
    "            continue\n",
    "        snrs, cosines, density = (SpikeSNR * Cosine * Sample & key).fetch1(\n",
    "            'snr', 'cosines', 'density')\n",
    "        \n",
    "        selection, xyz = (Demix*Tissue & key).fetch1('selection', 'cell_xyz')\n",
    "        xyz = xyz[selection]\n",
    "        dxyz = np.stack((Geometry.Detector & key).fetch('d_center_x', 'd_center_y', 'd_center_z')).T\n",
    "        ix = (np.logical_and(xyz > dxyz.min(axis=0), xyz < dxyz.max(axis=0))).any(axis=1)\n",
    "        cos = np.maximum(cosines[ix], 0.0009)\n",
    "        snr = np.maximum(snrs[ix], 0.01);\n",
    "        xy = np.vstack([np.log10(snr/cos)/4, np.log10(cos)*4])\n",
    "        z = gaussian_kde(xy)(xy)\n",
    "        h = ax.scatter(snr/cos, cos, c=z, s=1, marker='o', lw=0, cmap='magma')\n",
    "        h.set_clim([0, 5.0])\n",
    "        ax.plot([1, 10000], [3, 3/10000], color=[0.2, 0.6, 1.0], linewidth=2, alpha=0.6, ls='-')\n",
    "        ax.plot([1, 10000], [1, 1/10000], color=[0.2, 0.6, 1.0], linewidth=1, alpha=0.6, ls='--')\n",
    "        ax.plot([1, 10000], [10, 10/10000], color=[0.2, 0.6, 1.0], linewidth=1, alpha=0.6, ls='--')\n",
    "        ax.set_xlim([1.0, 1.05e4])\n",
    "        ax.set_ylim([0.03, 1.2])\n",
    "        ax.set_xticks(10. ** np.r_[-5:1])\n",
    "        ax.set_yticks(10. ** np.r_[-5:5])\n",
    "        ax.set_yscale('log')\n",
    "        ax.set_xscale('log')\n",
    "        ax.set_aspect('equal')\n",
    "        ax.yaxis.set_ticks_position('right')\n",
    "        ax.xaxis.set_ticks_position('bottom')\n",
    "        ax.spines['right'].set_visible(False)\n",
    "        ax.spines['top'].set_visible(False)\n",
    "        ax.grid(True)\n",
    "        ax.set_frame_on(True)\n",
    "        if design == designs[0]:\n",
    "            ax.set_title('{density}/mm$^2$'.format(density=density))\n",
    "        if design < designs[-1]:\n",
    "            plt.setp(ax.get_xticklabels(), visible=False)\n",
    "        if sample == samples[0]:\n",
    "            ax.set_ylabel(f'Design {design}')\n",
    "        #if sample < samples[-1]:\n",
    "        #plt.setp(ax.get_yticklabels(), visible=False)\n",
    "        \n",
    "#fig.savefig('results.pdf')\n",
    "fig.savefig('results.png')"
   ]
  },
  {
   "cell_type": "code",
   "execution_count": null,
   "metadata": {},
   "outputs": [],
   "source": [
    "for snr in (SpikeSNR & 'sample=7').fetch('snr'):\n",
    "    print((snr > 1.5).mean())"
   ]
  },
  {
   "cell_type": "code",
   "execution_count": null,
   "metadata": {},
   "outputs": [],
   "source": []
  },
  {
   "cell_type": "code",
   "execution_count": null,
   "metadata": {},
   "outputs": [],
   "source": [
    "key = {'design': 8, 'sample': 4}"
   ]
  },
  {
   "cell_type": "code",
   "execution_count": null,
   "metadata": {},
   "outputs": [],
   "source": [
    "!open results.pdf"
   ]
  },
  {
   "cell_type": "code",
   "execution_count": null,
   "metadata": {},
   "outputs": [],
   "source": [
    "ls -l results.pdf"
   ]
  },
  {
   "cell_type": "code",
   "execution_count": null,
   "metadata": {},
   "outputs": [],
   "source": [
    "Geometry.Detector()"
   ]
  },
  {
   "cell_type": "code",
   "execution_count": null,
   "metadata": {},
   "outputs": [],
   "source": [
    "ax.grid()"
   ]
  },
  {
   "cell_type": "code",
   "execution_count": null,
   "metadata": {},
   "outputs": [],
   "source": [
    "schema.spawn_missing_classes()"
   ]
  },
  {
   "cell_type": "code",
   "execution_count": null,
   "metadata": {},
   "outputs": [],
   "source": [
    "dj.Diagram(schema)"
   ]
  },
  {
   "cell_type": "code",
   "execution_count": null,
   "metadata": {},
   "outputs": [],
   "source": [
    "Fluorescence()"
   ]
  },
  {
   "cell_type": "code",
   "execution_count": null,
   "metadata": {},
   "outputs": [],
   "source": [
    "Sample * Cosine * SpikeSNR"
   ]
  },
  {
   "cell_type": "code",
   "execution_count": null,
   "metadata": {},
   "outputs": [],
   "source": [
    "dj.kill()"
   ]
  },
  {
   "cell_type": "code",
   "execution_count": null,
   "metadata": {},
   "outputs": [],
   "source": [
    "(schema.jobs & 'status=\"error\"').delete()"
   ]
  },
  {
   "cell_type": "code",
   "execution_count": null,
   "metadata": {},
   "outputs": [],
   "source": [
    "IlluminationCycle()"
   ]
  },
  {
   "cell_type": "code",
   "execution_count": null,
   "metadata": {},
   "outputs": [],
   "source": [
    "Cosine()"
   ]
  },
  {
   "cell_type": "code",
   "execution_count": null,
   "metadata": {},
   "outputs": [],
   "source": [
    "dj.U('design') & Cosine"
   ]
  },
  {
   "cell_type": "code",
   "execution_count": null,
   "metadata": {},
   "outputs": [],
   "source": [
    "for design in 1,3,4,5,6,7,8:\n",
    "    selection, density, cosines, snr, xyz = (\n",
    "        Demix * Tissue * Sample * Cosine * SpikeSNR & {'design': design}).fetch(\n",
    "        'selection', 'density', 'cosines', 'snr', 'cell_xyz')\n",
    "    #plt.plot(density, \n",
    "    #         [(m[np.abs(xyz[s, :] - [0, 0, 500]).max(axis=1) < 400]).mean() for s, m, xyz in zip(selection, snr, xyz)], 'x-')\n",
    "    plt.plot(density, \n",
    "             [(m[np.abs(xyz[s, :] - [0, 0, 200]).max(axis=1) < 200]).mean() for s, m, xyz in zip(selection, cosines, xyz)], 'x-')\n",
    "plt.ylim([0, 1])\n",
    "plt.legend(('1', '3', '4', '5', '6', '7', '8'))\n",
    "plt.grid(True)"
   ]
  },
  {
   "cell_type": "code",
   "execution_count": null,
   "metadata": {},
   "outputs": [],
   "source": [
    "r = 'design=4'"
   ]
  },
  {
   "cell_type": "code",
   "execution_count": null,
   "metadata": {},
   "outputs": [],
   "source": [
    "e = (Fluorescence.Emitter & r).fetch('reemitted_photons')\n",
    "d = (Detection.Detector & r).fetch('detect_probabilities')"
   ]
  },
  {
   "cell_type": "code",
   "execution_count": null,
   "metadata": {},
   "outputs": [],
   "source": [
    "e = np.stack(e)\n",
    "d = np.stack(d)"
   ]
  },
  {
   "cell_type": "code",
   "execution_count": null,
   "metadata": {},
   "outputs": [],
   "source": [
    "cycle = (IlluminationCycle & r).fetch1('illumination')"
   ]
  },
  {
   "cell_type": "code",
   "execution_count": null,
   "metadata": {},
   "outputs": [],
   "source": [
    "selection = (Demix & r & 'sample=4').fetch1('selection')"
   ]
  },
  {
   "cell_type": "code",
   "execution_count": null,
   "metadata": {},
   "outputs": [],
   "source": [
    "e = cycle @ e"
   ]
  },
  {
   "cell_type": "code",
   "execution_count": null,
   "metadata": {},
   "outputs": [],
   "source": [
    "e = e[:, selection]\n",
    "d = d[:, selection]"
   ]
  },
  {
   "cell_type": "code",
   "execution_count": null,
   "metadata": {},
   "outputs": [],
   "source": [
    "plt.scatter(np.log10(e.sum(axis=0)*0.0001), np.log10(d.sum(axis=0)), s=1)"
   ]
  },
  {
   "cell_type": "code",
   "execution_count": null,
   "metadata": {},
   "outputs": [],
   "source": [
    "plt.hist(np.log10(e.sum(axis=0)*1e-4*d.sum(axis=0)), 100);"
   ]
  },
  {
   "cell_type": "code",
   "execution_count": null,
   "metadata": {},
   "outputs": [],
   "source": [
    "key = {'design':4, 'sample': 4}"
   ]
  },
  {
   "cell_type": "code",
   "execution_count": null,
   "metadata": {},
   "outputs": [],
   "source": [
    "        dt = 0.02   # (s) sample duration (one illumination cycle)\n",
    "        power = 1e-4   # 100 uW\n",
    "        dark_noise = 300  # counts per second\n",
    "        seed = 0\n",
    "\n",
    "        # load the emission and detection matrices\n",
    "        npoints, volume = (Tissue & key).fetch1('npoints', 'volume')\n",
    "        target_density = (Sample & key).fetch1('density')\n",
    "\n",
    "        selection = np.r_[:npoints] < int(np.round(target_density) * volume)\n",
    "        np.random.seed(seed)\n",
    "        np.random.shuffle(selection)"
   ]
  },
  {
   "cell_type": "code",
   "execution_count": null,
   "metadata": {},
   "outputs": [],
   "source": [
    "        illumination = (IlluminationCycle & key).fetch1('illumination')\n",
    "        nframes = illumination.shape[0]\n",
    "        illumination = illumination * power / nframes   "
   ]
  },
  {
   "cell_type": "code",
   "execution_count": null,
   "metadata": {},
   "outputs": [],
   "source": [
    "        emission = np.stack(\n",
    "            [np.float32(x[selection]) \n",
    "             for x in (Fluorescence.Emitter & key).fetch('reemitted_photons')])  #  emitters x sources\n",
    "        emission = dt * illumination @ emission  # photons per frame\n",
    "\n",
    "        detection = np.stack(\n",
    "            [np.float32(x[selection]) \n",
    "             for x in (Detection.Detector & key).fetch('detect_probabilities')])   #  detectors x sources"
   ]
  },
  {
   "cell_type": "code",
   "execution_count": null,
   "metadata": {},
   "outputs": [],
   "source": [
    "        # construct the mixing matrix mix: nchannels x ncells\n",
    "        # mix = number of photons from neuron per frame at full fluorescence\n",
    "        ncells = detection.shape[1]\n",
    "        ndetectors = detection.shape[0]\n",
    "        nchannels = nframes * ndetectors\n",
    "        mix = np.ndarray(dtype='float32', shape=(nchannels, ncells))\n",
    "        for ichannel in range(0, nchannels, ndetectors):\n",
    "            mix[ichannel:ichannel + ndetectors] = detection * emission[ichannel//ndetectors] "
   ]
  },
  {
   "cell_type": "code",
   "execution_count": null,
   "metadata": {},
   "outputs": [],
   "source": []
  },
  {
   "cell_type": "code",
   "execution_count": null,
   "metadata": {},
   "outputs": [],
   "source": [
    "plt.hist(np.log10(mix.sum(axis=0)/dt), 100);\n",
    "plt.xlabel('$log_{10}$ photons/s') \n",
    "plt.ylabel(' cells')\n",
    "plt.xlim([0, 6])"
   ]
  },
  {
   "cell_type": "code",
   "execution_count": null,
   "metadata": {},
   "outputs": [],
   "source": [
    "        # normalize channels by their noise\n",
    "        mean_fluorescence = 0.03\n",
    "        nu = dark_noise * dt / nframes\n",
    "        weights = 1/np.sqrt(mix.sum(axis=1, keepdims=True)*mean_fluorescence + nu)  # used to be axis=0\n",
    "        mix *= weights"
   ]
  },
  {
   "cell_type": "code",
   "execution_count": null,
   "metadata": {},
   "outputs": [],
   "source": [
    "plt.hist(weights, 100);"
   ]
  },
  {
   "cell_type": "code",
   "execution_count": null,
   "metadata": {},
   "outputs": [],
   "source": [
    "# normalization\n",
    "kmax = 1e6\n",
    "square = mix.T @ mix\n",
    "identity = np.identity(mix.shape[1])\n",
    "alpha = np.sqrt(scipy.linalg.eigh(\n",
    "    square, eigvals_only=True, eigvals=(ncells-1, ncells-1))[0])/(2*kmax)\n",
    "square += alpha**2 * identity\n",
    "\n",
    "# demix matrix \n",
    "demix = np.linalg.inv(square) @ mix.T\n",
    "\n",
    "# bias matrix\n",
    "bias = demix @ mix - identity"
   ]
  },
  {
   "cell_type": "code",
   "execution_count": null,
   "metadata": {},
   "outputs": [],
   "source": [
    "mix_norm = np.linalg.norm(mix, axis=0)\n",
    "demix_norm = np.linalg.norm(demix, axis=1)\n",
    "bias_norm = np.linalg.norm(bias, axis=1)"
   ]
  },
  {
   "cell_type": "code",
   "execution_count": null,
   "metadata": {},
   "outputs": [],
   "source": [
    "max_bias = 0.01\n",
    "delta = 0.1\n",
    "tau = 0.8\n",
    "dt = 0.02  # must match the one in Demix\n",
    "rho = np.exp(-2*np.r_[0:6*tau:dt]/tau).sum()   # SNR improvement by matched filter\n",
    "snrs = (bias_norm < max_bias) * rho * delta / demix_norm"
   ]
  },
  {
   "cell_type": "code",
   "execution_count": null,
   "metadata": {},
   "outputs": [],
   "source": [
    "max_bias = 0.01\n",
    "cosines = (bias_norm < max_bias) / (mix_norm * demix_norm)"
   ]
  },
  {
   "cell_type": "code",
   "execution_count": null,
   "metadata": {},
   "outputs": [],
   "source": [
    "plt.hist(np.log10(snr), 100);"
   ]
  },
  {
   "cell_type": "code",
   "execution_count": null,
   "metadata": {},
   "outputs": [],
   "source": [
    "from scipy.stats import gaussian_kde\n",
    "cos = np.maximum(cosines, 0.0009)\n",
    "snr = np.maximum(snrs*3, 0.09)\n",
    "xy = np.vstack([np.log10(snr/cos)/4, np.log10(cos)*4])\n",
    "z = gaussian_kde(xy)(xy)\n",
    "print(z.max())\n",
    "h = plt.scatter(snr/cos, cos, c=z, s=6, marker='o', lw=0, cmap='plasma', alpha=0.2)\n",
    "h.set_clim([0, 2.3])\n",
    "plt.plot([1, 10000], [3, 3/10000], color=[0.2, 0.6, 1.0], linewidth=2, alpha=0.6, ls='-')\n",
    "plt.plot([1, 10000], [1, 1/10000], color=[0.2, 0.6, 1.0], linewidth=1.5, alpha=0.6, ls='--')\n",
    "plt.plot([1, 10000], [10, 10/10000], color=[0.2, 0.6, 1.0], linewidth=1.5, alpha=0.6, ls='--')\n",
    "plt.xticks(10 * np.r_[-5:1])\n",
    "plt.yticks(10 * np.r_[-5:5])\n",
    "plt.xlim([1.0, 1.05e4])\n",
    "plt.ylim([0.003, 1.2])\n",
    "plt.axes().set_yscale('log')\n",
    "plt.axes().set_xscale('log')\n",
    "plt.axes().set_aspect('equal')\n",
    "plt.axes().spines['right'].set_visible(False)\n",
    "plt.axes().spines['top'].set_visible(False)\n",
    "plt.axes().yaxis.set_ticks_position('left')\n",
    "plt.axes().xaxis.set_ticks_position('bottom')\n",
    "plt.box(True)\n",
    "plt.grid(True)\n"
   ]
  },
  {
   "cell_type": "code",
   "execution_count": null,
   "metadata": {},
   "outputs": [],
   "source": [
    "(snr>3).mean()"
   ]
  },
  {
   "cell_type": "code",
   "execution_count": null,
   "metadata": {},
   "outputs": [],
   "source": [
    "dj.Diagram(schema)"
   ]
  },
  {
   "cell_type": "code",
   "execution_count": null,
   "metadata": {},
   "outputs": [],
   "source": [
    "EField()"
   ]
  },
  {
   "cell_type": "code",
   "execution_count": null,
   "metadata": {},
   "outputs": [],
   "source": [
    "v = (DField() & 'dsim=1').fetch1('volume')"
   ]
  },
  {
   "cell_type": "code",
   "execution_count": null,
   "metadata": {},
   "outputs": [],
   "source": [
    "plt.imshow()"
   ]
  },
  {
   "cell_type": "code",
   "execution_count": null,
   "metadata": {},
   "outputs": [],
   "source": [
    "xyz[0][:,2].max()"
   ]
  },
  {
   "cell_type": "code",
   "execution_count": null,
   "metadata": {},
   "outputs": [],
   "source": [
    "xyz[0].shape"
   ]
  },
  {
   "cell_type": "code",
   "execution_count": null,
   "metadata": {},
   "outputs": [],
   "source": [
    "np.linalg(xyz[0]"
   ]
  },
  {
   "cell_type": "code",
   "execution_count": null,
   "metadata": {},
   "outputs": [],
   "source": [
    "for design in 1, 3, 4:\n",
    "    density, cosines, snr = (Sample * Cosine * SpikeSNR & {'design': design}).fetch(\n",
    "        'density', 'cosines', 'snr')\n",
    "    plt.plot(density, [m.mean() for m in snr])\n",
    "plt.legend(('1', '3', '4'))"
   ]
  },
  {
   "cell_type": "markdown",
   "metadata": {},
   "source": [
    "# Queries"
   ]
  },
  {
   "cell_type": "code",
   "execution_count": null,
   "metadata": {},
   "outputs": [],
   "source": [
    "key = {'design': 4, 'sample': 4}"
   ]
  },
  {
   "cell_type": "code",
   "execution_count": null,
   "metadata": {},
   "outputs": [],
   "source": [
    "power = 1e-4\n",
    "dt = 0.02\n",
    "npoints, volume = (Tissue & key).fetch1('npoints', 'volume')\n",
    "target_density = (Sample & key).fetch1('density')\n",
    "\n",
    "illumination = (IlluminationCycle & key).fetch1('illumination')\n",
    "nframes = illumination.shape[0]\n",
    "illumination = illumination * power / nframes"
   ]
  },
  {
   "cell_type": "code",
   "execution_count": null,
   "metadata": {},
   "outputs": [],
   "source": [
    "selection, mix_norm, demix_norm, bias_norm, t_norm = (Demix & key).fetch1(\n",
    "    'selection', 'mix_norm', 'demix_norm', 'bias_norm', 'trans_bias_norm')"
   ]
  },
  {
   "cell_type": "code",
   "execution_count": null,
   "metadata": {},
   "outputs": [],
   "source": [
    "emission = np.stack((Fluorescence.Emitter & key).fetch('reemitted_photons'))[:, selection]  \n",
    "emission = dt * illumination @ emission  # photons per frame\n",
    "detection = np.stack((Detection.Detector & key).fetch('detect_probabilities'))[:, selection]"
   ]
  },
  {
   "cell_type": "code",
   "execution_count": null,
   "metadata": {},
   "outputs": [],
   "source": [
    "xyz = (Tissue & key).fetch1('cell_xyz')[selection]"
   ]
  },
  {
   "cell_type": "code",
   "execution_count": null,
   "metadata": {},
   "outputs": [],
   "source": [
    "max_bias = 0.01\n",
    "delta = 0.1\n",
    "tau = 0.2\n",
    "dt = 0.02  # must match the one in Demix\n",
    "rho = np.exp(-2*np.r_[0:6*tau:dt]/tau).sum()   # SNR improvement by matched filter\n",
    "snr = (bias_norm < max_bias) * rho * delta/demix_norm"
   ]
  },
  {
   "cell_type": "code",
   "execution_count": null,
   "metadata": {},
   "outputs": [],
   "source": [
    "(snr > 1).mean()"
   ]
  },
  {
   "cell_type": "code",
   "execution_count": null,
   "metadata": {},
   "outputs": [],
   "source": [
    "ix = (snr < 3)\n",
    "plt.scatter(emission[:,ix].sum(axis=0), snr[ix], s=1)"
   ]
  },
  {
   "cell_type": "code",
   "execution_count": null,
   "metadata": {},
   "outputs": [],
   "source": [
    "collection = emission.sum(axis=0) * detection.sum(axis=0)"
   ]
  },
  {
   "cell_type": "code",
   "execution_count": null,
   "metadata": {},
   "outputs": [],
   "source": [
    "collection.shape"
   ]
  },
  {
   "cell_type": "code",
   "execution_count": null,
   "metadata": {},
   "outputs": [],
   "source": [
    "plt.hist(np.log10(collection), 100);"
   ]
  },
  {
   "cell_type": "code",
   "execution_count": null,
   "metadata": {},
   "outputs": [],
   "source": [
    "plt.scatter(np.log10(emission.sum(axis=0)), np.log10(detection.sum(axis=0)), s=1)"
   ]
  },
  {
   "cell_type": "code",
   "execution_count": null,
   "metadata": {},
   "outputs": [],
   "source": [
    "cosines = 1/(demix_norm * mix_norm)"
   ]
  },
  {
   "cell_type": "code",
   "execution_count": null,
   "metadata": {},
   "outputs": [],
   "source": [
    "plt.hist(cosines, 100);"
   ]
  },
  {
   "cell_type": "code",
   "execution_count": null,
   "metadata": {},
   "outputs": [],
   "source": [
    "plt.scatter(np.log10(collection), np.log10(cosines), s=1)"
   ]
  },
  {
   "cell_type": "code",
   "execution_count": null,
   "metadata": {},
   "outputs": [],
   "source": [
    "(snr > 0.05).mean()"
   ]
  },
  {
   "cell_type": "code",
   "execution_count": null,
   "metadata": {},
   "outputs": [],
   "source": [
    "plt.hist(np.log10(collection * cosines), 100);"
   ]
  },
  {
   "cell_type": "code",
   "execution_count": null,
   "metadata": {},
   "outputs": [],
   "source": [
    "plt.scatter(np.log10(snr), np.log10(np.sqrt(collection)* cosines), s=1)\n",
    "plt.grid(True)"
   ]
  }
 ],
 "metadata": {
  "kernelspec": {
   "display_name": "Python 3",
   "language": "python",
   "name": "python3"
  },
  "language_info": {
   "codemirror_mode": {
    "name": "ipython",
    "version": 3
   },
   "file_extension": ".py",
   "mimetype": "text/x-python",
   "name": "python",
   "nbconvert_exporter": "python",
   "pygments_lexer": "ipython3",
   "version": "3.6.9"
  }
 },
 "nbformat": 4,
 "nbformat_minor": 4
}
