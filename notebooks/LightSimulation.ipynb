{
 "cells": [
  {
   "cell_type": "markdown",
   "metadata": {},
   "source": [
    "# Light transport simulation \n",
    "\n",
    "This simulation achieves its efficiency due to the assumption of a uniform, shadowless medium, which enables us to re-use the same simulated emission and detection fields for all emitting and detecting elemnts.\n",
    "\n",
    "## Emission fields\n",
    "\n",
    "The algorithm in class `Space` computes the photon irradiance in the volume surrounding a light emitter. \n",
    "\n",
    "The result is the 3D array $q_e(\\mathbf z)$ containing the probability of an emitted photon passing through a sphere with cross-section of 1 $\\mu m^2$ at point $\\mathbf z$.\n",
    "\n",
    "Note that $q_e(\\mathbf z)$ is not a probability density function. Although it's nonnegative, it can exceed 1.0 and the integral \n",
    "$$\\ell = \\iiint_{\\mathbf z \\in \\Omega} q_e(\\mathbf z) d \\mathbf z$$ \n",
    "evaluates the average travel length of an emitted photon within the integrated region $\\Omega$.\n"
   ]
  },
  {
   "cell_type": "code",
   "execution_count": 1,
   "metadata": {},
   "outputs": [],
   "source": [
    "%matplotlib inline\n",
    "from matplotlib import pyplot as plt\n",
    "import numpy as np\n",
    "from photonics.space import Space"
   ]
  },
  {
   "cell_type": "markdown",
   "metadata": {},
   "source": [
    "# Emitter Tests"
   ]
  },
  {
   "cell_type": "code",
   "execution_count": 2,
   "metadata": {},
   "outputs": [
    {
     "name": "stderr",
     "output_type": "stream",
     "text": [
      "100%|██████████| 2000/2000 [00:08<00:00, 249.05it/s]\n"
     ]
    },
    {
     "name": "stdout",
     "output_type": "stream",
     "text": [
      "Average travel for pitch=1 um is 810.7750244140625 um\n"
     ]
    },
    {
     "name": "stderr",
     "output_type": "stream",
     "text": [
      "100%|██████████| 2000/2000 [00:05<00:00, 357.23it/s]\n",
      "  1%|▏         | 27/2000 [00:00<00:07, 264.40it/s]"
     ]
    },
    {
     "name": "stdout",
     "output_type": "stream",
     "text": [
      "Average travel for pitch=2 um is 809.1849365234375 um\n"
     ]
    },
    {
     "name": "stderr",
     "output_type": "stream",
     "text": [
      "100%|██████████| 2000/2000 [00:05<00:00, 370.80it/s]"
     ]
    },
    {
     "name": "stdout",
     "output_type": "stream",
     "text": [
      "Average travel for pitch=4 um is 806.6106567382812 um\n"
     ]
    },
    {
     "name": "stderr",
     "output_type": "stream",
     "text": [
      "\n"
     ]
    }
   ],
   "source": [
    "# basic sanity check that the choice of the voxel pitch has no effect\n",
    "# on the result such as the average photon travel length \n",
    "# within the volume.\n",
    "\n",
    "for pitch in (1, 2, 4):\n",
    "    space = Space(dims=(1000//pitch, 1000//pitch, 1000//pitch), pitch=pitch)\n",
    "    space.run(2000)\n",
    "    print(f'Average travel for pitch={pitch} um is {space.volume.sum()*space.pitch**3} um')"
   ]
  },
  {
   "cell_type": "code",
   "execution_count": null,
   "metadata": {
    "scrolled": false
   },
   "outputs": [
    {
     "name": "stderr",
     "output_type": "stream",
     "text": [
      " 74%|███████▍  | 14891/20000 [00:36<00:12, 406.37it/s]"
     ]
    }
   ],
   "source": [
    "fig, ax = plt.subplots(2, 3, figsize=(15, 10))\n",
    "ax = iter(ax.flatten())\n",
    "\n",
    "iterations = 20_000\n",
    "display_gamma = 0.7\n",
    "cmap = 'magma'\n",
    "\n",
    "fig.suptitle('Emission fields')\n",
    "\n",
    "space = Space(emitter_spread=\"parallel\")\n",
    "space.run(iterations)\n",
    "space.plot(next(ax), \"Parallel\", gamma=display_gamma, cmap=cmap)\n",
    "\n",
    "space = Space(emitter_spread=\"spherical\", emitter_shape=\"sphere\", emitter_size=(10,10,10))\n",
    "space.run(iterations)\n",
    "space.plot(next(ax), \"Spherical\", gamma=display_gamma, cmap=cmap)\n",
    "\n",
    "space = Space()\n",
    "space.run(iterations)\n",
    "space.plot(next(ax), \"Lambertian\", gamma=display_gamma, cmap=cmap)\n",
    "\n",
    "space = Space(beam_compression=1/3)\n",
    "space.run(iterations)\n",
    "space.plot(next(ax), \"Lambertian narrowed to $\\pi/3$\", gamma=display_gamma, cmap=cmap)\n",
    "\n",
    "space = Space(beam_compression=1/3, y_steer=-np.pi/6)\n",
    "space.run(iterations)\n",
    "space.plot(next(ax), \"Lambertian narrowed to $\\pi/3$, steered by $-\\pi/6$\", gamma=display_gamma, cmap=cmap)\n",
    "\n",
    "space = Space(beam_compression=1/3, y_steer=np.pi/3, pitch=0.5, dims=(1000,1000,1000))\n",
    "space.run(iterations)\n",
    "space.plot(next(ax), \"Lambertian narrowed to $\\pi/3$, steered by $\\pi/3$\", gamma=display_gamma, cmap=cmap)\n",
    "\n",
    "fig.savefig('emission-sim.png')\n"
   ]
  },
  {
   "cell_type": "markdown",
   "metadata": {},
   "source": [
    "## Detection fields\n",
    "\n",
    "If we ignore the shadows from the probe, the same simulation can estimate the detection field $q_d(\\mathbf z)$ denoting the probability that a photon originating from point $\\mathbf z$ in a random direction gets counted by the detector placed at the origin whose normal is aligned with the z-axis.\n",
    "\n",
    "For the calculation, the detector is assumed to be a flat patch with a generally non-uniform sensitivity function $s(\\mathbf u, \\eta)$ of the incident point $\\mathbf u$ and angle $\\eta$."
   ]
  },
  {
   "cell_type": "markdown",
   "metadata": {},
   "source": [
    "A virtual emitter is placed at the origin in the shape of the detector with spherically symmetric emission spread.  Thus photons are emitted from points $\\mathbf u$ corresponding to the ultimate impinge point on the detector surface."
   ]
  },
  {
   "cell_type": "markdown",
   "metadata": {},
   "source": [
    "While passing through points $\\mathbf z$, photons update the irradiance $d(\\mathbf z)$ for a detector placed at $\\mathbf z$ at the impinge position $\\mathbf u$, applying the sensitivity function $s(\\mathbf u, \\eta)\\in [0, 1]$. \n",
    "\n",
    "By inverting the coordinates, $q_d(\\mathbf z) = \\frac 1 2 A d(\\mathbf z)$ becomes equivalent to the probability of a photon originating from $-\\mathbf z$ getting counted, where $A$ is the detector area. $\\mathbf u$ is drawn uniformly from that area. Generally, the maximum detection probability is near the surface of detectors, approaching $0.5 \\times DQE$."
   ]
  },
  {
   "cell_type": "markdown",
   "metadata": {},
   "source": [
    "## Detector tests\n",
    "To convert the test from emission field calculation to detection field, change `detector type` from `\"total\"` and `emission_spread` to `\"spherical\"`."
   ]
  },
  {
   "cell_type": "code",
   "execution_count": null,
   "metadata": {},
   "outputs": [],
   "source": [
    "fig, axx = plt.subplots(1, 2, figsize=(10, 5))\n",
    "\n",
    "fig.suptitle('Detection fields')\n",
    "\n",
    "space1 = Space(detector_type=\"one-sided\", emitter_spread=\"spherical\", pitch=1, dims=(1000,1000,1000))\n",
    "space2 = Space(detector_type=\"narrowed\", emitter_spread=\"spherical\")\n",
    "\n",
    "for space, ax, title in zip((space1, space2), axx, ('non-selective', '$\\cos^4$ selectivity')):\n",
    "    space.run(10_000)\n",
    "    space.plot(ax, \"Non-selective\", gamma=0.7, cmap=\"Purples\")\n",
    "    print(f\"Max detection probabililty = {0.5*space.volume.max()*space.emitter_area}\")\n",
    "\n",
    "fig.suptitle('Detection Fields')\n",
    "fig.savefig('detection-sim.png')"
   ]
  },
  {
   "cell_type": "code",
   "execution_count": null,
   "metadata": {},
   "outputs": [],
   "source": [
    "!open detection-sim.png"
   ]
  },
  {
   "cell_type": "code",
   "execution_count": null,
   "metadata": {},
   "outputs": [],
   "source": [
    "!open emission-sim.png"
   ]
  },
  {
   "cell_type": "code",
   "execution_count": null,
   "metadata": {},
   "outputs": [],
   "source": []
  }
 ],
 "metadata": {
  "kernelspec": {
   "display_name": "Python 3",
   "language": "python",
   "name": "python3"
  },
  "language_info": {
   "codemirror_mode": {
    "name": "ipython",
    "version": 3
   },
   "file_extension": ".py",
   "mimetype": "text/x-python",
   "name": "python",
   "nbconvert_exporter": "python",
   "pygments_lexer": "ipython3",
   "version": "3.7.3"
  }
 },
 "nbformat": 4,
 "nbformat_minor": 4
}
