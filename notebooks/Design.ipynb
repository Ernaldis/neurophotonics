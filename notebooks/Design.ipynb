{
 "cells": [
  {
   "cell_type": "code",
   "execution_count": 1,
   "metadata": {},
   "outputs": [],
   "source": [
    "%matplotlib inline\n",
    "from matplotlib import pyplot as plt\n",
    "import numpy as np"
   ]
  },
  {
   "cell_type": "code",
   "execution_count": 2,
   "metadata": {},
   "outputs": [],
   "source": [
    "import datajoint as dj\n",
    "import pathlib\n",
    "import itertools\n",
    "import re\n",
    "import tqdm"
   ]
  },
  {
   "cell_type": "code",
   "execution_count": 5,
   "metadata": {},
   "outputs": [],
   "source": [
    "from photonics.design import Design, Geometry"
   ]
  },
  {
   "cell_type": "code",
   "execution_count": 6,
   "metadata": {},
   "outputs": [],
   "source": [
    "schema = dj.schema('photonics')\n",
    "schema.spawn_missing_classes()"
   ]
  },
  {
   "cell_type": "code",
   "execution_count": 9,
   "metadata": {},
   "outputs": [
    {
     "name": "stderr",
     "output_type": "stream",
     "text": [
      "0it [00:00, ?it/s]\n"
     ]
    }
   ],
   "source": [
    "Geometry.populate(display_progress=True)"
   ]
  },
  {
   "cell_type": "code",
   "execution_count": 10,
   "metadata": {},
   "outputs": [
    {
     "data": {
      "text/plain": [
       "{(-0.92388, -0.382683, -0.0),\n",
       " (-0.92388, 0.382683, 0.0),\n",
       " (-0.382683, -0.92388, -0.0),\n",
       " (-0.382683, 0.92388, 0.0),\n",
       " (0.382683, -0.92388, 0.0),\n",
       " (0.382683, 0.92388, 0.0),\n",
       " (0.92388, -0.382683, 0.0),\n",
       " (0.92388, 0.382683, 0.0)}"
      ]
     },
     "execution_count": 10,
     "metadata": {},
     "output_type": "execute_result"
    }
   ],
   "source": [
    "set(zip(*(Geometry.Emitter & 'design=1').fetch('e_norm_x', 'e_norm_y', 'e_norm_z')))"
   ]
  },
  {
   "cell_type": "markdown",
   "metadata": {},
   "source": [
    "# Design 1 Geometry"
   ]
  },
  {
   "cell_type": "code",
   "execution_count": null,
   "metadata": {},
   "outputs": [],
   "source": [
    "r = {'design': 1}\n",
    "fig, axx = plt.subplots(1, 2, figsize=(8,4))\n",
    "\n",
    "ax = axx[0]\n",
    "\n",
    "ax.set_aspect('equal')\n",
    "ax.set_xlabel(r'$x\\; (\\mu\\mathsf{m})$', fontsize=10)\n",
    "ax.set_ylabel(r'$y\\; (\\mu\\mathsf{m})$', fontsize=10)\n",
    "ax.set_xticks(np.r_[-600:601:200])\n",
    "ax.set_yticks(np.r_[-600:601:200])\n",
    "ax.grid(True)\n",
    "\n",
    "_ = (Geometry.Emitter & 'design=1').fetch('e_center_x', 'e_center_y', 'e_norm_x', 'e_norm_y')\n",
    "for x, y, nx, ny in zip(*_):\n",
    "    ax.plot((x, x+30*nx), (y, y+30*ny), 'g', alpha=0.2, lw=0.5)\n",
    "\n",
    "_ = (Geometry.Detector & 'design=1').fetch('d_center_x', 'd_center_y', 'd_norm_x', 'd_norm_y')\n",
    "for x, y, nx, ny in zip(*_):\n",
    "    ax.plot((x, x+30*nx), (y, y+30*ny), 'k', alpha=0.2)\n",
    "\n",
    "\n",
    "ax = axx[1]\n",
    "\n",
    "ax.set_aspect('equal')\n",
    "ax.set_xlabel(r'$y\\; (\\mu\\mathsf{m})$', fontsize=10)\n",
    "ax.set_ylabel(r'$z\\; (\\mu\\mathsf{m})$', fontsize=10)\n",
    "ax.grid(True)\n",
    "\n",
    "_ = (Geometry.Emitter & 'design=1').fetch('e_center_x', 'e_center_z', 'e_norm_x', 'e_norm_z')\n",
    "for x, z, nx, nz in zip(*_):\n",
    "    ax.plot((x, x+30*nx), (z, z+30*nz), 'g', lw=0.5)\n",
    "\n",
    "_ = (Geometry.Detector & 'design=1').fetch('d_center_y', 'd_center_z', 'd_norm_y', 'd_norm_z')\n",
    "for y, z, ny, nz in zip(*_):\n",
    "    ax.plot((y, y+30*ny), (z, z+30*nz), 'k', lw=1)\n",
    "\n",
    "fig.suptitle('Design {design}'.format(**r))\n",
    "\n",
    "\n",
    "fig.savefig('geometry-1.pdf')"
   ]
  },
  {
   "cell_type": "markdown",
   "metadata": {},
   "source": [
    "# Designs 3 and 4 \n",
    "The orientations of pixels (norms) were missing. \n",
    "\n",
    "25 shanks with 34 steerable emitters and 33 detectors"
   ]
  },
  {
   "cell_type": "code",
   "execution_count": null,
   "metadata": {},
   "outputs": [],
   "source": [
    "r = {'design': 4}\n",
    "fig, axx = plt.subplots(1, 2, figsize=(8,4))\n",
    "\n",
    "ax = axx[0]\n",
    "\n",
    "ax.set_aspect('equal')\n",
    "ax.set_xlabel(r'$x\\; (\\mu\\mathsf{m})$', fontsize=10)\n",
    "ax.set_ylabel(r'$y\\; (\\mu\\mathsf{m})$', fontsize=10)\n",
    "ax.set_xticks(np.r_[-600:601:200])\n",
    "ax.set_yticks(np.r_[-600:601:200])\n",
    "ax.grid(True)\n",
    "\n",
    "_ = (Geometry.Emitter & r).fetch('e_center_x', 'e_center_y', 'e_norm_x', 'e_norm_y')\n",
    "for x, y, nx, ny in tqdm.tqdm(zip(*_)):\n",
    "    ax.plot((x, x+30*nx), (y, y+30*ny), 'g-', alpha=0.2, lw=1)\n",
    "\n",
    "_ = (Geometry.Detector & r).fetch('d_center_x', 'd_center_y', 'd_norm_x', 'd_norm_y')\n",
    "_ = set(zip(*_))\n",
    "for x, y, nx, ny in tqdm.tqdm(_):\n",
    "    ax.plot((x, x+30*nx), (y, y+30*ny), 'k-', alpha=0.2)\n",
    "\n",
    "ax = axx[1]\n",
    "\n",
    "ax.set_aspect('equal')\n",
    "ax.set_xlabel(r'$y\\; (\\mu\\mathsf{m})$', fontsize=10)\n",
    "ax.set_ylabel(r'$z\\; (\\mu\\mathsf{m})$', fontsize=10)\n",
    "ax.grid(True)\n",
    "\n",
    "_ = (Geometry.Emitter & r).fetch('e_center_y', 'e_center_z', 'e_norm_y', 'e_norm_z')\n",
    "_ = set(zip(*_))\n",
    "for y, z, ny, nz in tqdm.tqdm(_):\n",
    "    ax.plot((y, y+30*ny), (z, z+30*nz), 'g-', lw=1)\n",
    "\n",
    "_ = (Geometry.Detector & r).fetch('d_center_y', 'd_center_z', 'd_norm_y', 'd_norm_z')\n",
    "_ = set(zip(*_))\n",
    "for y, z, ny, nz in tqdm.tqdm(_):\n",
    "    ax.plot((y, y+30*ny), (z, z+30*nz), 'k-', lw=1)\n",
    "\n",
    "fig.suptitle('Design {design}'.format(**r))\n",
    "\n",
    "fig.savefig('geometry-4.png', dpi=300)"
   ]
  },
  {
   "cell_type": "code",
   "execution_count": null,
   "metadata": {},
   "outputs": [],
   "source": [
    "set(zip(*(Geometry.Emitter & 'design=3').fetch('e_norm_x', 'e_norm_y', 'e_norm_z')))"
   ]
  },
  {
   "cell_type": "code",
   "execution_count": null,
   "metadata": {},
   "outputs": [],
   "source": [
    "set(zip(*(Geometry.Detector & 'design=3').fetch('d_norm_x', 'd_norm_y', 'd_norm_z')))"
   ]
  },
  {
   "cell_type": "code",
   "execution_count": null,
   "metadata": {},
   "outputs": [],
   "source": [
    "z = (Geometry.Detector & 'design=3').fetch('d_center_z')\n",
    "plt.plot(np.cos((z - 5)*np.pi*9/40 + np.pi/16), np.sin((z - 5)*np.pi*9/40 + np.pi/16))\n",
    "plt.axis('equal');"
   ]
  },
  {
   "cell_type": "code",
   "execution_count": null,
   "metadata": {},
   "outputs": [],
   "source": [
    "!open geometry-4.pdf"
   ]
  },
  {
   "cell_type": "code",
   "execution_count": null,
   "metadata": {},
   "outputs": [],
   "source": [
    "len(set(zip(*(Geometry.Emitter & r).fetch('e_center_x', 'e_center_y', 'e_center_z'))))"
   ]
  },
  {
   "cell_type": "code",
   "execution_count": null,
   "metadata": {},
   "outputs": [],
   "source": [
    "len(set(zip(*(Geometry.Detector & r).fetch('d_center_x', 'd_center_y', 'd_center_z'))))"
   ]
  },
  {
   "cell_type": "code",
   "execution_count": null,
   "metadata": {},
   "outputs": [],
   "source": [
    "825/25"
   ]
  },
  {
   "cell_type": "code",
   "execution_count": null,
   "metadata": {},
   "outputs": [],
   "source": [
    "set(zip(*(Geometry.Detector & 'design=1').fetch('d_top_x', 'd_top_y', 'd_top_z')))"
   ]
  },
  {
   "cell_type": "code",
   "execution_count": null,
   "metadata": {},
   "outputs": [],
   "source": [
    "set(zip(*(Geometry.Detector & 'design=1').fetch('d_norm_x', 'd_norm_y', 'd_norm_z')))"
   ]
  },
  {
   "cell_type": "code",
   "execution_count": null,
   "metadata": {},
   "outputs": [],
   "source": [
    "a = np.array(sorted(list(set((Geometry.Emitter & 'design=3').fetch('e_center_z')))))"
   ]
  },
  {
   "cell_type": "code",
   "execution_count": null,
   "metadata": {},
   "outputs": [],
   "source": [
    "np.diff(a)"
   ]
  },
  {
   "cell_type": "code",
   "execution_count": null,
   "metadata": {},
   "outputs": [],
   "source": [
    "schema.spawn_missing_classes()\n",
    "dj.Diagram(schema)"
   ]
  },
  {
   "cell_type": "code",
   "execution_count": null,
   "metadata": {},
   "outputs": [],
   "source": [
    "Geometry.Detector()"
   ]
  },
  {
   "cell_type": "code",
   "execution_count": null,
   "metadata": {},
   "outputs": [],
   "source": [
    "sorted(np.r_[:135*8:135] % 360)"
   ]
  },
  {
   "cell_type": "code",
   "execution_count": null,
   "metadata": {},
   "outputs": [],
   "source": [
    "Geometry.Detector & 'design=1'"
   ]
  },
  {
   "cell_type": "code",
   "execution_count": null,
   "metadata": {},
   "outputs": [],
   "source": [
    "Geometry.Detector"
   ]
  },
  {
   "cell_type": "code",
   "execution_count": null,
   "metadata": {},
   "outputs": [],
   "source": [
    "dj.Diagram(schema)"
   ]
  },
  {
   "cell_type": "code",
   "execution_count": null,
   "metadata": {},
   "outputs": [],
   "source": [
    "Geometry()"
   ]
  },
  {
   "cell_type": "code",
   "execution_count": null,
   "metadata": {},
   "outputs": [],
   "source": [
    "DField * DSim"
   ]
  },
  {
   "cell_type": "code",
   "execution_count": null,
   "metadata": {},
   "outputs": [],
   "source": [
    "Geometry.drop()"
   ]
  },
  {
   "cell_type": "code",
   "execution_count": null,
   "metadata": {},
   "outputs": [],
   "source": [
    "dj.Diagram(schema)"
   ]
  },
  {
   "cell_type": "code",
   "execution_count": null,
   "metadata": {},
   "outputs": [],
   "source": [
    "Design()"
   ]
  },
  {
   "cell_type": "code",
   "execution_count": null,
   "metadata": {},
   "outputs": [],
   "source": [
    "np.r_[22.5:1080:135] % 360"
   ]
  },
  {
   "cell_type": "code",
   "execution_count": null,
   "metadata": {},
   "outputs": [],
   "source": [
    "360*3"
   ]
  },
  {
   "cell_type": "code",
   "execution_count": null,
   "metadata": {},
   "outputs": [],
   "source": [
    "min(np.array(sorted(list(set((Geometry.Emitter & 'design=4').fetch('e_center_z'))))))"
   ]
  },
  {
   "cell_type": "code",
   "execution_count": null,
   "metadata": {},
   "outputs": [],
   "source": [
    "ls"
   ]
  },
  {
   "cell_type": "code",
   "execution_count": null,
   "metadata": {},
   "outputs": [],
   "source": [
    "!open geometry-4.png"
   ]
  },
  {
   "cell_type": "code",
   "execution_count": null,
   "metadata": {},
   "outputs": [],
   "source": []
  }
 ],
 "metadata": {
  "kernelspec": {
   "display_name": "Python 3",
   "language": "python",
   "name": "python3"
  },
  "language_info": {
   "codemirror_mode": {
    "name": "ipython",
    "version": 3
   },
   "file_extension": ".py",
   "mimetype": "text/x-python",
   "name": "python",
   "nbconvert_exporter": "python",
   "pygments_lexer": "ipython3",
   "version": "3.7.3"
  }
 },
 "nbformat": 4,
 "nbformat_minor": 4
}
