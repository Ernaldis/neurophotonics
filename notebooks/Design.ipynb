{
 "cells": [
  {
   "cell_type": "code",
   "execution_count": 1,
   "metadata": {},
   "outputs": [],
   "source": [
    "%matplotlib inline\n",
    "from matplotlib import pyplot as plt\n",
    "import numpy as np"
   ]
  },
  {
   "cell_type": "code",
   "execution_count": 2,
   "metadata": {},
   "outputs": [],
   "source": [
    "import datajoint as dj\n",
    "import pathlib\n",
    "import itertools\n",
    "import re\n",
    "import tqdm"
   ]
  },
  {
   "cell_type": "code",
   "execution_count": 7,
   "metadata": {},
   "outputs": [
    {
     "data": {
      "image/svg+xml": [
       "<svg height=\"433pt\" viewBox=\"0.00 0.00 430.50 433.00\" width=\"431pt\" xmlns=\"http://www.w3.org/2000/svg\" xmlns:xlink=\"http://www.w3.org/1999/xlink\">\n",
       "<g class=\"graph\" id=\"graph0\" transform=\"scale(1 1) rotate(0) translate(4 429)\">\n",
       "<polygon fill=\"white\" points=\"-4,4 -4,-429 426.5,-429 426.5,4 -4,4\" stroke=\"transparent\"/>\n",
       "<!-- DField -->\n",
       "<g class=\"node\" id=\"node1\">\n",
       "<title>DField</title>\n",
       "<g id=\"a_node1\"><a xlink:title=\"→ DSim\r",
       "------------------------------\r",
       "volume               \r",
       "max_value            \r",
       "total_photons        \r",
       "INDEX (volume)\r",
       "\">\n",
       "<ellipse cx=\"340\" cy=\"-336.5\" fill=\"#ff0000\" fill-opacity=\"0.125490\" rx=\"13\" ry=\"13\" stroke=\"#ff0000\" stroke-opacity=\"0.125490\"/>\n",
       "<text fill=\"#7f0000\" fill-opacity=\"0.627451\" font-family=\"arial\" font-size=\"12.00\" text-anchor=\"middle\" x=\"340\" y=\"-333.4\">DField</text>\n",
       "</a>\n",
       "</g>\n",
       "</g>\n",
       "<!-- Geometry.Detector -->\n",
       "<g class=\"node\" id=\"node8\">\n",
       "<title>Geometry.Detector</title>\n",
       "<g id=\"a_node8\"><a xlink:title=\"→ Geometry\r",
       "detector             \r",
       "------------------------------\r",
       "→ DField\r",
       "d_center_x           \r",
       "d_center_y           \r",
       "d_center_z           \r",
       "d_norm_x             \r",
       "d_norm_y             \r",
       "d_norm_z             \r",
       "d_top_x              \r",
       "d_top_y              \r",
       "d_top_z              \r",
       "d_height             \r",
       "d_width              \r",
       "d_thick              \r",
       "\">\n",
       "<polygon fill=\"transparent\" points=\"389.5,-279.5 290.5,-279.5 290.5,-260.5 389.5,-260.5 389.5,-279.5\" stroke=\"transparent\"/>\n",
       "<text font-family=\"arial\" font-size=\"10.00\" text-anchor=\"start\" text-decoration=\"underline\" x=\"298.5\" y=\"-268.5\">Geometry.Detector</text>\n",
       "</a>\n",
       "</g>\n",
       "</g>\n",
       "<!-- DField&#45;&gt;Geometry.Detector -->\n",
       "<g class=\"edge\" id=\"edge1\">\n",
       "<title>DField-&gt;Geometry.Detector</title>\n",
       "<path d=\"M340,-323.37C340,-310.67 340,-291.04 340,-279.77\" fill=\"none\" stroke=\"#000000\" stroke-dasharray=\"5,2\" stroke-opacity=\"0.250980\" stroke-width=\"0.75\"/>\n",
       "</g>\n",
       "<!-- Sample -->\n",
       "<g class=\"node\" id=\"node2\">\n",
       "<title>Sample</title>\n",
       "<g id=\"a_node2\"><a xlink:title=\"sample               \r",
       "------------------------------\r",
       "density              \r",
       "\">\n",
       "<polygon fill=\"#000000\" fill-opacity=\"0.125490\" points=\"50,-159 0,-159 0,-124 50,-124 50,-159\" stroke=\"transparent\"/>\n",
       "<text font-family=\"arial\" font-size=\"10.00\" text-anchor=\"start\" text-decoration=\"underline\" x=\"8\" y=\"-140\">Sample</text>\n",
       "</a>\n",
       "</g>\n",
       "</g>\n",
       "<!-- Demix -->\n",
       "<g class=\"node\" id=\"node5\">\n",
       "<title>Demix</title>\n",
       "<g id=\"a_node5\"><a xlink:title=\"→ IlluminationCycle\r",
       "→ Sample\r",
       "------------------------------\r",
       "selection            \r",
       "mix_norm             \r",
       "demix_norm           \r",
       "bias_norm            \r",
       "trans_bias_norm      \r",
       "avg_emitter_power    \r",
       "\">\n",
       "<ellipse cx=\"138\" cy=\"-75\" fill=\"#ff0000\" fill-opacity=\"0.125490\" rx=\"13\" ry=\"13\" stroke=\"#ff0000\" stroke-opacity=\"0.125490\"/>\n",
       "<text fill=\"#7f0000\" fill-opacity=\"0.627451\" font-family=\"arial\" font-size=\"12.00\" text-anchor=\"middle\" x=\"138\" y=\"-71.9\">Demix</text>\n",
       "</a>\n",
       "</g>\n",
       "</g>\n",
       "<!-- Sample&#45;&gt;Demix -->\n",
       "<g class=\"edge\" id=\"edge2\">\n",
       "<title>Sample-&gt;Demix</title>\n",
       "<path d=\"M50.08,-126.19C74.14,-112.45 109.34,-92.36 127.01,-82.27\" fill=\"none\" stroke=\"#000000\" stroke-opacity=\"0.250980\" stroke-width=\"0.75\"/>\n",
       "</g>\n",
       "<!-- Cosine -->\n",
       "<g class=\"node\" id=\"node3\">\n",
       "<title>Cosine</title>\n",
       "<g id=\"a_node3\"><a xlink:title=\"→ Demix\r",
       "------------------------------\r",
       "cosines              \r",
       "\">\n",
       "<ellipse cx=\"97\" cy=\"-13\" fill=\"#ff0000\" fill-opacity=\"0.125490\" rx=\"13\" ry=\"13\" stroke=\"#ff0000\" stroke-opacity=\"0.125490\"/>\n",
       "<text fill=\"#7f0000\" fill-opacity=\"0.627451\" font-family=\"arial\" font-size=\"12.00\" text-anchor=\"middle\" x=\"97\" y=\"-9.9\">Cosine</text>\n",
       "</a>\n",
       "</g>\n",
       "</g>\n",
       "<!-- Geometry -->\n",
       "<g class=\"node\" id=\"node4\">\n",
       "<title>Geometry</title>\n",
       "<g id=\"a_node4\"><a xlink:title=\"→ Design\r",
       "\">\n",
       "<ellipse cx=\"246\" cy=\"-336.5\" fill=\"#00007f\" fill-opacity=\"0.250980\" rx=\"42.5\" ry=\"17.5\" stroke=\"#00007f\" stroke-opacity=\"0.250980\"/>\n",
       "<text fill=\"#00007f\" fill-opacity=\"0.627451\" font-family=\"arial\" font-size=\"12.00\" text-anchor=\"middle\" x=\"246\" y=\"-333.4\">Geometry</text>\n",
       "</a>\n",
       "</g>\n",
       "</g>\n",
       "<!-- Geometry&#45;&gt;Geometry.Detector -->\n",
       "<g class=\"edge\" id=\"edge3\">\n",
       "<title>Geometry-&gt;Geometry.Detector</title>\n",
       "<path d=\"M266.86,-321.19C285.47,-308.42 312.09,-290.15 327.55,-279.54\" fill=\"none\" stroke=\"#000000\" stroke-opacity=\"0.250980\" stroke-width=\"0.75\"/>\n",
       "</g>\n",
       "<!-- Tissue -->\n",
       "<g class=\"node\" id=\"node12\">\n",
       "<title>Tissue</title>\n",
       "<g id=\"a_node12\"><a xlink:title=\"→ Geometry\r",
       "------------------------------\r",
       "volume               \r",
       "margin               \r",
       "npoints              \r",
       "min_distance         \r",
       "cell_xyz             \r",
       "\">\n",
       "<ellipse cx=\"246\" cy=\"-270\" fill=\"#ff0000\" fill-opacity=\"0.125490\" rx=\"13\" ry=\"13\" stroke=\"#ff0000\" stroke-opacity=\"0.125490\"/>\n",
       "<text fill=\"#7f0000\" fill-opacity=\"0.627451\" font-family=\"arial\" font-size=\"12.00\" text-anchor=\"middle\" x=\"246\" y=\"-266.9\">Tissue</text>\n",
       "</a>\n",
       "</g>\n",
       "</g>\n",
       "<!-- Geometry&#45;&gt;Tissue -->\n",
       "<g class=\"edge\" id=\"edge4\">\n",
       "<title>Geometry-&gt;Tissue</title>\n",
       "<path d=\"M246,-318.89C246,-307.69 246,-293.17 246,-283.07\" fill=\"none\" stroke=\"#000000\" stroke-opacity=\"0.250980\" stroke-width=\"2\"/>\n",
       "</g>\n",
       "<!-- Geometry.Emitter -->\n",
       "<g class=\"node\" id=\"node17\">\n",
       "<title>Geometry.Emitter</title>\n",
       "<g id=\"a_node17\"><a xlink:title=\"→ Geometry\r",
       "emitter              \r",
       "------------------------------\r",
       "→ EField\r",
       "e_center_x           \r",
       "e_center_y           \r",
       "e_center_z           \r",
       "e_norm_x             \r",
       "e_norm_y             \r",
       "e_norm_z             \r",
       "e_top_x              \r",
       "e_top_y              \r",
       "e_top_z              \r",
       "e_height             \r",
       "e_width              \r",
       "e_thick              \r",
       "\">\n",
       "<polygon fill=\"transparent\" points=\"201.5,-279.5 108.5,-279.5 108.5,-260.5 201.5,-260.5 201.5,-279.5\" stroke=\"transparent\"/>\n",
       "<text font-family=\"arial\" font-size=\"10.00\" text-anchor=\"start\" text-decoration=\"underline\" x=\"116.5\" y=\"-268.5\">Geometry.Emitter</text>\n",
       "</a>\n",
       "</g>\n",
       "</g>\n",
       "<!-- Geometry&#45;&gt;Geometry.Emitter -->\n",
       "<g class=\"edge\" id=\"edge5\">\n",
       "<title>Geometry-&gt;Geometry.Emitter</title>\n",
       "<path d=\"M225.35,-320.86C207.42,-308.15 182.05,-290.17 167.19,-279.64\" fill=\"none\" stroke=\"#000000\" stroke-opacity=\"0.250980\" stroke-width=\"0.75\"/>\n",
       "</g>\n",
       "<!-- Demix&#45;&gt;Cosine -->\n",
       "<g class=\"edge\" id=\"edge6\">\n",
       "<title>Demix-&gt;Cosine</title>\n",
       "<path d=\"M131.04,-63.82C123.55,-52.86 111.69,-35.49 104.13,-24.43\" fill=\"none\" stroke=\"#000000\" stroke-opacity=\"0.250980\" stroke-width=\"2\"/>\n",
       "</g>\n",
       "<!-- SpikeSNR -->\n",
       "<g class=\"node\" id=\"node6\">\n",
       "<title>SpikeSNR</title>\n",
       "<g id=\"a_node6\"><a xlink:title=\"→ Demix\r",
       "------------------------------\r",
       "snr                  \r",
       "\">\n",
       "<ellipse cx=\"180\" cy=\"-13\" fill=\"#ff0000\" fill-opacity=\"0.125490\" rx=\"13\" ry=\"13\" stroke=\"#ff0000\" stroke-opacity=\"0.125490\"/>\n",
       "<text fill=\"#7f0000\" fill-opacity=\"0.627451\" font-family=\"arial\" font-size=\"12.00\" text-anchor=\"middle\" x=\"180\" y=\"-9.9\">SpikeSNR</text>\n",
       "</a>\n",
       "</g>\n",
       "</g>\n",
       "<!-- Demix&#45;&gt;SpikeSNR -->\n",
       "<g class=\"edge\" id=\"edge7\">\n",
       "<title>Demix-&gt;SpikeSNR</title>\n",
       "<path d=\"M145.12,-63.82C152.89,-52.72 165.25,-35.07 172.98,-24.03\" fill=\"none\" stroke=\"#000000\" stroke-opacity=\"0.250980\" stroke-width=\"2\"/>\n",
       "</g>\n",
       "<!-- ESim -->\n",
       "<g class=\"node\" id=\"node7\">\n",
       "<title>ESim</title>\n",
       "<g id=\"a_node7\"><a xlink:title=\"esim                 \r",
       "------------------------------\r",
       "esim_description     \r",
       "beam_compression     \r",
       "y_steer              \r",
       "emitter_width=10.00  \r",
       "emitter_height=10.00 \r",
       "anisotropy=0.88      \r",
       "absorption_length=14000 \r",
       "scatter_length=100   \r",
       "volume_dimx=1000     \r",
       "volume_dimy=1000     \r",
       "volume_dimz=1000     \r",
       "beam_xy_aspect=1     \r",
       "pitch=2.2            \r",
       "\">\n",
       "<polygon fill=\"#000000\" fill-opacity=\"0.125490\" points=\"175.5,-425 134.5,-425 134.5,-390 175.5,-390 175.5,-425\" stroke=\"transparent\"/>\n",
       "<text font-family=\"arial\" font-size=\"10.00\" text-anchor=\"start\" text-decoration=\"underline\" x=\"142.5\" y=\"-406\">ESim</text>\n",
       "</a>\n",
       "</g>\n",
       "</g>\n",
       "<!-- EField -->\n",
       "<g class=\"node\" id=\"node18\">\n",
       "<title>EField</title>\n",
       "<g id=\"a_node18\"><a xlink:title=\"→ ESim\r",
       "------------------------------\r",
       "volume               \r",
       "total_photons        \r",
       "INDEX (volume)\r",
       "\">\n",
       "<ellipse cx=\"155\" cy=\"-336.5\" fill=\"#ff0000\" fill-opacity=\"0.125490\" rx=\"13\" ry=\"13\" stroke=\"#ff0000\" stroke-opacity=\"0.125490\"/>\n",
       "<text fill=\"#7f0000\" fill-opacity=\"0.627451\" font-family=\"arial\" font-size=\"12.00\" text-anchor=\"middle\" x=\"155\" y=\"-333.4\">EField</text>\n",
       "</a>\n",
       "</g>\n",
       "</g>\n",
       "<!-- ESim&#45;&gt;EField -->\n",
       "<g class=\"edge\" id=\"edge8\">\n",
       "<title>ESim-&gt;EField</title>\n",
       "<path d=\"M155,-389.8C155,-377.35 155,-360.66 155,-349.51\" fill=\"none\" stroke=\"#000000\" stroke-opacity=\"0.250980\" stroke-width=\"2\"/>\n",
       "</g>\n",
       "<!-- Detection.Detector -->\n",
       "<g class=\"node\" id=\"node14\">\n",
       "<title>Detection.Detector</title>\n",
       "<g id=\"a_node14\"><a xlink:title=\"→ Detection\r",
       "→ Geometry.Detector\r",
       "------------------------------\r",
       "detect_probabilities \r",
       "mean_probability     \r",
       "\">\n",
       "<polygon fill=\"transparent\" points=\"422.5,-151 323.5,-151 323.5,-132 422.5,-132 422.5,-151\" stroke=\"transparent\"/>\n",
       "<text font-family=\"arial\" font-size=\"10.00\" text-anchor=\"middle\" x=\"373\" y=\"-139\">Detection.Detector</text>\n",
       "</a>\n",
       "</g>\n",
       "</g>\n",
       "<!-- Geometry.Detector&#45;&gt;Detection.Detector -->\n",
       "<g class=\"edge\" id=\"edge9\">\n",
       "<title>Geometry.Detector-&gt;Detection.Detector</title>\n",
       "<path d=\"M342.7,-260.19C345.62,-250.59 350.33,-234.76 354,-221 360.72,-195.8 367.71,-165.78 371.02,-151.25\" fill=\"none\" stroke=\"#000000\" stroke-opacity=\"0.250980\" stroke-width=\"2\"/>\n",
       "</g>\n",
       "<!-- Detection -->\n",
       "<g class=\"node\" id=\"node9\">\n",
       "<title>Detection</title>\n",
       "<g id=\"a_node9\"><a xlink:title=\"→ Tissue\r",
       "\">\n",
       "<ellipse cx=\"311\" cy=\"-208\" fill=\"#ff0000\" fill-opacity=\"0.125490\" rx=\"13\" ry=\"13\" stroke=\"#ff0000\" stroke-opacity=\"0.125490\"/>\n",
       "<text fill=\"#7f0000\" fill-opacity=\"0.627451\" font-family=\"arial\" font-size=\"12.00\" text-anchor=\"middle\" x=\"311\" y=\"-204.9\">Detection</text>\n",
       "</a>\n",
       "</g>\n",
       "</g>\n",
       "<!-- Detection&#45;&gt;Detection.Detector -->\n",
       "<g class=\"edge\" id=\"edge10\">\n",
       "<title>Detection-&gt;Detection.Detector</title>\n",
       "<path d=\"M319.62,-198.03C331.47,-185.71 352.65,-163.68 364.45,-151.39\" fill=\"none\" stroke=\"#000000\" stroke-opacity=\"0.250980\" stroke-width=\"0.75\"/>\n",
       "</g>\n",
       "<!-- IlluminationCycle -->\n",
       "<g class=\"node\" id=\"node15\">\n",
       "<title>IlluminationCycle</title>\n",
       "<g id=\"a_node15\"><a xlink:title=\"→ Fluorescence\r",
       "→ Detection\r",
       "------------------------------\r",
       "nframes              \r",
       "illumination         \r",
       "\">\n",
       "<ellipse cx=\"251\" cy=\"-141.5\" fill=\"#ff0000\" fill-opacity=\"0.125490\" rx=\"13\" ry=\"13\" stroke=\"#ff0000\" stroke-opacity=\"0.125490\"/>\n",
       "<text fill=\"#7f0000\" fill-opacity=\"0.627451\" font-family=\"arial\" font-size=\"12.00\" text-anchor=\"middle\" x=\"251\" y=\"-138.4\">IlluminationCycle</text>\n",
       "</a>\n",
       "</g>\n",
       "</g>\n",
       "<!-- Detection&#45;&gt;IlluminationCycle -->\n",
       "<g class=\"edge\" id=\"edge11\">\n",
       "<title>Detection-&gt;IlluminationCycle</title>\n",
       "<path d=\"M302.4,-197.76C291,-185.5 270.98,-163.98 259.58,-151.72\" fill=\"none\" stroke=\"#000000\" stroke-opacity=\"0.250980\" stroke-width=\"2\"/>\n",
       "</g>\n",
       "<!-- Fluorescence.Emitter -->\n",
       "<g class=\"node\" id=\"node10\">\n",
       "<title>Fluorescence.Emitter</title>\n",
       "<g id=\"a_node10\"><a xlink:title=\"→ Fluorescence\r",
       "→ Geometry.Emitter\r",
       "------------------------------\r",
       "reemitted_photons    \r",
       "photons_per_joule    \r",
       "\">\n",
       "<polygon fill=\"transparent\" points=\"178,-151 68,-151 68,-132 178,-132 178,-151\" stroke=\"transparent\"/>\n",
       "<text font-family=\"arial\" font-size=\"10.00\" text-anchor=\"middle\" x=\"123\" y=\"-139\">Fluorescence.Emitter</text>\n",
       "</a>\n",
       "</g>\n",
       "</g>\n",
       "<!-- Design -->\n",
       "<g class=\"node\" id=\"node11\">\n",
       "<title>Design</title>\n",
       "<g id=\"a_node11\"><a xlink:title=\"design               \r",
       "------------------------------\r",
       "design_title         \r",
       "design_description   \r",
       "design_path          \r",
       "geometry_file        \r",
       "center_offset        \r",
       "efields              \r",
       "dfields              \r",
       "\">\n",
       "<polygon fill=\"#000000\" fill-opacity=\"0.125490\" points=\"269.5,-425 222.5,-425 222.5,-390 269.5,-390 269.5,-425\" stroke=\"transparent\"/>\n",
       "<text font-family=\"arial\" font-size=\"10.00\" text-anchor=\"start\" text-decoration=\"underline\" x=\"230.5\" y=\"-406\">Design</text>\n",
       "</a>\n",
       "</g>\n",
       "</g>\n",
       "<!-- Design&#45;&gt;Geometry -->\n",
       "<g class=\"edge\" id=\"edge12\">\n",
       "<title>Design-&gt;Geometry</title>\n",
       "<path d=\"M246,-389.8C246,-378.95 246,-364.87 246,-354.05\" fill=\"none\" stroke=\"#000000\" stroke-opacity=\"0.250980\" stroke-width=\"2\"/>\n",
       "</g>\n",
       "<!-- Tissue&#45;&gt;Detection -->\n",
       "<g class=\"edge\" id=\"edge13\">\n",
       "<title>Tissue-&gt;Detection</title>\n",
       "<path d=\"M255.31,-260.4C267.67,-249 289.36,-228.98 301.7,-217.58\" fill=\"none\" stroke=\"#000000\" stroke-opacity=\"0.250980\" stroke-width=\"2\"/>\n",
       "</g>\n",
       "<!-- Fluorescence -->\n",
       "<g class=\"node\" id=\"node13\">\n",
       "<title>Fluorescence</title>\n",
       "<g id=\"a_node13\"><a xlink:title=\"→ Tissue\r",
       "\">\n",
       "<ellipse cx=\"196\" cy=\"-208\" fill=\"#ff0000\" fill-opacity=\"0.125490\" rx=\"13\" ry=\"13\" stroke=\"#ff0000\" stroke-opacity=\"0.125490\"/>\n",
       "<text fill=\"#7f0000\" fill-opacity=\"0.627451\" font-family=\"arial\" font-size=\"12.00\" text-anchor=\"middle\" x=\"196\" y=\"-204.9\">Fluorescence</text>\n",
       "</a>\n",
       "</g>\n",
       "</g>\n",
       "<!-- Tissue&#45;&gt;Fluorescence -->\n",
       "<g class=\"edge\" id=\"edge14\">\n",
       "<title>Tissue-&gt;Fluorescence</title>\n",
       "<path d=\"M237.97,-259.36C228.58,-248.1 213.15,-229.59 203.85,-218.42\" fill=\"none\" stroke=\"#000000\" stroke-opacity=\"0.250980\" stroke-width=\"2\"/>\n",
       "</g>\n",
       "<!-- Fluorescence&#45;&gt;Fluorescence.Emitter -->\n",
       "<g class=\"edge\" id=\"edge15\">\n",
       "<title>Fluorescence-&gt;Fluorescence.Emitter</title>\n",
       "<path d=\"M186.75,-198.83C172.94,-186.63 147.03,-163.74 132.87,-151.22\" fill=\"none\" stroke=\"#000000\" stroke-opacity=\"0.250980\" stroke-width=\"0.75\"/>\n",
       "</g>\n",
       "<!-- Fluorescence&#45;&gt;IlluminationCycle -->\n",
       "<g class=\"edge\" id=\"edge16\">\n",
       "<title>Fluorescence-&gt;IlluminationCycle</title>\n",
       "<path d=\"M204.12,-197.48C214.51,-185.29 232.44,-164.27 242.85,-152.06\" fill=\"none\" stroke=\"#000000\" stroke-opacity=\"0.250980\" stroke-width=\"2\"/>\n",
       "</g>\n",
       "<!-- IlluminationCycle&#45;&gt;Demix -->\n",
       "<g class=\"edge\" id=\"edge17\">\n",
       "<title>IlluminationCycle-&gt;Demix</title>\n",
       "<path d=\"M240.17,-134.32C218.62,-122.02 170.62,-94.62 148.97,-82.26\" fill=\"none\" stroke=\"#000000\" stroke-opacity=\"0.250980\" stroke-width=\"0.75\"/>\n",
       "</g>\n",
       "<!-- DSim -->\n",
       "<g class=\"node\" id=\"node16\">\n",
       "<title>DSim</title>\n",
       "<g id=\"a_node16\"><a xlink:title=\"dsim                 \r",
       "------------------------------\r",
       "dsim_description     \r",
       "detector_type=&quot;one-sided&quot; \r",
       "detector_width=10.00 \r",
       "detector_height=10.00 \r",
       "anisotropy=0.88      \r",
       "absorption_length=14000 \r",
       "scatter_length=100   \r",
       "volume_dimx=1000     \r",
       "volume_dimy=1000     \r",
       "volume_dimz=1000     \r",
       "pitch=2.2            \r",
       "\">\n",
       "<polygon fill=\"#000000\" fill-opacity=\"0.125490\" points=\"360.5,-425 319.5,-425 319.5,-390 360.5,-390 360.5,-425\" stroke=\"transparent\"/>\n",
       "<text font-family=\"arial\" font-size=\"10.00\" text-anchor=\"start\" text-decoration=\"underline\" x=\"327.5\" y=\"-406\">DSim</text>\n",
       "</a>\n",
       "</g>\n",
       "</g>\n",
       "<!-- DSim&#45;&gt;DField -->\n",
       "<g class=\"edge\" id=\"edge18\">\n",
       "<title>DSim-&gt;DField</title>\n",
       "<path d=\"M340,-389.8C340,-377.35 340,-360.66 340,-349.51\" fill=\"none\" stroke=\"#000000\" stroke-opacity=\"0.250980\" stroke-width=\"2\"/>\n",
       "</g>\n",
       "<!-- Geometry.Emitter&#45;&gt;Fluorescence.Emitter -->\n",
       "<g class=\"edge\" id=\"edge19\">\n",
       "<title>Geometry.Emitter-&gt;Fluorescence.Emitter</title>\n",
       "<path d=\"M152.53,-260.17C149.86,-250.56 145.52,-234.72 142,-221 135.52,-195.74 128.43,-165.74 125.03,-151.23\" fill=\"none\" stroke=\"#000000\" stroke-opacity=\"0.250980\" stroke-width=\"2\"/>\n",
       "</g>\n",
       "<!-- EField&#45;&gt;Geometry.Emitter -->\n",
       "<g class=\"edge\" id=\"edge20\">\n",
       "<title>EField-&gt;Geometry.Emitter</title>\n",
       "<path d=\"M155,-323.37C155,-310.67 155,-291.04 155,-279.77\" fill=\"none\" stroke=\"#000000\" stroke-dasharray=\"5,2\" stroke-opacity=\"0.250980\" stroke-width=\"0.75\"/>\n",
       "</g>\n",
       "</g>\n",
       "</svg>"
      ],
      "text/plain": [
       "<datajoint.diagram.Diagram at 0x139181f60>"
      ]
     },
     "execution_count": 7,
     "metadata": {},
     "output_type": "execute_result"
    }
   ],
   "source": [
    "dj.Di(schema)"
   ]
  },
  {
   "cell_type": "code",
   "execution_count": 4,
   "metadata": {},
   "outputs": [
    {
     "name": "stdout",
     "output_type": "stream",
     "text": [
      "Connecting dbadmin@dimitri-proj0.cda95qzjbnvs.us-east-1.rds.amazonaws.com:3306\n"
     ]
    }
   ],
   "source": [
    "from neurophotonics.design import Design, Geometry"
   ]
  },
  {
   "cell_type": "code",
   "execution_count": 6,
   "metadata": {},
   "outputs": [],
   "source": [
    "schema = dj.schema('photonics')\n",
    "schema.spawn_missing_classes()"
   ]
  },
  {
   "cell_type": "code",
   "execution_count": null,
   "metadata": {},
   "outputs": [],
   "source": [
    "dj.ERD(schema)"
   ]
  },
  {
   "cell_type": "code",
   "execution_count": null,
   "metadata": {},
   "outputs": [],
   "source": [
    "ESim().delete()"
   ]
  },
  {
   "cell_type": "code",
   "execution_count": null,
   "metadata": {},
   "outputs": [],
   "source": [
    "schema.jobs"
   ]
  },
  {
   "cell_type": "code",
   "execution_count": null,
   "metadata": {},
   "outputs": [],
   "source": [
    "dj.config"
   ]
  },
  {
   "cell_type": "code",
   "execution_count": null,
   "metadata": {},
   "outputs": [],
   "source": [
    "Sample()"
   ]
  },
  {
   "cell_type": "code",
   "execution_count": null,
   "metadata": {},
   "outputs": [],
   "source": [
    "Geometry.populate(display_progress=True)"
   ]
  },
  {
   "cell_type": "code",
   "execution_count": null,
   "metadata": {},
   "outputs": [],
   "source": [
    "set(zip(*(Geometry.Emitter & 'design=1').fetch('e_norm_x', 'e_norm_y', 'e_norm_z')))"
   ]
  },
  {
   "cell_type": "markdown",
   "metadata": {},
   "source": [
    "# Design 1 Geometry"
   ]
  },
  {
   "cell_type": "code",
   "execution_count": null,
   "metadata": {},
   "outputs": [],
   "source": [
    "r = {'design': 1}\n",
    "fig, axx = plt.subplots(1, 2, figsize=(8,4))\n",
    "\n",
    "ax = axx[0]\n",
    "\n",
    "ax.set_aspect('equal')\n",
    "ax.set_xlabel(r'$x\\; (\\mu\\mathsf{m})$', fontsize=10)\n",
    "ax.set_ylabel(r'$y\\; (\\mu\\mathsf{m})$', fontsize=10)\n",
    "ax.set_xticks(np.r_[-600:601:200])\n",
    "ax.set_yticks(np.r_[-600:601:200])\n",
    "ax.grid(True)\n",
    "\n",
    "_ = (Geometry.Emitter & 'design=1').fetch('e_center_x', 'e_center_y', 'e_norm_x', 'e_norm_y')\n",
    "for x, y, nx, ny in zip(*_):\n",
    "    ax.plot((x, x+30*nx), (y, y+30*ny), 'g', alpha=0.2, lw=0.5)\n",
    "\n",
    "_ = (Geometry.Detector & 'design=1').fetch('d_center_x', 'd_center_y', 'd_norm_x', 'd_norm_y')\n",
    "for x, y, nx, ny in zip(*_):\n",
    "    ax.plot((x, x+30*nx), (y, y+30*ny), 'k', alpha=0.2)\n",
    "\n",
    "\n",
    "ax = axx[1]\n",
    "\n",
    "ax.set_aspect('equal')\n",
    "ax.set_xlabel(r'$y\\; (\\mu\\mathsf{m})$', fontsize=10)\n",
    "ax.set_ylabel(r'$z\\; (\\mu\\mathsf{m})$', fontsize=10)\n",
    "ax.grid(True)\n",
    "\n",
    "_ = (Geometry.Emitter & 'design=1').fetch('e_center_x', 'e_center_z', 'e_norm_x', 'e_norm_z')\n",
    "for x, z, nx, nz in zip(*_):\n",
    "    ax.plot((x, x+30*nx), (z, z+30*nz), 'g', lw=0.5)\n",
    "\n",
    "_ = (Geometry.Detector & 'design=1').fetch('d_center_y', 'd_center_z', 'd_norm_y', 'd_norm_z')\n",
    "for y, z, ny, nz in zip(*_):\n",
    "    ax.plot((y, y+30*ny), (z, z+30*nz), 'k', lw=1)\n",
    "\n",
    "fig.suptitle('Design {design}'.format(**r))\n",
    "\n",
    "\n",
    "fig.savefig('geometry-1.pdf')"
   ]
  },
  {
   "cell_type": "markdown",
   "metadata": {},
   "source": [
    "# Designs 3 and 4 \n",
    "The orientations of pixels (norms) were missing. \n",
    "\n",
    "25 shanks with 34 steerable emitters and 33 detectors"
   ]
  },
  {
   "cell_type": "code",
   "execution_count": null,
   "metadata": {},
   "outputs": [],
   "source": [
    "r = {'design': 4}\n",
    "fig, axx = plt.subplots(1, 2, figsize=(8,4))\n",
    "\n",
    "ax = axx[0]\n",
    "\n",
    "ax.set_aspect('equal')\n",
    "ax.set_xlabel(r'$x\\; (\\mu\\mathsf{m})$', fontsize=10)\n",
    "ax.set_ylabel(r'$y\\; (\\mu\\mathsf{m})$', fontsize=10)\n",
    "ax.set_xticks(np.r_[-600:601:200])\n",
    "ax.set_yticks(np.r_[-600:601:200])\n",
    "ax.grid(True)\n",
    "\n",
    "_ = (Geometry.Emitter & r).fetch('e_center_x', 'e_center_y', 'e_norm_x', 'e_norm_y')\n",
    "for x, y, nx, ny in tqdm.tqdm(zip(*_)):\n",
    "    ax.plot((x, x+30*nx), (y, y+30*ny), 'g-', alpha=0.2, lw=1)\n",
    "\n",
    "_ = (Geometry.Detector & r).fetch('d_center_x', 'd_center_y', 'd_norm_x', 'd_norm_y')\n",
    "_ = set(zip(*_))\n",
    "for x, y, nx, ny in tqdm.tqdm(_):\n",
    "    ax.plot((x, x+30*nx), (y, y+30*ny), 'k-', alpha=0.2)\n",
    "\n",
    "ax = axx[1]\n",
    "\n",
    "ax.set_aspect('equal')\n",
    "ax.set_xlabel(r'$y\\; (\\mu\\mathsf{m})$', fontsize=10)\n",
    "ax.set_ylabel(r'$z\\; (\\mu\\mathsf{m})$', fontsize=10)\n",
    "ax.grid(True)\n",
    "\n",
    "_ = (Geometry.Emitter & r).fetch('e_center_y', 'e_center_z', 'e_norm_y', 'e_norm_z')\n",
    "_ = set(zip(*_))\n",
    "for y, z, ny, nz in tqdm.tqdm(_):\n",
    "    ax.plot((y, y+30*ny), (z, z+30*nz), 'g-', lw=1)\n",
    "\n",
    "_ = (Geometry.Detector & r).fetch('d_center_y', 'd_center_z', 'd_norm_y', 'd_norm_z')\n",
    "_ = set(zip(*_))\n",
    "for y, z, ny, nz in tqdm.tqdm(_):\n",
    "    ax.plot((y, y+30*ny), (z, z+30*nz), 'k-', lw=1)\n",
    "\n",
    "fig.suptitle('Design {design}'.format(**r))\n",
    "\n",
    "fig.savefig('geometry-4.png', dpi=300)"
   ]
  },
  {
   "cell_type": "code",
   "execution_count": null,
   "metadata": {},
   "outputs": [],
   "source": [
    "set(zip(*(Geometry.Emitter & 'design=3').fetch('e_norm_x', 'e_norm_y', 'e_norm_z')))"
   ]
  },
  {
   "cell_type": "code",
   "execution_count": null,
   "metadata": {},
   "outputs": [],
   "source": [
    "set(zip(*(Geometry.Detector & 'design=3').fetch('d_norm_x', 'd_norm_y', 'd_norm_z')))"
   ]
  },
  {
   "cell_type": "code",
   "execution_count": null,
   "metadata": {},
   "outputs": [],
   "source": [
    "z = (Geometry.Detector & 'design=3').fetch('d_center_z')\n",
    "plt.plot(np.cos((z - 5)*np.pi*9/40 + np.pi/16), np.sin((z - 5)*np.pi*9/40 + np.pi/16))\n",
    "plt.axis('equal');"
   ]
  },
  {
   "cell_type": "code",
   "execution_count": null,
   "metadata": {},
   "outputs": [],
   "source": [
    "!open geometry-4.pdf"
   ]
  },
  {
   "cell_type": "code",
   "execution_count": null,
   "metadata": {},
   "outputs": [],
   "source": [
    "len(set(zip(*(Geometry.Emitter & r).fetch('e_center_x', 'e_center_y', 'e_center_z'))))"
   ]
  },
  {
   "cell_type": "code",
   "execution_count": null,
   "metadata": {},
   "outputs": [],
   "source": [
    "len(set(zip(*(Geometry.Detector & r).fetch('d_center_x', 'd_center_y', 'd_center_z'))))"
   ]
  },
  {
   "cell_type": "code",
   "execution_count": null,
   "metadata": {},
   "outputs": [],
   "source": [
    "825/25"
   ]
  },
  {
   "cell_type": "code",
   "execution_count": null,
   "metadata": {},
   "outputs": [],
   "source": [
    "set(zip(*(Geometry.Detector & 'design=1').fetch('d_top_x', 'd_top_y', 'd_top_z')))"
   ]
  },
  {
   "cell_type": "code",
   "execution_count": null,
   "metadata": {},
   "outputs": [],
   "source": [
    "set(zip(*(Geometry.Detector & 'design=1').fetch('d_norm_x', 'd_norm_y', 'd_norm_z')))"
   ]
  },
  {
   "cell_type": "code",
   "execution_count": null,
   "metadata": {},
   "outputs": [],
   "source": [
    "a = np.array(sorted(list(set((Geometry.Emitter & 'design=3').fetch('e_center_z')))))"
   ]
  },
  {
   "cell_type": "code",
   "execution_count": null,
   "metadata": {},
   "outputs": [],
   "source": [
    "np.diff(a)"
   ]
  },
  {
   "cell_type": "code",
   "execution_count": null,
   "metadata": {},
   "outputs": [],
   "source": [
    "schema.spawn_missing_classes()\n",
    "dj.Diagram(schema)"
   ]
  },
  {
   "cell_type": "code",
   "execution_count": null,
   "metadata": {},
   "outputs": [],
   "source": [
    "Geometry.Detector()"
   ]
  },
  {
   "cell_type": "code",
   "execution_count": null,
   "metadata": {},
   "outputs": [],
   "source": [
    "sorted(np.r_[:135*8:135] % 360)"
   ]
  },
  {
   "cell_type": "code",
   "execution_count": null,
   "metadata": {},
   "outputs": [],
   "source": [
    "Geometry.Detector & 'design=1'"
   ]
  },
  {
   "cell_type": "code",
   "execution_count": null,
   "metadata": {},
   "outputs": [],
   "source": [
    "Geometry.Detector"
   ]
  },
  {
   "cell_type": "code",
   "execution_count": null,
   "metadata": {},
   "outputs": [],
   "source": [
    "dj.Diagram(schema)"
   ]
  },
  {
   "cell_type": "code",
   "execution_count": null,
   "metadata": {},
   "outputs": [],
   "source": [
    "Geometry()"
   ]
  },
  {
   "cell_type": "code",
   "execution_count": null,
   "metadata": {},
   "outputs": [],
   "source": [
    "DField * DSim"
   ]
  },
  {
   "cell_type": "code",
   "execution_count": null,
   "metadata": {},
   "outputs": [],
   "source": [
    "Geometry.drop()"
   ]
  },
  {
   "cell_type": "code",
   "execution_count": null,
   "metadata": {},
   "outputs": [],
   "source": [
    "dj.Diagram(schema)"
   ]
  },
  {
   "cell_type": "code",
   "execution_count": null,
   "metadata": {},
   "outputs": [],
   "source": [
    "Design()"
   ]
  },
  {
   "cell_type": "code",
   "execution_count": null,
   "metadata": {},
   "outputs": [],
   "source": [
    "np.r_[22.5:1080:135] % 360"
   ]
  },
  {
   "cell_type": "code",
   "execution_count": null,
   "metadata": {},
   "outputs": [],
   "source": [
    "360*3"
   ]
  },
  {
   "cell_type": "code",
   "execution_count": null,
   "metadata": {},
   "outputs": [],
   "source": [
    "min(np.array(sorted(list(set((Geometry.Emitter & 'design=4').fetch('e_center_z'))))))"
   ]
  },
  {
   "cell_type": "code",
   "execution_count": null,
   "metadata": {},
   "outputs": [],
   "source": [
    "ls"
   ]
  },
  {
   "cell_type": "code",
   "execution_count": null,
   "metadata": {},
   "outputs": [],
   "source": [
    "!open geometry-4.png"
   ]
  },
  {
   "cell_type": "code",
   "execution_count": null,
   "metadata": {},
   "outputs": [],
   "source": []
  }
 ],
 "metadata": {
  "kernelspec": {
   "display_name": "Python 3",
   "language": "python",
   "name": "python3"
  },
  "language_info": {
   "codemirror_mode": {
    "name": "ipython",
    "version": 3
   },
   "file_extension": ".py",
   "mimetype": "text/x-python",
   "name": "python",
   "nbconvert_exporter": "python",
   "pygments_lexer": "ipython3",
   "version": "3.7.3"
  }
 },
 "nbformat": 4,
 "nbformat_minor": 4
}
