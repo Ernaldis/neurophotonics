{
 "cells": [
  {
   "cell_type": "code",
   "execution_count": 27,
   "metadata": {},
   "outputs": [],
   "source": [
    "%matplotlib inline\n",
    "from matplotlib import pyplot as plt\n",
    "import numpy as np"
   ]
  },
  {
   "cell_type": "code",
   "execution_count": 28,
   "metadata": {},
   "outputs": [],
   "source": [
    "import datajoint as dj\n",
    "import pathlib\n",
    "import itertools\n",
    "import re\n",
    "\n",
    "dj.config[\"enable_python_native_blobs\"] = True"
   ]
  },
  {
   "cell_type": "code",
   "execution_count": 29,
   "metadata": {},
   "outputs": [],
   "source": [
    "schema = dj.schema('photonics')"
   ]
  },
  {
   "cell_type": "code",
   "execution_count": 30,
   "metadata": {},
   "outputs": [],
   "source": [
    "@schema\n",
    "class Design(dj.Lookup):\n",
    "    definition = \"\"\"\n",
    "    design : smallint     # design number\n",
    "    ---\n",
    "    design_title : varchar(255)    \n",
    "    design_description : varchar(1000)\n",
    "    design_path    : varchar(255)  \n",
    "    geometry_file  : varchar(255)\n",
    "    center_offset  : blob   # offset from legacy implementation\n",
    "    \"\"\"\n",
    "    \n",
    "    contents = [\n",
    "        (1, '8-emitter-design', '', 'Design1/matrix_8pix_random_1200x1200x400_15-04-17', \n",
    "         'geometry.csv', (600, 600, 0)),\n",
    "        (3, \"Wesley Sacher's shaped fields\", \"\", \n",
    "         \"Design3/matrix_wesley1_revised_revised_1000x1000x1000_15-12-15\", \n",
    "         \"geometry_beams_as_emitters_wesley1_1000x1000x1000.csv\", (550, 510, 0)),\n",
    "        (4, \"Shaped fields with 30-degree-collection cones\", \n",
    "         \"50 emitters per shank, 30-degree emission detection fields\", \n",
    "         \"Design4/matrix_steer_and_collect_a1_b3_v3_16-06-02\", \n",
    "         \"steer_coll_a1_b3_beams_as_emitters_geometry.csv\", (550, 510, 0)),\n",
    "    ]"
   ]
  },
  {
   "cell_type": "code",
   "execution_count": 31,
   "metadata": {},
   "outputs": [
    {
     "data": {
      "text/html": [
       "\n",
       "        \n",
       "        <style type=\"text/css\">\n",
       "            .Relation{\n",
       "                border-collapse:collapse;\n",
       "            }\n",
       "            .Relation th{\n",
       "                background: #A0A0A0; color: #ffffff; padding:4px; border:#f0e0e0 1px solid;\n",
       "                font-weight: normal; font-family: monospace; font-size: 100%;\n",
       "            }\n",
       "            .Relation td{\n",
       "                padding:4px; border:#f0e0e0 1px solid; font-size:100%;\n",
       "            }\n",
       "            .Relation tr:nth-child(odd){\n",
       "                background: #ffffff;\n",
       "            }\n",
       "            .Relation tr:nth-child(even){\n",
       "                background: #f3f1ff;\n",
       "            }\n",
       "            /* Tooltip container */\n",
       "            .djtooltip {\n",
       "            }\n",
       "            /* Tooltip text */\n",
       "            .djtooltip .djtooltiptext {\n",
       "                visibility: hidden;\n",
       "                width: 120px;\n",
       "                background-color: black;\n",
       "                color: #fff;\n",
       "                text-align: center;\n",
       "                padding: 5px 0;\n",
       "                border-radius: 6px;\n",
       "                /* Position the tooltip text - see examples below! */\n",
       "                position: absolute;\n",
       "                z-index: 1;\n",
       "            }\n",
       "            #primary {\n",
       "                font-weight: bold;\n",
       "                color: black;\n",
       "            }\n",
       "\n",
       "            #nonprimary {\n",
       "                font-weight: normal;\n",
       "                color: white;\n",
       "            }\n",
       "\n",
       "            /* Show the tooltip text when you mouse over the tooltip container */\n",
       "            .djtooltip:hover .djtooltiptext {\n",
       "                visibility: visible;\n",
       "            }\n",
       "        </style>\n",
       "        \n",
       "        <b></b>\n",
       "            <div style=\"max-height:1000px;max-width:1500px;overflow:auto;\">\n",
       "            <table border=\"1\" class=\"Relation\">\n",
       "                <thead> <tr style=\"text-align: right;\"> <th> <div class=\"djtooltip\">\n",
       "                                <p id=\"primary\">design</p>\n",
       "                                <span class=\"djtooltiptext\">design number</span>\n",
       "                            </div></th><th><div class=\"djtooltip\">\n",
       "                                <p id=\"nonprimary\">design_title</p>\n",
       "                                <span class=\"djtooltiptext\"></span>\n",
       "                            </div></th><th><div class=\"djtooltip\">\n",
       "                                <p id=\"nonprimary\">design_description</p>\n",
       "                                <span class=\"djtooltiptext\"></span>\n",
       "                            </div></th><th><div class=\"djtooltip\">\n",
       "                                <p id=\"nonprimary\">design_path</p>\n",
       "                                <span class=\"djtooltiptext\"></span>\n",
       "                            </div></th><th><div class=\"djtooltip\">\n",
       "                                <p id=\"nonprimary\">geometry_file</p>\n",
       "                                <span class=\"djtooltiptext\"></span>\n",
       "                            </div></th><th><div class=\"djtooltip\">\n",
       "                                <p id=\"nonprimary\">center_offset</p>\n",
       "                                <span class=\"djtooltiptext\">offset from legacy implementation</span>\n",
       "                            </div> </th> </tr> </thead>\n",
       "                <tbody> <tr> <td>1</td>\n",
       "<td>8-emitter-design</td>\n",
       "<td></td>\n",
       "<td>Design1/matrix_8pix_random_1200x1200x400_15-04-17</td>\n",
       "<td>geometry.csv</td>\n",
       "<td>=BLOB=</td></tr><tr><td>3</td>\n",
       "<td>Wesley Sacher's shaped fields</td>\n",
       "<td></td>\n",
       "<td>Design3/matrix_wesley1_revised_revised_1000x1000x1000_15-12-15</td>\n",
       "<td>geometry_beams_as_emitters_wesley1_1000x1000x1000.csv</td>\n",
       "<td>=BLOB=</td></tr><tr><td>4</td>\n",
       "<td>Shaped fields with 30-degree-collection cones</td>\n",
       "<td>50 emitters per shank, 30-degree emission detection fields</td>\n",
       "<td>Design4/matrix_steer_and_collect_a1_b3_v3_16-06-02</td>\n",
       "<td>steer_coll_a1_b3_beams_as_emitters_geometry.csv</td>\n",
       "<td>=BLOB=</td> </tr> </tbody>\n",
       "            </table>\n",
       "            \n",
       "            <p>Total: 3</p></div>\n",
       "            "
      ],
      "text/plain": [
       "*design    design_title   design_descrip design_path    geometry_file  center_off\n",
       "+--------+ +------------+ +------------+ +------------+ +------------+ +--------+\n",
       "1          8-emitter-desi                Design1/matrix geometry.csv   =BLOB=    \n",
       "3          Wesley Sacher'                Design3/matrix geometry_beams =BLOB=    \n",
       "4          Shaped fields  50 emitters pe Design4/matrix steer_coll_a1_ =BLOB=    \n",
       " (Total: 3)"
      ]
     },
     "execution_count": 31,
     "metadata": {},
     "output_type": "execute_result"
    }
   ],
   "source": [
    "Design()"
   ]
  },
  {
   "cell_type": "code",
   "execution_count": 32,
   "metadata": {},
   "outputs": [],
   "source": [
    "@schema\n",
    "class Technical(dj.Computed):\n",
    "    definition = \"\"\"  # technical characteristics of probe designs\n",
    "    -> Design\n",
    "    ---\n",
    "    max_emitter_power :float   # (uW) max power, averaged over pulse period\n",
    "    dark_photon_rate :float  # (photons/sec)\n",
    "    \"\"\"\n",
    "\n",
    "    def make(self, key):\n",
    "        self.insert1(dict(key, max_emitter_power=100, dark_photon_rate=300))"
   ]
  },
  {
   "cell_type": "code",
   "execution_count": 33,
   "metadata": {},
   "outputs": [
    {
     "data": {
      "text/html": [
       "\n",
       "        \n",
       "        <style type=\"text/css\">\n",
       "            .Relation{\n",
       "                border-collapse:collapse;\n",
       "            }\n",
       "            .Relation th{\n",
       "                background: #A0A0A0; color: #ffffff; padding:4px; border:#f0e0e0 1px solid;\n",
       "                font-weight: normal; font-family: monospace; font-size: 100%;\n",
       "            }\n",
       "            .Relation td{\n",
       "                padding:4px; border:#f0e0e0 1px solid; font-size:100%;\n",
       "            }\n",
       "            .Relation tr:nth-child(odd){\n",
       "                background: #ffffff;\n",
       "            }\n",
       "            .Relation tr:nth-child(even){\n",
       "                background: #f3f1ff;\n",
       "            }\n",
       "            /* Tooltip container */\n",
       "            .djtooltip {\n",
       "            }\n",
       "            /* Tooltip text */\n",
       "            .djtooltip .djtooltiptext {\n",
       "                visibility: hidden;\n",
       "                width: 120px;\n",
       "                background-color: black;\n",
       "                color: #fff;\n",
       "                text-align: center;\n",
       "                padding: 5px 0;\n",
       "                border-radius: 6px;\n",
       "                /* Position the tooltip text - see examples below! */\n",
       "                position: absolute;\n",
       "                z-index: 1;\n",
       "            }\n",
       "            #primary {\n",
       "                font-weight: bold;\n",
       "                color: black;\n",
       "            }\n",
       "\n",
       "            #nonprimary {\n",
       "                font-weight: normal;\n",
       "                color: white;\n",
       "            }\n",
       "\n",
       "            /* Show the tooltip text when you mouse over the tooltip container */\n",
       "            .djtooltip:hover .djtooltiptext {\n",
       "                visibility: visible;\n",
       "            }\n",
       "        </style>\n",
       "        \n",
       "        <b>technical characteristics of probe designs</b>\n",
       "            <div style=\"max-height:1000px;max-width:1500px;overflow:auto;\">\n",
       "            <table border=\"1\" class=\"Relation\">\n",
       "                <thead> <tr style=\"text-align: right;\"> <th> <div class=\"djtooltip\">\n",
       "                                <p id=\"primary\">design</p>\n",
       "                                <span class=\"djtooltiptext\">design number</span>\n",
       "                            </div></th><th><div class=\"djtooltip\">\n",
       "                                <p id=\"nonprimary\">max_emitter_power</p>\n",
       "                                <span class=\"djtooltiptext\">(uW) max power, averaged over pulse period</span>\n",
       "                            </div></th><th><div class=\"djtooltip\">\n",
       "                                <p id=\"nonprimary\">dark_photon_rate</p>\n",
       "                                <span class=\"djtooltiptext\">(photons/sec)</span>\n",
       "                            </div> </th> </tr> </thead>\n",
       "                <tbody> <tr>  </tr> </tbody>\n",
       "            </table>\n",
       "            \n",
       "            <p>Total: 0</p></div>\n",
       "            "
      ],
      "text/plain": [
       "*design    max_emitter_po dark_photon_ra\n",
       "+--------+ +------------+ +------------+\n",
       "\n",
       " (Total: 0)"
      ]
     },
     "execution_count": 33,
     "metadata": {},
     "output_type": "execute_result"
    }
   ],
   "source": [
    "Technical()"
   ]
  },
  {
   "cell_type": "code",
   "execution_count": 34,
   "metadata": {},
   "outputs": [],
   "source": [
    "@schema\n",
    "class Geometry(dj.Imported):\n",
    "    definition = \"\"\"\n",
    "    -> Design\n",
    "    ---\n",
    "    \"\"\"\n",
    "    \n",
    "    class Emitter(dj.Part):\n",
    "        definition = \"\"\"  # subtable of Geometry\n",
    "            -> master\n",
    "            emitter :smallint\n",
    "            ----\n",
    "            e_center_x   :float  # um\n",
    "            e_center_y   :float  # um\n",
    "            e_center_z   :float  # um\n",
    "            e_norm_x : float \n",
    "            e_norm_y : float \n",
    "            e_norm_z : float \n",
    "            e_top_x : float \n",
    "            e_top_y : float \n",
    "            e_top_z : float \n",
    "            e_height : float  # um\n",
    "            e_width  : float  # um\n",
    "            e_thick  : float  # um            \n",
    "            \"\"\"\n",
    "        \n",
    "    class Detector(dj.Part):\n",
    "        definition = \"\"\"    # subtable of Geometry\n",
    "            -> master\n",
    "            detector :smallint\n",
    "            ----\n",
    "            d_center_x   :float  # um\n",
    "            d_center_y   :float  # um\n",
    "            d_center_z   :float  # um\n",
    "            d_norm_x : float \n",
    "            d_norm_y : float \n",
    "            d_norm_z : float \n",
    "            d_top_x : float \n",
    "            d_top_y : float \n",
    "            d_top_z : float \n",
    "            d_height : float  # um\n",
    "            d_width  : float  # um\n",
    "            d_thick  : float  # um            \n",
    "            \"\"\"\n",
    "\n",
    "    class Shank(dj.Part):\n",
    "        definition = \"\"\"  # subtable of Geometry\n",
    "            -> master\n",
    "            shank : smallint\n",
    "            ----\n",
    "            shank_x   : float   # um\n",
    "            shank_y   : float   # um\n",
    "            \"\"\"\n",
    "\n",
    "    def make(self, key):\n",
    "        self.insert1(key)\n",
    "        legacy_filepath = '../legacy/matrices'\n",
    "        detector_pattern = re.compile(r'Detector,\"\\((?P<center>.*)\\)\",\"\\((?P<normal>.*)\\)\",\"\\((?P<top>.*)\\)\",(?P<height>.*),(?P<width>.*),(?P<thick>.*)')\n",
    "        emitter_pattern = re.compile(r'Emitter,\"\\((?P<center>.*)\\)\",\"\\((?P<normal>.*)\\)\",\"\\((?P<top>.*)\\)\",(?P<height>.*),(?P<width>.*),(?P<thick>.*)')\n",
    "        d_count = itertools.count()\n",
    "        e_count = itertools.count()\n",
    "        last_rec = {}\n",
    "        origin = (Design & key).fetch1('center_offset')\n",
    "        for line in pathlib.Path(legacy_filepath, *(Design & key).fetch1('design_path', 'geometry_file')).open():\n",
    "            # detectors\n",
    "            match = detector_pattern.match(line)\n",
    "            if match:\n",
    "                rec = dict(key, detector=next(d_count))\n",
    "                rec.update(zip(('d_center_x','d_center_y','d_center_z'), \n",
    "                               (float(i)-offset for i, offset in zip(match['center'].split(','), origin))))\n",
    "                rec.update(zip(('d_norm_x','d_norm_y','d_norm_z'), \n",
    "                               (float(i) for i in match['normal'].split(','))))\n",
    "                rec.update(zip(('d_top_x','d_top_y','d_top_z'), \n",
    "                               (float(i) for i in match['normal'].split(','))))\n",
    "                rec.update(\n",
    "                    d_height=float(match['height']), \n",
    "                    d_width=float(match['width']),\n",
    "                    d_thick=float(match['thick']))\n",
    "                self.Detector.insert1(rec)\n",
    "                continue\n",
    "                \n",
    "            # emitters\n",
    "            match = emitter_pattern.match(line)\n",
    "            if match:\n",
    "                rec = dict(key)\n",
    "                rec.update(zip(('e_center_x','e_center_y','e_center_z'), \n",
    "                               (float(i)-offset for i, offset in zip(match['center'].split(','), origin))))\n",
    "                rec.update(zip(('e_norm_x','e_norm_y','e_norm_z'), \n",
    "                               (float(i) for i in match['normal'].split(','))))\n",
    "                rec.update(zip(('e_top_x','e_top_y','e_top_z'), \n",
    "                               (float(i) for i in match['normal'].split(','))))\n",
    "                rec.update(\n",
    "                    e_height=float(match['height']), \n",
    "                    e_width=float(match['width']),\n",
    "                    e_thick=float(match['thick']))\n",
    "                if rec != last_rec:\n",
    "                    self.Emitter.insert1(dict(rec, emitter=next(e_count)))\n",
    "                    last_rec = rec\n",
    "                continue"
   ]
  },
  {
   "cell_type": "code",
   "execution_count": 36,
   "metadata": {},
   "outputs": [],
   "source": [
    "Geometry.populate()"
   ]
  },
  {
   "cell_type": "code",
   "execution_count": 37,
   "metadata": {},
   "outputs": [
    {
     "data": {
      "text/html": [
       "\n",
       "        \n",
       "        <style type=\"text/css\">\n",
       "            .Relation{\n",
       "                border-collapse:collapse;\n",
       "            }\n",
       "            .Relation th{\n",
       "                background: #A0A0A0; color: #ffffff; padding:4px; border:#f0e0e0 1px solid;\n",
       "                font-weight: normal; font-family: monospace; font-size: 100%;\n",
       "            }\n",
       "            .Relation td{\n",
       "                padding:4px; border:#f0e0e0 1px solid; font-size:100%;\n",
       "            }\n",
       "            .Relation tr:nth-child(odd){\n",
       "                background: #ffffff;\n",
       "            }\n",
       "            .Relation tr:nth-child(even){\n",
       "                background: #f3f1ff;\n",
       "            }\n",
       "            /* Tooltip container */\n",
       "            .djtooltip {\n",
       "            }\n",
       "            /* Tooltip text */\n",
       "            .djtooltip .djtooltiptext {\n",
       "                visibility: hidden;\n",
       "                width: 120px;\n",
       "                background-color: black;\n",
       "                color: #fff;\n",
       "                text-align: center;\n",
       "                padding: 5px 0;\n",
       "                border-radius: 6px;\n",
       "                /* Position the tooltip text - see examples below! */\n",
       "                position: absolute;\n",
       "                z-index: 1;\n",
       "            }\n",
       "            #primary {\n",
       "                font-weight: bold;\n",
       "                color: black;\n",
       "            }\n",
       "\n",
       "            #nonprimary {\n",
       "                font-weight: normal;\n",
       "                color: white;\n",
       "            }\n",
       "\n",
       "            /* Show the tooltip text when you mouse over the tooltip container */\n",
       "            .djtooltip:hover .djtooltiptext {\n",
       "                visibility: visible;\n",
       "            }\n",
       "        </style>\n",
       "        \n",
       "        \n",
       "            <div style=\"max-height:1000px;max-width:1500px;overflow:auto;\">\n",
       "            <table border=\"1\" class=\"Relation\">\n",
       "                <thead> <tr style=\"text-align: right;\"> <th> <div class=\"djtooltip\">\n",
       "                                <p id=\"primary\">design</p>\n",
       "                                <span class=\"djtooltiptext\">design number</span>\n",
       "                            </div></th><th><div class=\"djtooltip\">\n",
       "                                <p id=\"nonprimary\">n</p>\n",
       "                                <span class=\"djtooltiptext\">calculated attribute</span>\n",
       "                            </div> </th> </tr> </thead>\n",
       "                <tbody> <tr> <td>1</td>\n",
       "<td>1296</td></tr><tr><td>3</td>\n",
       "<td>850</td></tr><tr><td>4</td>\n",
       "<td>850</td> </tr> </tbody>\n",
       "            </table>\n",
       "            \n",
       "            <p>Total: 3</p></div>\n",
       "            "
      ],
      "text/plain": [
       "*design    n       \n",
       "+--------+ +------+\n",
       "1          1296    \n",
       "3          850     \n",
       "4          850     \n",
       " (Total: 3)"
      ]
     },
     "execution_count": 37,
     "metadata": {},
     "output_type": "execute_result"
    }
   ],
   "source": [
    "Geometry.aggr(Geometry.Emitter(), n='count(*)')"
   ]
  },
  {
   "cell_type": "code",
   "execution_count": 38,
   "metadata": {},
   "outputs": [
    {
     "data": {
      "text/plain": [
       "850.0"
      ]
     },
     "execution_count": 38,
     "metadata": {},
     "output_type": "execute_result"
    }
   ],
   "source": [
    "7650/9"
   ]
  },
  {
   "cell_type": "code",
   "execution_count": 39,
   "metadata": {},
   "outputs": [
    {
     "data": {
      "text/plain": [
       "{(10.0, 10.0)}"
      ]
     },
     "execution_count": 39,
     "metadata": {},
     "output_type": "execute_result"
    }
   ],
   "source": [
    "set(zip(*(Geometry.Emitter() & 'design=4').fetch('e_height', 'e_width')))"
   ]
  },
  {
   "cell_type": "code",
   "execution_count": 40,
   "metadata": {},
   "outputs": [
    {
     "data": {
      "text/plain": [
       "{(50.0, 10.0)}"
      ]
     },
     "execution_count": 40,
     "metadata": {},
     "output_type": "execute_result"
    }
   ],
   "source": [
    "set(zip(*(Geometry.Detector() & 'design=1').fetch('d_height', 'd_width')))"
   ]
  },
  {
   "cell_type": "code",
   "execution_count": 41,
   "metadata": {},
   "outputs": [
    {
     "data": {
      "text/plain": [
       "(980.0, 350.0)"
      ]
     },
     "execution_count": 41,
     "metadata": {},
     "output_type": "execute_result"
    }
   ],
   "source": [
    "max(zip(*(Geometry.Detector() & 'design=3').fetch('d_center_z', 'd_center_x')))"
   ]
  },
  {
   "cell_type": "markdown",
   "metadata": {},
   "source": [
    "# Design 1 Geometry"
   ]
  },
  {
   "cell_type": "code",
   "execution_count": 42,
   "metadata": {},
   "outputs": [
    {
     "data": {
      "image/png": "[encoded data removed]",
      "text/plain": [
       "<Figure size 864x288 with 2 Axes>"
      ]
     },
     "metadata": {
      "needs_background": "light"
     },
     "output_type": "display_data"
    }
   ],
   "source": [
    "r = {'design': 1}\n",
    "fig, axx = plt.subplots(1, 2, figsize=(12,4))\n",
    "\n",
    "ax = axx[0]\n",
    "\n",
    "ax.set_aspect('equal')\n",
    "ax.set_xlabel(r'$x\\; (\\mu\\mathsf{m})$', fontsize=10)\n",
    "ax.set_ylabel(r'$y\\; (\\mu\\mathsf{m})$', fontsize=10)\n",
    "ax.set_xticks(np.r_[-600:601:200])\n",
    "ax.set_yticks(np.r_[-600:601:200])\n",
    "ax.grid(True)\n",
    "\n",
    "_ = (Geometry.Emitter & 'design=1').fetch('e_center_x', 'e_center_y', 'e_norm_x', 'e_norm_y')\n",
    "for x, y, nx, ny in zip(*_):\n",
    "    ax.plot((x, x+30*nx), (y, y+30*ny), 'g', alpha=0.2, lw=0.5)\n",
    "\n",
    "_ = (Geometry.Detector & 'design=1').fetch('d_center_x', 'd_center_y', 'd_norm_x', 'd_norm_y')\n",
    "for x, y, nx, ny in zip(*_):\n",
    "    ax.plot((x, x+30*nx), (y, y+30*ny), 'k', alpha=0.2)\n",
    "\n",
    "    \n",
    "ax = axx[1]\n",
    "\n",
    "ax.set_aspect('equal')\n",
    "ax.set_xlabel(r'$y\\; (\\mu\\mathsf{m})$', fontsize=10)\n",
    "ax.set_ylabel(r'$z\\; (\\mu\\mathsf{m})$', fontsize=10)\n",
    "ax.grid(True)\n",
    "\n",
    "_ = (Geometry.Emitter & 'design=1').fetch('e_center_x', 'e_center_z', 'e_norm_x', 'e_norm_z')\n",
    "for x, z, nx, nz in zip(*_):\n",
    "    ax.plot((x, x+30*nx), (z, z+30*nz), 'g', lw=0.5)\n",
    "\n",
    "_ = (Geometry.Detector & 'design=1').fetch('d_center_y', 'd_center_z', 'd_norm_y', 'd_norm_z')\n",
    "for y, z, ny, nz in zip(*_):\n",
    "    ax.plot((y, y+30*ny), (z, z+30*nz), 'k', lw=1)\n",
    "\n",
    "fig.suptitle('Design {design}'.format(**r))\n",
    "\n",
    "\n",
    "fig.savefig('geometry-1.pdf')"
   ]
  },
  {
   "cell_type": "markdown",
   "metadata": {},
   "source": [
    "# Designs 3 and 4 \n",
    "The orientations of pixels (norms) were missing. \n",
    "\n",
    "25 shanks with 34 steerable emitters and 33 detectors"
   ]
  },
  {
   "cell_type": "code",
   "execution_count": 43,
   "metadata": {},
   "outputs": [
    {
     "data": {
      "image/png": "[encoded data removed]",
      "text/plain": [
       "<Figure size 864x288 with 2 Axes>"
      ]
     },
     "metadata": {
      "needs_background": "light"
     },
     "output_type": "display_data"
    }
   ],
   "source": [
    "r = {'design': 4}\n",
    "fig, axx = plt.subplots(1, 2, figsize=(12,4))\n",
    "\n",
    "ax = axx[0]\n",
    "\n",
    "ax.set_aspect('equal')\n",
    "ax.set_xlabel(r'$x\\; (\\mu\\mathsf{m})$', fontsize=10)\n",
    "ax.set_ylabel(r'$y\\; (\\mu\\mathsf{m})$', fontsize=10)\n",
    "ax.set_xticks(np.r_[-600:601:200])\n",
    "ax.set_yticks(np.r_[-600:601:200])\n",
    "ax.grid(True)\n",
    "\n",
    "_ = (Geometry.Emitter & r).fetch('e_center_x', 'e_center_y', 'e_norm_x', 'e_norm_y')\n",
    "for x, y, nx, ny in zip(*_):\n",
    "    ax.plot((x, x+30*nx), (y, y+30*ny), 'g-', alpha=0.2, lw=1)\n",
    "\n",
    "_ = (Geometry.Detector & r).fetch('d_center_x', 'd_center_y', 'd_norm_x', 'd_norm_y')\n",
    "for x, y, nx, ny in zip(*_):\n",
    "    ax.plot((x, x+30*nx), (y, y+30*ny), 'k-', alpha=0.2)\n",
    "    \n",
    "ax = axx[1]\n",
    "\n",
    "ax.set_aspect('equal')\n",
    "ax.set_xlabel(r'$y\\; (\\mu\\mathsf{m})$', fontsize=10)\n",
    "ax.set_ylabel(r'$z\\; (\\mu\\mathsf{m})$', fontsize=10)\n",
    "ax.grid(True)\n",
    "\n",
    "_ = (Geometry.Emitter & r).fetch('e_center_y', 'e_center_z', 'e_norm_y', 'e_norm_z')\n",
    "for y, z, ny, nz in zip(*_):\n",
    "    ax.plot((y, y+30*ny), (z, z+30*nz), 'g-', lw=1)\n",
    "\n",
    "_ = (Geometry.Detector & r).fetch('d_center_y', 'd_center_z', 'd_norm_y', 'd_norm_z')\n",
    "for y, z, ny, nz in zip(*_):\n",
    "    ax.plot((y, y+30*ny), (z, z+30*nz), 'k-', lw=1)\n",
    "\n",
    "fig.suptitle('Design {design}'.format(**r))\n",
    "\n",
    "fig.savefig('geometry-4.pdf')"
   ]
  },
  {
   "cell_type": "code",
   "execution_count": 44,
   "metadata": {},
   "outputs": [
    {
     "data": {
      "text/plain": [
       "{(0.0, -1.0, 0.0)}"
      ]
     },
     "execution_count": 44,
     "metadata": {},
     "output_type": "execute_result"
    }
   ],
   "source": [
    "set(zip(*(Geometry.Emitter & r).fetch('e_norm_x', 'e_norm_y', 'e_norm_z')))"
   ]
  },
  {
   "cell_type": "code",
   "execution_count": 45,
   "metadata": {},
   "outputs": [
    {
     "data": {
      "text/plain": [
       "{(0.0, -1.0, 0.0)}"
      ]
     },
     "execution_count": 45,
     "metadata": {},
     "output_type": "execute_result"
    }
   ],
   "source": [
    "set(zip(*(Geometry.Detector & r).fetch('d_norm_x', 'd_norm_y', 'd_norm_z')))"
   ]
  },
  {
   "cell_type": "code",
   "execution_count": 46,
   "metadata": {},
   "outputs": [],
   "source": [
    "!open geometry-4.pdf"
   ]
  },
  {
   "cell_type": "code",
   "execution_count": 47,
   "metadata": {},
   "outputs": [
    {
     "data": {
      "text/plain": [
       "850"
      ]
     },
     "execution_count": 47,
     "metadata": {},
     "output_type": "execute_result"
    }
   ],
   "source": [
    "len(set(zip(*(Geometry.Emitter & r).fetch('e_center_x', 'e_center_y', 'e_center_z'))))"
   ]
  },
  {
   "cell_type": "code",
   "execution_count": 48,
   "metadata": {},
   "outputs": [
    {
     "data": {
      "text/plain": [
       "825"
      ]
     },
     "execution_count": 48,
     "metadata": {},
     "output_type": "execute_result"
    }
   ],
   "source": [
    "len(set(zip(*(Geometry.Detector & r).fetch('d_center_x', 'd_center_y', 'd_center_z'))))"
   ]
  },
  {
   "cell_type": "code",
   "execution_count": 49,
   "metadata": {},
   "outputs": [
    {
     "data": {
      "text/plain": [
       "33.0"
      ]
     },
     "execution_count": 49,
     "metadata": {},
     "output_type": "execute_result"
    }
   ],
   "source": [
    "825/25"
   ]
  },
  {
   "cell_type": "code",
   "execution_count": 50,
   "metadata": {},
   "outputs": [],
   "source": [
    "a = np.array(list(set((Geometry.Detector & r).fetch('d_center_z'))))"
   ]
  },
  {
   "cell_type": "code",
   "execution_count": 51,
   "metadata": {},
   "outputs": [],
   "source": [
    "a.sort()"
   ]
  },
  {
   "cell_type": "code",
   "execution_count": 52,
   "metadata": {},
   "outputs": [],
   "source": [
    "a = np.array(list(set((Geometry.Emitter & r).fetch('e_center_z'))))"
   ]
  },
  {
   "cell_type": "code",
   "execution_count": 53,
   "metadata": {},
   "outputs": [
    {
     "data": {
      "text/plain": [
       "(5.0, 995.0)"
      ]
     },
     "execution_count": 53,
     "metadata": {},
     "output_type": "execute_result"
    }
   ],
   "source": [
    "a.min(), a.max()"
   ]
  },
  {
   "cell_type": "code",
   "execution_count": 55,
   "metadata": {},
   "outputs": [
    {
     "data": {
      "image/svg+xml": [
       "<svg height=\"169pt\" viewBox=\"0.00 0.00 325.00 169.00\" width=\"325pt\" xmlns=\"http://www.w3.org/2000/svg\" xmlns:xlink=\"http://www.w3.org/1999/xlink\">\n",
       "<g class=\"graph\" id=\"graph0\" transform=\"scale(1 1) rotate(0) translate(4 165)\">\n",
       "<polygon fill=\"white\" points=\"-4,4 -4,-165 321,-165 321,4 -4,4\" stroke=\"transparent\"/>\n",
       "<!-- Geometry.Shank -->\n",
       "<g class=\"node\" id=\"node1\">\n",
       "<title>Geometry.Shank</title>\n",
       "<g id=\"a_node1\"><a xlink:title=\"→ Geometry\r",
       "shank                \r",
       "------------------------------\r",
       "shank_x              \r",
       "shank_y              \r",
       "\">\n",
       "<polygon fill=\"transparent\" points=\"89,-19 0,-19 0,0 89,0 89,-19\" stroke=\"transparent\"/>\n",
       "<text font-family=\"arial\" font-size=\"10.00\" text-anchor=\"start\" text-decoration=\"underline\" x=\"8\" y=\"-8\">Geometry.Shank</text>\n",
       "</a>\n",
       "</g>\n",
       "</g>\n",
       "<!-- DField -->\n",
       "<g class=\"node\" id=\"node2\">\n",
       "<title>DField</title>\n",
       "<g id=\"a_node2\"><a xlink:title=\"→ DSim\r",
       "------------------------------\r",
       "volume               \r",
       "max_value            \r",
       "total_photons        \r",
       "INDEX (volume)\r",
       "\">\n",
       "<ellipse cx=\"243.5\" cy=\"-72.5\" fill=\"#ff0000\" fill-opacity=\"0.125490\" rx=\"13\" ry=\"13\" stroke=\"#ff0000\" stroke-opacity=\"0.125490\"/>\n",
       "<text fill=\"#7f0000\" fill-opacity=\"0.627451\" font-family=\"arial\" font-size=\"12.00\" text-anchor=\"middle\" x=\"243.5\" y=\"-69.4\">DField</text>\n",
       "</a>\n",
       "</g>\n",
       "</g>\n",
       "<!-- Geometry.Detector -->\n",
       "<g class=\"node\" id=\"node3\">\n",
       "<title>Geometry.Detector</title>\n",
       "<g id=\"a_node3\"><a xlink:title=\"→ Geometry\r",
       "detector             \r",
       "------------------------------\r",
       "d_center_x           \r",
       "d_center_y           \r",
       "d_center_z           \r",
       "d_norm_x             \r",
       "d_norm_y             \r",
       "d_norm_z             \r",
       "d_top_x              \r",
       "d_top_y              \r",
       "d_top_z              \r",
       "d_height             \r",
       "d_width              \r",
       "d_thick              \r",
       "\">\n",
       "<polygon fill=\"transparent\" points=\"206,-19 107,-19 107,0 206,0 206,-19\" stroke=\"transparent\"/>\n",
       "<text font-family=\"arial\" font-size=\"10.00\" text-anchor=\"start\" text-decoration=\"underline\" x=\"115\" y=\"-8\">Geometry.Detector</text>\n",
       "</a>\n",
       "</g>\n",
       "</g>\n",
       "<!-- Geometry.Emitter -->\n",
       "<g class=\"node\" id=\"node4\">\n",
       "<title>Geometry.Emitter</title>\n",
       "<g id=\"a_node4\"><a xlink:title=\"→ Geometry\r",
       "emitter              \r",
       "------------------------------\r",
       "e_center_x           \r",
       "e_center_y           \r",
       "e_center_z           \r",
       "e_norm_x             \r",
       "e_norm_y             \r",
       "e_norm_z             \r",
       "e_top_x              \r",
       "e_top_y              \r",
       "e_top_z              \r",
       "e_height             \r",
       "e_width              \r",
       "e_thick              \r",
       "\">\n",
       "<polygon fill=\"transparent\" points=\"317,-19 224,-19 224,0 317,0 317,-19\" stroke=\"transparent\"/>\n",
       "<text font-family=\"arial\" font-size=\"10.00\" text-anchor=\"start\" text-decoration=\"underline\" x=\"232\" y=\"-8\">Geometry.Emitter</text>\n",
       "</a>\n",
       "</g>\n",
       "</g>\n",
       "<!-- Design -->\n",
       "<g class=\"node\" id=\"node5\">\n",
       "<title>Design</title>\n",
       "<g id=\"a_node5\"><a xlink:title=\"design               \r",
       "------------------------------\r",
       "design_title         \r",
       "design_description   \r",
       "design_path          \r",
       "geometry_file        \r",
       "center_offset        \r",
       "\">\n",
       "<polygon fill=\"#000000\" fill-opacity=\"0.125490\" points=\"133,-161 86,-161 86,-126 133,-126 133,-161\" stroke=\"transparent\"/>\n",
       "<text font-family=\"arial\" font-size=\"10.00\" text-anchor=\"start\" text-decoration=\"underline\" x=\"94\" y=\"-142\">Design</text>\n",
       "</a>\n",
       "</g>\n",
       "</g>\n",
       "<!-- Technical -->\n",
       "<g class=\"node\" id=\"node6\">\n",
       "<title>Technical</title>\n",
       "<g id=\"a_node6\"><a xlink:title=\"→ Design\r",
       "------------------------------\r",
       "max_emitter_power    \r",
       "dark_photon_rate     \r",
       "\">\n",
       "<ellipse cx=\"61.5\" cy=\"-72.5\" fill=\"#ff0000\" fill-opacity=\"0.125490\" rx=\"13\" ry=\"13\" stroke=\"#ff0000\" stroke-opacity=\"0.125490\"/>\n",
       "<text fill=\"#7f0000\" fill-opacity=\"0.627451\" font-family=\"arial\" font-size=\"12.00\" text-anchor=\"middle\" x=\"61.5\" y=\"-69.4\">Technical</text>\n",
       "</a>\n",
       "</g>\n",
       "</g>\n",
       "<!-- Design&#45;&gt;Technical -->\n",
       "<g class=\"edge\" id=\"edge1\">\n",
       "<title>Design-&gt;Technical</title>\n",
       "<path d=\"M97.88,-125.8C88.78,-112.71 76.41,-94.93 68.69,-83.84\" fill=\"none\" stroke=\"#000000\" stroke-opacity=\"0.250980\" stroke-width=\"2\"/>\n",
       "</g>\n",
       "<!-- Geometry -->\n",
       "<g class=\"node\" id=\"node7\">\n",
       "<title>Geometry</title>\n",
       "<g id=\"a_node7\"><a xlink:title=\"→ Design\r",
       "\">\n",
       "<ellipse cx=\"156.5\" cy=\"-72.5\" fill=\"#00007f\" fill-opacity=\"0.250980\" rx=\"42.5\" ry=\"17.5\" stroke=\"#00007f\" stroke-opacity=\"0.250980\"/>\n",
       "<text fill=\"#00007f\" fill-opacity=\"0.627451\" font-family=\"arial\" font-size=\"12.00\" text-anchor=\"middle\" x=\"156.5\" y=\"-69.4\">Geometry</text>\n",
       "</a>\n",
       "</g>\n",
       "</g>\n",
       "<!-- Design&#45;&gt;Geometry -->\n",
       "<g class=\"edge\" id=\"edge2\">\n",
       "<title>Design-&gt;Geometry</title>\n",
       "<path d=\"M120.88,-125.8C128.38,-114.79 138.14,-100.45 145.55,-89.57\" fill=\"none\" stroke=\"#000000\" stroke-opacity=\"0.250980\" stroke-width=\"2\"/>\n",
       "</g>\n",
       "<!-- Geometry&#45;&gt;Geometry.Shank -->\n",
       "<g class=\"edge\" id=\"edge3\">\n",
       "<title>Geometry-&gt;Geometry.Shank</title>\n",
       "<path d=\"M131.92,-58.11C110.16,-46.26 79.03,-29.31 60.39,-19.15\" fill=\"none\" stroke=\"#000000\" stroke-opacity=\"0.250980\" stroke-width=\"0.75\"/>\n",
       "</g>\n",
       "<!-- Geometry&#45;&gt;Geometry.Detector -->\n",
       "<g class=\"edge\" id=\"edge4\">\n",
       "<title>Geometry-&gt;Geometry.Detector</title>\n",
       "<path d=\"M156.5,-54.83C156.5,-43.26 156.5,-28.32 156.5,-19.08\" fill=\"none\" stroke=\"#000000\" stroke-opacity=\"0.250980\" stroke-width=\"0.75\"/>\n",
       "</g>\n",
       "<!-- Geometry&#45;&gt;Geometry.Emitter -->\n",
       "<g class=\"edge\" id=\"edge5\">\n",
       "<title>Geometry-&gt;Geometry.Emitter</title>\n",
       "<path d=\"M181.24,-58.26C203.5,-46.35 235.56,-29.2 254.59,-19.02\" fill=\"none\" stroke=\"#000000\" stroke-opacity=\"0.250980\" stroke-width=\"0.75\"/>\n",
       "</g>\n",
       "<!-- DSim -->\n",
       "<g class=\"node\" id=\"node8\">\n",
       "<title>DSim</title>\n",
       "<g id=\"a_node8\"><a xlink:title=\"dsim                 \r",
       "------------------------------\r",
       "dsim_description     \r",
       "detector_type=&quot;one-sided&quot; \r",
       "detector_width=10.00 \r",
       "detector_height=10.00 \r",
       "anisotropy=0.88      \r",
       "absorption_length=14000 \r",
       "scatter_length=100   \r",
       "volume_dimx=1000     \r",
       "volume_dimy=1000     \r",
       "volume_dimz=1000     \r",
       "pitch=2.2            \r",
       "\">\n",
       "<polygon fill=\"#000000\" fill-opacity=\"0.125490\" points=\"264,-161 223,-161 223,-126 264,-126 264,-161\" stroke=\"transparent\"/>\n",
       "<text font-family=\"arial\" font-size=\"10.00\" text-anchor=\"start\" text-decoration=\"underline\" x=\"231\" y=\"-142\">DSim</text>\n",
       "</a>\n",
       "</g>\n",
       "</g>\n",
       "<!-- DSim&#45;&gt;DField -->\n",
       "<g class=\"edge\" id=\"edge6\">\n",
       "<title>DSim-&gt;DField</title>\n",
       "<path d=\"M243.5,-125.8C243.5,-113.35 243.5,-96.66 243.5,-85.51\" fill=\"none\" stroke=\"#000000\" stroke-opacity=\"0.250980\" stroke-width=\"2\"/>\n",
       "</g>\n",
       "</g>\n",
       "</svg>"
      ],
      "text/plain": [
       "<datajoint.diagram.Diagram at 0x139319588>"
      ]
     },
     "execution_count": 55,
     "metadata": {},
     "output_type": "execute_result"
    }
   ],
   "source": [
    "schema.spawn_missing_classes()\n",
    "dj.Diagram(schema)"
   ]
  },
  {
   "cell_type": "code",
   "execution_count": 57,
   "metadata": {},
   "outputs": [
    {
     "data": {
      "text/html": [
       "\n",
       "        \n",
       "        <style type=\"text/css\">\n",
       "            .Relation{\n",
       "                border-collapse:collapse;\n",
       "            }\n",
       "            .Relation th{\n",
       "                background: #A0A0A0; color: #ffffff; padding:4px; border:#f0e0e0 1px solid;\n",
       "                font-weight: normal; font-family: monospace; font-size: 100%;\n",
       "            }\n",
       "            .Relation td{\n",
       "                padding:4px; border:#f0e0e0 1px solid; font-size:100%;\n",
       "            }\n",
       "            .Relation tr:nth-child(odd){\n",
       "                background: #ffffff;\n",
       "            }\n",
       "            .Relation tr:nth-child(even){\n",
       "                background: #f3f1ff;\n",
       "            }\n",
       "            /* Tooltip container */\n",
       "            .djtooltip {\n",
       "            }\n",
       "            /* Tooltip text */\n",
       "            .djtooltip .djtooltiptext {\n",
       "                visibility: hidden;\n",
       "                width: 120px;\n",
       "                background-color: black;\n",
       "                color: #fff;\n",
       "                text-align: center;\n",
       "                padding: 5px 0;\n",
       "                border-radius: 6px;\n",
       "                /* Position the tooltip text - see examples below! */\n",
       "                position: absolute;\n",
       "                z-index: 1;\n",
       "            }\n",
       "            #primary {\n",
       "                font-weight: bold;\n",
       "                color: black;\n",
       "            }\n",
       "\n",
       "            #nonprimary {\n",
       "                font-weight: normal;\n",
       "                color: white;\n",
       "            }\n",
       "\n",
       "            /* Show the tooltip text when you mouse over the tooltip container */\n",
       "            .djtooltip:hover .djtooltiptext {\n",
       "                visibility: visible;\n",
       "            }\n",
       "        </style>\n",
       "        \n",
       "        <b>subtable of Geometry</b>\n",
       "            <div style=\"max-height:1000px;max-width:1500px;overflow:auto;\">\n",
       "            <table border=\"1\" class=\"Relation\">\n",
       "                <thead> <tr style=\"text-align: right;\"> <th> <div class=\"djtooltip\">\n",
       "                                <p id=\"primary\">design</p>\n",
       "                                <span class=\"djtooltiptext\">design number</span>\n",
       "                            </div></th><th><div class=\"djtooltip\">\n",
       "                                <p id=\"primary\">detector</p>\n",
       "                                <span class=\"djtooltiptext\"></span>\n",
       "                            </div></th><th><div class=\"djtooltip\">\n",
       "                                <p id=\"nonprimary\">d_center_x</p>\n",
       "                                <span class=\"djtooltiptext\">um</span>\n",
       "                            </div></th><th><div class=\"djtooltip\">\n",
       "                                <p id=\"nonprimary\">d_center_y</p>\n",
       "                                <span class=\"djtooltiptext\">um</span>\n",
       "                            </div></th><th><div class=\"djtooltip\">\n",
       "                                <p id=\"nonprimary\">d_center_z</p>\n",
       "                                <span class=\"djtooltiptext\">um</span>\n",
       "                            </div></th><th><div class=\"djtooltip\">\n",
       "                                <p id=\"nonprimary\">d_norm_x</p>\n",
       "                                <span class=\"djtooltiptext\"></span>\n",
       "                            </div></th><th><div class=\"djtooltip\">\n",
       "                                <p id=\"nonprimary\">d_norm_y</p>\n",
       "                                <span class=\"djtooltiptext\"></span>\n",
       "                            </div></th><th><div class=\"djtooltip\">\n",
       "                                <p id=\"nonprimary\">d_norm_z</p>\n",
       "                                <span class=\"djtooltiptext\"></span>\n",
       "                            </div></th><th><div class=\"djtooltip\">\n",
       "                                <p id=\"nonprimary\">d_top_x</p>\n",
       "                                <span class=\"djtooltiptext\"></span>\n",
       "                            </div></th><th><div class=\"djtooltip\">\n",
       "                                <p id=\"nonprimary\">d_top_y</p>\n",
       "                                <span class=\"djtooltiptext\"></span>\n",
       "                            </div></th><th><div class=\"djtooltip\">\n",
       "                                <p id=\"nonprimary\">d_top_z</p>\n",
       "                                <span class=\"djtooltiptext\"></span>\n",
       "                            </div></th><th><div class=\"djtooltip\">\n",
       "                                <p id=\"nonprimary\">d_height</p>\n",
       "                                <span class=\"djtooltiptext\">um</span>\n",
       "                            </div></th><th><div class=\"djtooltip\">\n",
       "                                <p id=\"nonprimary\">d_width</p>\n",
       "                                <span class=\"djtooltiptext\">um</span>\n",
       "                            </div></th><th><div class=\"djtooltip\">\n",
       "                                <p id=\"nonprimary\">d_thick</p>\n",
       "                                <span class=\"djtooltiptext\">um</span>\n",
       "                            </div> </th> </tr> </thead>\n",
       "                <tbody> <tr> <td>1</td>\n",
       "<td>0</td>\n",
       "<td>32.5</td>\n",
       "<td>-190.5</td>\n",
       "<td>175.0</td>\n",
       "<td>-0.0</td>\n",
       "<td>1.0</td>\n",
       "<td>0.0</td>\n",
       "<td>-0.0</td>\n",
       "<td>1.0</td>\n",
       "<td>0.0</td>\n",
       "<td>50.0</td>\n",
       "<td>10.0</td>\n",
       "<td>2.0</td></tr><tr><td>1</td>\n",
       "<td>1</td>\n",
       "<td>32.5</td>\n",
       "<td>-190.5</td>\n",
       "<td>125.0</td>\n",
       "<td>-0.0</td>\n",
       "<td>1.0</td>\n",
       "<td>0.0</td>\n",
       "<td>-0.0</td>\n",
       "<td>1.0</td>\n",
       "<td>0.0</td>\n",
       "<td>50.0</td>\n",
       "<td>10.0</td>\n",
       "<td>2.0</td></tr><tr><td>1</td>\n",
       "<td>2</td>\n",
       "<td>32.5</td>\n",
       "<td>-190.5</td>\n",
       "<td>75.0</td>\n",
       "<td>-0.0</td>\n",
       "<td>1.0</td>\n",
       "<td>0.0</td>\n",
       "<td>-0.0</td>\n",
       "<td>1.0</td>\n",
       "<td>0.0</td>\n",
       "<td>50.0</td>\n",
       "<td>10.0</td>\n",
       "<td>2.0</td></tr><tr><td>1</td>\n",
       "<td>3</td>\n",
       "<td>32.5</td>\n",
       "<td>-190.5</td>\n",
       "<td>25.0</td>\n",
       "<td>-0.0</td>\n",
       "<td>1.0</td>\n",
       "<td>0.0</td>\n",
       "<td>-0.0</td>\n",
       "<td>1.0</td>\n",
       "<td>0.0</td>\n",
       "<td>50.0</td>\n",
       "<td>10.0</td>\n",
       "<td>2.0</td></tr><tr><td>1</td>\n",
       "<td>4</td>\n",
       "<td>-32.5</td>\n",
       "<td>-209.5</td>\n",
       "<td>175.0</td>\n",
       "<td>0.0</td>\n",
       "<td>-1.0</td>\n",
       "<td>-0.0</td>\n",
       "<td>0.0</td>\n",
       "<td>-1.0</td>\n",
       "<td>-0.0</td>\n",
       "<td>50.0</td>\n",
       "<td>10.0</td>\n",
       "<td>2.0</td></tr><tr><td>1</td>\n",
       "<td>5</td>\n",
       "<td>-32.5</td>\n",
       "<td>-209.5</td>\n",
       "<td>125.0</td>\n",
       "<td>0.0</td>\n",
       "<td>-1.0</td>\n",
       "<td>-0.0</td>\n",
       "<td>0.0</td>\n",
       "<td>-1.0</td>\n",
       "<td>-0.0</td>\n",
       "<td>50.0</td>\n",
       "<td>10.0</td>\n",
       "<td>2.0</td></tr><tr><td>1</td>\n",
       "<td>6</td>\n",
       "<td>-32.5</td>\n",
       "<td>-209.5</td>\n",
       "<td>75.0</td>\n",
       "<td>0.0</td>\n",
       "<td>-1.0</td>\n",
       "<td>-0.0</td>\n",
       "<td>0.0</td>\n",
       "<td>-1.0</td>\n",
       "<td>-0.0</td>\n",
       "<td>50.0</td>\n",
       "<td>10.0</td>\n",
       "<td>2.0</td></tr><tr><td>1</td>\n",
       "<td>7</td>\n",
       "<td>-32.5</td>\n",
       "<td>-209.5</td>\n",
       "<td>25.0</td>\n",
       "<td>0.0</td>\n",
       "<td>-1.0</td>\n",
       "<td>-0.0</td>\n",
       "<td>0.0</td>\n",
       "<td>-1.0</td>\n",
       "<td>-0.0</td>\n",
       "<td>50.0</td>\n",
       "<td>10.0</td>\n",
       "<td>2.0</td></tr><tr><td>1</td>\n",
       "<td>8</td>\n",
       "<td>32.5</td>\n",
       "<td>-190.5</td>\n",
       "<td>225.0</td>\n",
       "<td>-0.0</td>\n",
       "<td>1.0</td>\n",
       "<td>0.0</td>\n",
       "<td>-0.0</td>\n",
       "<td>1.0</td>\n",
       "<td>0.0</td>\n",
       "<td>50.0</td>\n",
       "<td>10.0</td>\n",
       "<td>2.0</td></tr><tr><td>1</td>\n",
       "<td>9</td>\n",
       "<td>32.5</td>\n",
       "<td>-190.5</td>\n",
       "<td>275.0</td>\n",
       "<td>-0.0</td>\n",
       "<td>1.0</td>\n",
       "<td>0.0</td>\n",
       "<td>-0.0</td>\n",
       "<td>1.0</td>\n",
       "<td>0.0</td>\n",
       "<td>50.0</td>\n",
       "<td>10.0</td>\n",
       "<td>2.0</td></tr><tr><td>1</td>\n",
       "<td>10</td>\n",
       "<td>32.5</td>\n",
       "<td>-190.5</td>\n",
       "<td>325.0</td>\n",
       "<td>-0.0</td>\n",
       "<td>1.0</td>\n",
       "<td>0.0</td>\n",
       "<td>-0.0</td>\n",
       "<td>1.0</td>\n",
       "<td>0.0</td>\n",
       "<td>50.0</td>\n",
       "<td>10.0</td>\n",
       "<td>2.0</td></tr><tr><td>1</td>\n",
       "<td>11</td>\n",
       "<td>32.5</td>\n",
       "<td>-190.5</td>\n",
       "<td>375.0</td>\n",
       "<td>-0.0</td>\n",
       "<td>1.0</td>\n",
       "<td>0.0</td>\n",
       "<td>-0.0</td>\n",
       "<td>1.0</td>\n",
       "<td>0.0</td>\n",
       "<td>50.0</td>\n",
       "<td>10.0</td>\n",
       "<td>2.0</td> </tr> </tbody>\n",
       "            </table>\n",
       "            <p>...</p>\n",
       "            <p>Total: 1938</p></div>\n",
       "            "
      ],
      "text/plain": [
       "*design    *detector    d_center_x     d_center_y     d_center_z     d_norm_x     d_norm_y     d_norm_z     d_top_x     d_top_y     d_top_z     d_height     d_width     d_thick    \n",
       "+--------+ +----------+ +------------+ +------------+ +------------+ +----------+ +----------+ +----------+ +---------+ +---------+ +---------+ +----------+ +---------+ +---------+\n",
       "1          0            32.5           -190.5         175.0          -0.0         1.0          0.0          -0.0        1.0         0.0         50.0         10.0        2.0        \n",
       "1          1            32.5           -190.5         125.0          -0.0         1.0          0.0          -0.0        1.0         0.0         50.0         10.0        2.0        \n",
       "1          2            32.5           -190.5         75.0           -0.0         1.0          0.0          -0.0        1.0         0.0         50.0         10.0        2.0        \n",
       "1          3            32.5           -190.5         25.0           -0.0         1.0          0.0          -0.0        1.0         0.0         50.0         10.0        2.0        \n",
       "1          4            -32.5          -209.5         175.0          0.0          -1.0         -0.0         0.0         -1.0        -0.0        50.0         10.0        2.0        \n",
       "1          5            -32.5          -209.5         125.0          0.0          -1.0         -0.0         0.0         -1.0        -0.0        50.0         10.0        2.0        \n",
       "1          6            -32.5          -209.5         75.0           0.0          -1.0         -0.0         0.0         -1.0        -0.0        50.0         10.0        2.0        \n",
       "1          7            -32.5          -209.5         25.0           0.0          -1.0         -0.0         0.0         -1.0        -0.0        50.0         10.0        2.0        \n",
       "1          8            32.5           -190.5         225.0          -0.0         1.0          0.0          -0.0        1.0         0.0         50.0         10.0        2.0        \n",
       "1          9            32.5           -190.5         275.0          -0.0         1.0          0.0          -0.0        1.0         0.0         50.0         10.0        2.0        \n",
       "1          10           32.5           -190.5         325.0          -0.0         1.0          0.0          -0.0        1.0         0.0         50.0         10.0        2.0        \n",
       "1          11           32.5           -190.5         375.0          -0.0         1.0          0.0          -0.0        1.0         0.0         50.0         10.0        2.0        \n",
       "   ...\n",
       " (Total: 1938)"
      ]
     },
     "execution_count": 57,
     "metadata": {},
     "output_type": "execute_result"
    }
   ],
   "source": [
    "Geometry.Detector()"
   ]
  },
  {
   "cell_type": "code",
   "execution_count": 63,
   "metadata": {},
   "outputs": [
    {
     "data": {
      "text/plain": [
       "[0, 45, 90, 135, 180, 225, 270, 315]"
      ]
     },
     "execution_count": 63,
     "metadata": {},
     "output_type": "execute_result"
    }
   ],
   "source": [
    "sorted(np.r_[:135*8:135] % 360)"
   ]
  },
  {
   "cell_type": "code",
   "execution_count": null,
   "metadata": {},
   "outputs": [],
   "source": []
  }
 ],
 "metadata": {
  "kernelspec": {
   "display_name": "Python 3",
   "language": "python",
   "name": "python3"
  },
  "language_info": {
   "codemirror_mode": {
    "name": "ipython",
    "version": 3
   },
   "file_extension": ".py",
   "mimetype": "text/x-python",
   "name": "python",
   "nbconvert_exporter": "python",
   "pygments_lexer": "ipython3",
   "version": "3.7.3"
  }
 },
 "nbformat": 4,
 "nbformat_minor": 4
}
