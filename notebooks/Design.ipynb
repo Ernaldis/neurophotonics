{
 "cells": [
  {
   "cell_type": "code",
   "execution_count": 1,
   "metadata": {},
   "outputs": [],
   "source": [
    "%matplotlib inline\n",
    "from matplotlib import pyplot as plt\n",
    "import numpy as np"
   ]
  },
  {
   "cell_type": "code",
   "execution_count": 2,
   "metadata": {},
   "outputs": [],
   "source": [
    "import datajoint as dj\n",
    "import pathlib\n",
    "import itertools\n",
    "import re\n",
    "import tqdm"
   ]
  },
  {
   "cell_type": "code",
   "execution_count": 3,
   "metadata": {},
   "outputs": [
    {
     "name": "stdout",
     "output_type": "stream",
     "text": [
      "Connecting dimitri@localhost:3306\n"
     ]
    }
   ],
   "source": [
    "from photonics.design import Design, Geometry"
   ]
  },
  {
   "cell_type": "code",
   "execution_count": 4,
   "metadata": {},
   "outputs": [],
   "source": [
    "schema = dj.schema('photonics')\n",
    "schema.spawn_missing_classes()"
   ]
  },
  {
   "cell_type": "code",
   "execution_count": 7,
   "metadata": {},
   "outputs": [
    {
     "data": {
      "text/html": [
       "\n",
       "        \n",
       "        <style type=\"text/css\">\n",
       "            .Relation{\n",
       "                border-collapse:collapse;\n",
       "            }\n",
       "            .Relation th{\n",
       "                background: #A0A0A0; color: #ffffff; padding:4px; border:#f0e0e0 1px solid;\n",
       "                font-weight: normal; font-family: monospace; font-size: 100%;\n",
       "            }\n",
       "            .Relation td{\n",
       "                padding:4px; border:#f0e0e0 1px solid; font-size:100%;\n",
       "            }\n",
       "            .Relation tr:nth-child(odd){\n",
       "                background: #ffffff;\n",
       "            }\n",
       "            .Relation tr:nth-child(even){\n",
       "                background: #f3f1ff;\n",
       "            }\n",
       "            /* Tooltip container */\n",
       "            .djtooltip {\n",
       "            }\n",
       "            /* Tooltip text */\n",
       "            .djtooltip .djtooltiptext {\n",
       "                visibility: hidden;\n",
       "                width: 120px;\n",
       "                background-color: black;\n",
       "                color: #fff;\n",
       "                text-align: center;\n",
       "                padding: 5px 0;\n",
       "                border-radius: 6px;\n",
       "                /* Position the tooltip text - see examples below! */\n",
       "                position: absolute;\n",
       "                z-index: 1;\n",
       "            }\n",
       "            #primary {\n",
       "                font-weight: bold;\n",
       "                color: black;\n",
       "            }\n",
       "\n",
       "            #nonprimary {\n",
       "                font-weight: normal;\n",
       "                color: white;\n",
       "            }\n",
       "\n",
       "            /* Show the tooltip text when you mouse over the tooltip container */\n",
       "            .djtooltip:hover .djtooltiptext {\n",
       "                visibility: visible;\n",
       "            }\n",
       "        </style>\n",
       "        \n",
       "        <b></b>\n",
       "            <div style=\"max-height:1000px;max-width:1500px;overflow:auto;\">\n",
       "            <table border=\"1\" class=\"Relation\">\n",
       "                <thead> <tr style=\"text-align: right;\"> <th> <div class=\"djtooltip\">\n",
       "                                <p id=\"primary\">sample</p>\n",
       "                                <span class=\"djtooltiptext\"></span>\n",
       "                            </div></th><th><div class=\"djtooltip\">\n",
       "                                <p id=\"nonprimary\">density</p>\n",
       "                                <span class=\"djtooltiptext\">cells per cubic mm</span>\n",
       "                            </div> </th> </tr> </thead>\n",
       "                <tbody> <tr> <td>0</td>\n",
       "<td>1000</td></tr><tr><td>1</td>\n",
       "<td>3000</td></tr><tr><td>2</td>\n",
       "<td>5000</td></tr><tr><td>3</td>\n",
       "<td>10000</td></tr><tr><td>4</td>\n",
       "<td>20000</td></tr><tr><td>5</td>\n",
       "<td>35000</td></tr><tr><td>6</td>\n",
       "<td>50000</td></tr><tr><td>7</td>\n",
       "<td>75000</td></tr><tr><td>8</td>\n",
       "<td>100000</td> </tr> </tbody>\n",
       "            </table>\n",
       "            \n",
       "            <p>Total: 9</p></div>\n",
       "            "
      ],
      "text/plain": [
       "*sample    density    \n",
       "+--------+ +---------+\n",
       "0          1000       \n",
       "1          3000       \n",
       "2          5000       \n",
       "3          10000      \n",
       "4          20000      \n",
       "5          35000      \n",
       "6          50000      \n",
       "7          75000      \n",
       "8          100000     \n",
       " (Total: 9)"
      ]
     },
     "execution_count": 7,
     "metadata": {},
     "output_type": "execute_result"
    }
   ],
   "source": [
    "Sample()"
   ]
  },
  {
   "cell_type": "code",
   "execution_count": 5,
   "metadata": {},
   "outputs": [
    {
     "name": "stderr",
     "output_type": "stream",
     "text": [
      "0it [00:00, ?it/s]\n"
     ]
    }
   ],
   "source": [
    "Geometry.populate(display_progress=True)"
   ]
  },
  {
   "cell_type": "code",
   "execution_count": null,
   "metadata": {},
   "outputs": [],
   "source": [
    "set(zip(*(Geometry.Emitter & 'design=1').fetch('e_norm_x', 'e_norm_y', 'e_norm_z')))"
   ]
  },
  {
   "cell_type": "markdown",
   "metadata": {},
   "source": [
    "# Design 1 Geometry"
   ]
  },
  {
   "cell_type": "code",
   "execution_count": null,
   "metadata": {},
   "outputs": [],
   "source": [
    "r = {'design': 1}\n",
    "fig, axx = plt.subplots(1, 2, figsize=(8,4))\n",
    "\n",
    "ax = axx[0]\n",
    "\n",
    "ax.set_aspect('equal')\n",
    "ax.set_xlabel(r'$x\\; (\\mu\\mathsf{m})$', fontsize=10)\n",
    "ax.set_ylabel(r'$y\\; (\\mu\\mathsf{m})$', fontsize=10)\n",
    "ax.set_xticks(np.r_[-600:601:200])\n",
    "ax.set_yticks(np.r_[-600:601:200])\n",
    "ax.grid(True)\n",
    "\n",
    "_ = (Geometry.Emitter & 'design=1').fetch('e_center_x', 'e_center_y', 'e_norm_x', 'e_norm_y')\n",
    "for x, y, nx, ny in zip(*_):\n",
    "    ax.plot((x, x+30*nx), (y, y+30*ny), 'g', alpha=0.2, lw=0.5)\n",
    "\n",
    "_ = (Geometry.Detector & 'design=1').fetch('d_center_x', 'd_center_y', 'd_norm_x', 'd_norm_y')\n",
    "for x, y, nx, ny in zip(*_):\n",
    "    ax.plot((x, x+30*nx), (y, y+30*ny), 'k', alpha=0.2)\n",
    "\n",
    "\n",
    "ax = axx[1]\n",
    "\n",
    "ax.set_aspect('equal')\n",
    "ax.set_xlabel(r'$y\\; (\\mu\\mathsf{m})$', fontsize=10)\n",
    "ax.set_ylabel(r'$z\\; (\\mu\\mathsf{m})$', fontsize=10)\n",
    "ax.grid(True)\n",
    "\n",
    "_ = (Geometry.Emitter & 'design=1').fetch('e_center_x', 'e_center_z', 'e_norm_x', 'e_norm_z')\n",
    "for x, z, nx, nz in zip(*_):\n",
    "    ax.plot((x, x+30*nx), (z, z+30*nz), 'g', lw=0.5)\n",
    "\n",
    "_ = (Geometry.Detector & 'design=1').fetch('d_center_y', 'd_center_z', 'd_norm_y', 'd_norm_z')\n",
    "for y, z, ny, nz in zip(*_):\n",
    "    ax.plot((y, y+30*ny), (z, z+30*nz), 'k', lw=1)\n",
    "\n",
    "fig.suptitle('Design {design}'.format(**r))\n",
    "\n",
    "\n",
    "fig.savefig('geometry-1.pdf')"
   ]
  },
  {
   "cell_type": "markdown",
   "metadata": {},
   "source": [
    "# Designs 3 and 4 \n",
    "The orientations of pixels (norms) were missing. \n",
    "\n",
    "25 shanks with 34 steerable emitters and 33 detectors"
   ]
  },
  {
   "cell_type": "code",
   "execution_count": null,
   "metadata": {},
   "outputs": [],
   "source": [
    "r = {'design': 4}\n",
    "fig, axx = plt.subplots(1, 2, figsize=(8,4))\n",
    "\n",
    "ax = axx[0]\n",
    "\n",
    "ax.set_aspect('equal')\n",
    "ax.set_xlabel(r'$x\\; (\\mu\\mathsf{m})$', fontsize=10)\n",
    "ax.set_ylabel(r'$y\\; (\\mu\\mathsf{m})$', fontsize=10)\n",
    "ax.set_xticks(np.r_[-600:601:200])\n",
    "ax.set_yticks(np.r_[-600:601:200])\n",
    "ax.grid(True)\n",
    "\n",
    "_ = (Geometry.Emitter & r).fetch('e_center_x', 'e_center_y', 'e_norm_x', 'e_norm_y')\n",
    "for x, y, nx, ny in tqdm.tqdm(zip(*_)):\n",
    "    ax.plot((x, x+30*nx), (y, y+30*ny), 'g-', alpha=0.2, lw=1)\n",
    "\n",
    "_ = (Geometry.Detector & r).fetch('d_center_x', 'd_center_y', 'd_norm_x', 'd_norm_y')\n",
    "_ = set(zip(*_))\n",
    "for x, y, nx, ny in tqdm.tqdm(_):\n",
    "    ax.plot((x, x+30*nx), (y, y+30*ny), 'k-', alpha=0.2)\n",
    "\n",
    "ax = axx[1]\n",
    "\n",
    "ax.set_aspect('equal')\n",
    "ax.set_xlabel(r'$y\\; (\\mu\\mathsf{m})$', fontsize=10)\n",
    "ax.set_ylabel(r'$z\\; (\\mu\\mathsf{m})$', fontsize=10)\n",
    "ax.grid(True)\n",
    "\n",
    "_ = (Geometry.Emitter & r).fetch('e_center_y', 'e_center_z', 'e_norm_y', 'e_norm_z')\n",
    "_ = set(zip(*_))\n",
    "for y, z, ny, nz in tqdm.tqdm(_):\n",
    "    ax.plot((y, y+30*ny), (z, z+30*nz), 'g-', lw=1)\n",
    "\n",
    "_ = (Geometry.Detector & r).fetch('d_center_y', 'd_center_z', 'd_norm_y', 'd_norm_z')\n",
    "_ = set(zip(*_))\n",
    "for y, z, ny, nz in tqdm.tqdm(_):\n",
    "    ax.plot((y, y+30*ny), (z, z+30*nz), 'k-', lw=1)\n",
    "\n",
    "fig.suptitle('Design {design}'.format(**r))\n",
    "\n",
    "fig.savefig('geometry-4.png', dpi=300)"
   ]
  },
  {
   "cell_type": "code",
   "execution_count": null,
   "metadata": {},
   "outputs": [],
   "source": [
    "set(zip(*(Geometry.Emitter & 'design=3').fetch('e_norm_x', 'e_norm_y', 'e_norm_z')))"
   ]
  },
  {
   "cell_type": "code",
   "execution_count": null,
   "metadata": {},
   "outputs": [],
   "source": [
    "set(zip(*(Geometry.Detector & 'design=3').fetch('d_norm_x', 'd_norm_y', 'd_norm_z')))"
   ]
  },
  {
   "cell_type": "code",
   "execution_count": null,
   "metadata": {},
   "outputs": [],
   "source": [
    "z = (Geometry.Detector & 'design=3').fetch('d_center_z')\n",
    "plt.plot(np.cos((z - 5)*np.pi*9/40 + np.pi/16), np.sin((z - 5)*np.pi*9/40 + np.pi/16))\n",
    "plt.axis('equal');"
   ]
  },
  {
   "cell_type": "code",
   "execution_count": null,
   "metadata": {},
   "outputs": [],
   "source": [
    "!open geometry-4.pdf"
   ]
  },
  {
   "cell_type": "code",
   "execution_count": null,
   "metadata": {},
   "outputs": [],
   "source": [
    "len(set(zip(*(Geometry.Emitter & r).fetch('e_center_x', 'e_center_y', 'e_center_z'))))"
   ]
  },
  {
   "cell_type": "code",
   "execution_count": null,
   "metadata": {},
   "outputs": [],
   "source": [
    "len(set(zip(*(Geometry.Detector & r).fetch('d_center_x', 'd_center_y', 'd_center_z'))))"
   ]
  },
  {
   "cell_type": "code",
   "execution_count": null,
   "metadata": {},
   "outputs": [],
   "source": [
    "825/25"
   ]
  },
  {
   "cell_type": "code",
   "execution_count": null,
   "metadata": {},
   "outputs": [],
   "source": [
    "set(zip(*(Geometry.Detector & 'design=1').fetch('d_top_x', 'd_top_y', 'd_top_z')))"
   ]
  },
  {
   "cell_type": "code",
   "execution_count": null,
   "metadata": {},
   "outputs": [],
   "source": [
    "set(zip(*(Geometry.Detector & 'design=1').fetch('d_norm_x', 'd_norm_y', 'd_norm_z')))"
   ]
  },
  {
   "cell_type": "code",
   "execution_count": null,
   "metadata": {},
   "outputs": [],
   "source": [
    "a = np.array(sorted(list(set((Geometry.Emitter & 'design=3').fetch('e_center_z')))))"
   ]
  },
  {
   "cell_type": "code",
   "execution_count": null,
   "metadata": {},
   "outputs": [],
   "source": [
    "np.diff(a)"
   ]
  },
  {
   "cell_type": "code",
   "execution_count": null,
   "metadata": {},
   "outputs": [],
   "source": [
    "schema.spawn_missing_classes()\n",
    "dj.Diagram(schema)"
   ]
  },
  {
   "cell_type": "code",
   "execution_count": null,
   "metadata": {},
   "outputs": [],
   "source": [
    "Geometry.Detector()"
   ]
  },
  {
   "cell_type": "code",
   "execution_count": null,
   "metadata": {},
   "outputs": [],
   "source": [
    "sorted(np.r_[:135*8:135] % 360)"
   ]
  },
  {
   "cell_type": "code",
   "execution_count": null,
   "metadata": {},
   "outputs": [],
   "source": [
    "Geometry.Detector & 'design=1'"
   ]
  },
  {
   "cell_type": "code",
   "execution_count": null,
   "metadata": {},
   "outputs": [],
   "source": [
    "Geometry.Detector"
   ]
  },
  {
   "cell_type": "code",
   "execution_count": null,
   "metadata": {},
   "outputs": [],
   "source": [
    "dj.Diagram(schema)"
   ]
  },
  {
   "cell_type": "code",
   "execution_count": null,
   "metadata": {},
   "outputs": [],
   "source": [
    "Geometry()"
   ]
  },
  {
   "cell_type": "code",
   "execution_count": null,
   "metadata": {},
   "outputs": [],
   "source": [
    "DField * DSim"
   ]
  },
  {
   "cell_type": "code",
   "execution_count": null,
   "metadata": {},
   "outputs": [],
   "source": [
    "Geometry.drop()"
   ]
  },
  {
   "cell_type": "code",
   "execution_count": null,
   "metadata": {},
   "outputs": [],
   "source": [
    "dj.Diagram(schema)"
   ]
  },
  {
   "cell_type": "code",
   "execution_count": null,
   "metadata": {},
   "outputs": [],
   "source": [
    "Design()"
   ]
  },
  {
   "cell_type": "code",
   "execution_count": null,
   "metadata": {},
   "outputs": [],
   "source": [
    "np.r_[22.5:1080:135] % 360"
   ]
  },
  {
   "cell_type": "code",
   "execution_count": null,
   "metadata": {},
   "outputs": [],
   "source": [
    "360*3"
   ]
  },
  {
   "cell_type": "code",
   "execution_count": null,
   "metadata": {},
   "outputs": [],
   "source": [
    "min(np.array(sorted(list(set((Geometry.Emitter & 'design=4').fetch('e_center_z'))))))"
   ]
  },
  {
   "cell_type": "code",
   "execution_count": null,
   "metadata": {},
   "outputs": [],
   "source": [
    "ls"
   ]
  },
  {
   "cell_type": "code",
   "execution_count": null,
   "metadata": {},
   "outputs": [],
   "source": [
    "!open geometry-4.png"
   ]
  },
  {
   "cell_type": "code",
   "execution_count": null,
   "metadata": {},
   "outputs": [],
   "source": []
  }
 ],
 "metadata": {
  "kernelspec": {
   "display_name": "Python 3",
   "language": "python",
   "name": "python3"
  },
  "language_info": {
   "codemirror_mode": {
    "name": "ipython",
    "version": 3
   },
   "file_extension": ".py",
   "mimetype": "text/x-python",
   "name": "python",
   "nbconvert_exporter": "python",
   "pygments_lexer": "ipython3",
   "version": "3.7.3"
  }
 },
 "nbformat": 4,
 "nbformat_minor": 4
}
